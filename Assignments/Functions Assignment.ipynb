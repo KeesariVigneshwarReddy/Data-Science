{
 "cells": [
  {
   "cell_type": "markdown",
   "metadata": {},
   "source": [
    "# Question 1"
   ]
  },
  {
   "cell_type": "markdown",
   "metadata": {},
   "source": [
    "def key word is used in python to make functions"
   ]
  },
  {
   "cell_type": "code",
   "execution_count": 1,
   "metadata": {},
   "outputs": [],
   "source": [
    "def odd_List() :\n",
    "    myList: list = []\n",
    "    for i in range(1, 26) :\n",
    "        if i % 2 != 0 :\n",
    "            myList.append(i)\n",
    "    return myList"
   ]
  },
  {
   "cell_type": "code",
   "execution_count": 2,
   "metadata": {},
   "outputs": [
    {
     "name": "stdout",
     "output_type": "stream",
     "text": [
      "[1, 3, 5, 7, 9, 11, 13, 15, 17, 19, 21, 23, 25]\n"
     ]
    }
   ],
   "source": [
    "myList: list = odd_List()\n",
    "print(myList)"
   ]
  },
  {
   "cell_type": "markdown",
   "metadata": {},
   "source": [
    "# Question 2"
   ]
  },
  {
   "cell_type": "markdown",
   "metadata": {},
   "source": [
    "We use *args when we don't know how many arguments we are passing to function. \n",
    "\n",
    "For example in test function we do not know what we are passing. So we use args.\n",
    "\n",
    "args is not a keyword. "
   ]
  },
  {
   "cell_type": "code",
   "execution_count": 5,
   "metadata": {},
   "outputs": [
    {
     "name": "stdout",
     "output_type": "stream",
     "text": [
      "(1,)\n",
      "(2, 8, 9)\n",
      "(5, 'Hello', [1, 2, 3], (0, 9, 8), {22: 'Vignesh', 45: 'Rudransh'})\n"
     ]
    }
   ],
   "source": [
    "def test(*args) :\n",
    "    return args\n",
    "# args is a tuple\n",
    "print(test(1))\n",
    "print(test(2, 8, 9))\n",
    "print(test(5, \"Hello\", [1, 2, 3], (0, 9, 8), {22 : \"Vignesh\", 45 : \"Rudransh\"}))"
   ]
  },
  {
   "cell_type": "markdown",
   "metadata": {},
   "source": [
    "We use **kwargs when we want to given inputs as key and value pair. We don't know how many arguments we are passing to function. \n",
    "\n",
    "For example in test function we do not know what we are passing. So we use **kwargs.\n",
    "\n",
    "kwargs is not a keyword. "
   ]
  },
  {
   "cell_type": "code",
   "execution_count": 15,
   "metadata": {},
   "outputs": [
    {
     "name": "stdout",
     "output_type": "stream",
     "text": [
      "{'a': 5, 'b': 'Hello', 'c': [1, 2, 3], 'd': (0, 9, 8), 'e': {22: 'Vignesh', 45: 'Rudransh'}}\n"
     ]
    }
   ],
   "source": [
    "def test1(**kwargs) :\n",
    "    return kwargs\n",
    "# kwargs is dictionary\n",
    "print(test1(a = 5, b = \"Hello\", c = [1, 2, 3], d = (0, 9, 8), e = {22 : \"Vignesh\", 45 : \"Rudransh\"}))"
   ]
  },
  {
   "cell_type": "markdown",
   "metadata": {},
   "source": [
    "# Question 3"
   ]
  },
  {
   "cell_type": "markdown",
   "metadata": {},
   "source": [
    "An iterator in python is an object which is used to access data in a iterable objects. \n",
    "\n",
    "Some examples of an iterable objects are list, tuple, dictionary."
   ]
  },
  {
   "cell_type": "code",
   "execution_count": 1,
   "metadata": {},
   "outputs": [
    {
     "name": "stdout",
     "output_type": "stream",
     "text": [
      "100\n",
      "89.9\n",
      "99\n"
     ]
    }
   ],
   "source": [
    "# normal iteration\n",
    "myList = [\"100\", 89.90, 99]\n",
    "for i in myList :\n",
    "    print(i)"
   ]
  },
  {
   "cell_type": "code",
   "execution_count": 5,
   "metadata": {},
   "outputs": [
    {
     "name": "stdout",
     "output_type": "stream",
     "text": [
      "<list_iterator object at 0x7feb0631cdc0> 100 89.9 99\n"
     ]
    }
   ],
   "source": [
    "# Using iterator\n",
    "i = iter(myList)\n",
    "print(i, next(i), next(i), next(i))"
   ]
  },
  {
   "cell_type": "markdown",
   "metadata": {},
   "source": [
    "next(i) returns the object at the index and move one step forward in list."
   ]
  },
  {
   "cell_type": "markdown",
   "metadata": {},
   "source": [
    "# Question 4"
   ]
  },
  {
   "cell_type": "markdown",
   "metadata": {},
   "source": [
    "If body of a normal function has yeild key word then it becomes a generator function. With the help of next() function we can generator the next value.\n",
    "\n",
    "yield key word consists of return value of generator function."
   ]
  },
  {
   "cell_type": "code",
   "execution_count": 11,
   "metadata": {},
   "outputs": [
    {
     "name": "stdout",
     "output_type": "stream",
     "text": [
      "1\n"
     ]
    }
   ],
   "source": [
    "def generatorFunction() :\n",
    "    yield 1\n",
    "\n",
    "obj = generatorFunction()\n",
    "print(next(obj))"
   ]
  },
  {
   "cell_type": "markdown",
   "metadata": {},
   "source": [
    "# Question 5"
   ]
  },
  {
   "cell_type": "code",
   "execution_count": 21,
   "metadata": {},
   "outputs": [
    {
     "name": "stdout",
     "output_type": "stream",
     "text": [
      "2\n",
      "3\n",
      "5\n",
      "7\n",
      "11\n",
      "13\n",
      "17\n",
      "19\n",
      "23\n",
      "29\n",
      "31\n",
      "37\n",
      "41\n",
      "43\n",
      "47\n",
      "53\n",
      "59\n",
      "61\n",
      "67\n"
     ]
    }
   ],
   "source": [
    "import math\n",
    "\n",
    "def isPrime(n : int) :\n",
    "    for i in range(2, (int)(n ** 0.5) + 1) :\n",
    "        if n % i == 0 :\n",
    "            return False\n",
    "    return True\n",
    "\n",
    "def generatePrimes() :\n",
    "    for i in range(2, 1001) :\n",
    "        if isPrime(i) == True :\n",
    "            yield i\n",
    "\n",
    "obj = generatePrimes()\n",
    "\n",
    "for i in range(1, 20) :\n",
    "    print(next(obj))"
   ]
  }
 ],
 "metadata": {
  "kernelspec": {
   "display_name": "Python 3.8.10 64-bit",
   "language": "python",
   "name": "python3"
  },
  "language_info": {
   "codemirror_mode": {
    "name": "ipython",
    "version": 3
   },
   "file_extension": ".py",
   "mimetype": "text/x-python",
   "name": "python",
   "nbconvert_exporter": "python",
   "pygments_lexer": "ipython3",
   "version": "3.8.10"
  },
  "orig_nbformat": 4,
  "vscode": {
   "interpreter": {
    "hash": "e7370f93d1d0cde622a1f8e1c04877d8463912d04d973331ad4851f04de6915a"
   }
  }
 },
 "nbformat": 4,
 "nbformat_minor": 2
}
