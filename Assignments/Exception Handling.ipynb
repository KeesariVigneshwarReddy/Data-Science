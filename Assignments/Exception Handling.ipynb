{
 "cells": [
  {
   "cell_type": "markdown",
   "metadata": {},
   "source": [
    "# Question 1\n",
    "What is an Exception in python? Write the difference between Exceptions and Syntax errors ?"
   ]
  },
  {
   "cell_type": "markdown",
   "metadata": {},
   "source": [
    "An Exception is an unwanted or unexpected event that occurs at runtime and may spoil flow the code.\n",
    "\n",
    "A Syntax error is some syntactical issue with the program. These stop the execution of program. It is no where related to Exception."
   ]
  },
  {
   "cell_type": "markdown",
   "metadata": {},
   "source": [
    "# Question 2\n",
    "What happens when an exception is not handled? Explain with an example."
   ]
  },
  {
   "cell_type": "markdown",
   "metadata": {},
   "source": [
    "There is a default catch mechanism in python. If there is an exception thrown by a program, then default catch mechanism catches it.\n",
    "\n",
    "Following steps are included :\n",
    "1. Stop the execution of program.\n",
    "2. Shift the control to default catch mechanism.\n",
    "3. DCM identifies the type of exception and display in terminal."
   ]
  },
  {
   "cell_type": "code",
   "execution_count": 3,
   "metadata": {},
   "outputs": [
    {
     "ename": "ZeroDivisionError",
     "evalue": "division by zero",
     "output_type": "error",
     "traceback": [
      "\u001b[0;31m---------------------------------------------------------------------------\u001b[0m",
      "\u001b[0;31mZeroDivisionError\u001b[0m                         Traceback (most recent call last)",
      "Cell \u001b[0;32mIn[3], line 1\u001b[0m\n\u001b[0;32m----> 1\u001b[0m a \u001b[38;5;241m=\u001b[39m \u001b[38;5;241;43m10\u001b[39;49m\u001b[43m \u001b[49m\u001b[38;5;241;43m/\u001b[39;49m\u001b[43m \u001b[49m\u001b[38;5;241;43m0\u001b[39;49m\n\u001b[1;32m      2\u001b[0m \u001b[38;5;28mprint\u001b[39m(\u001b[38;5;124m\"\u001b[39m\u001b[38;5;124mHello world\u001b[39m\u001b[38;5;124m\"\u001b[39m)\n",
      "\u001b[0;31mZeroDivisionError\u001b[0m: division by zero"
     ]
    }
   ],
   "source": [
    "a = 10 / 0\n",
    "print(\"Hello world\")"
   ]
  },
  {
   "cell_type": "code",
   "execution_count": 4,
   "metadata": {},
   "outputs": [
    {
     "name": "stdout",
     "output_type": "stream",
     "text": [
      "division by zero\n",
      "Hello World\n"
     ]
    }
   ],
   "source": [
    "try :\n",
    "    a = 10 / 0\n",
    "except Exception as e :\n",
    "    print(e)\n",
    "print(\"Hello World\")"
   ]
  },
  {
   "cell_type": "markdown",
   "metadata": {},
   "source": [
    "In the first case, the flow of program was terminated as there was an exception occuring.\n",
    "\n",
    "In the second case, We have handled the exception. The control is with program."
   ]
  },
  {
   "cell_type": "markdown",
   "metadata": {},
   "source": [
    "# Question 3"
   ]
  },
  {
   "cell_type": "markdown",
   "metadata": {},
   "source": []
  },
  {
   "cell_type": "markdown",
   "metadata": {},
   "source": [
    "try except statement is used to catch and handle the exceptions"
   ]
  },
  {
   "cell_type": "code",
   "execution_count": 5,
   "metadata": {},
   "outputs": [
    {
     "name": "stdout",
     "output_type": "stream",
     "text": [
      "division by zero\n"
     ]
    }
   ],
   "source": [
    "try :\n",
    "    x = 10 / 0\n",
    "except ZeroDivisionError as e :\n",
    "    print(e)"
   ]
  },
  {
   "cell_type": "markdown",
   "metadata": {},
   "source": [
    "# Question 4"
   ]
  },
  {
   "cell_type": "code",
   "execution_count": 14,
   "metadata": {},
   "outputs": [],
   "source": [
    "try :\n",
    "    # risky code\n",
    "    pass\n",
    "\n",
    "except Exception as e :\n",
    "    print(e)\n",
    "\n",
    "else :\n",
    "    # No exception has occurred\n",
    "    pass\n",
    "\n",
    "finally :\n",
    "    # Runs at any cost\n",
    "    pass"
   ]
  },
  {
   "cell_type": "markdown",
   "metadata": {},
   "source": [
    "# A\n",
    "Try and else\n",
    "\n",
    "If there is no expection occuring in try block then else block excutes"
   ]
  },
  {
   "cell_type": "code",
   "execution_count": 9,
   "metadata": {},
   "outputs": [
    {
     "name": "stdout",
     "output_type": "stream",
     "text": [
      "[Errno 2] No such file or directory: 'java.txt'\n"
     ]
    }
   ],
   "source": [
    "try :\n",
    "    with open(\"java.txt\", \"r\") :\n",
    "        file_txt = readLines()\n",
    "except IOError as e :\n",
    "    print(e)\n",
    "else :\n",
    "    print(\"There is no exception in try block\")"
   ]
  },
  {
   "cell_type": "code",
   "execution_count": 10,
   "metadata": {},
   "outputs": [
    {
     "name": "stdout",
     "output_type": "stream",
     "text": [
      "There is no exception in try block\n"
     ]
    }
   ],
   "source": [
    "try :\n",
    "    y = 10 / 2\n",
    "except IOError as e :\n",
    "    print(e)\n",
    "except ZeroDivisionError as e :\n",
    "    print(e)\n",
    "except Exception as e :\n",
    "    print(e)\n",
    "else :\n",
    "    print(\"There is no exception in try block\")"
   ]
  },
  {
   "cell_type": "markdown",
   "metadata": {},
   "source": [
    "# B\n",
    "finally\n",
    "\n",
    "finally executes in any case either exception occurs or not occurs"
   ]
  },
  {
   "cell_type": "code",
   "execution_count": 15,
   "metadata": {},
   "outputs": [
    {
     "name": "stdout",
     "output_type": "stream",
     "text": [
      "division by zero\n",
      "I will run at any cost\n"
     ]
    }
   ],
   "source": [
    "try :\n",
    "    a = 10 / 0\n",
    "\n",
    "except ZeroDivisionError as e :\n",
    "    print(e)\n",
    "\n",
    "else :\n",
    "    print(\"No exception in try block\")\n",
    "\n",
    "finally :\n",
    "    print(\"I will run at any cost\")"
   ]
  },
  {
   "cell_type": "code",
   "execution_count": 16,
   "metadata": {},
   "outputs": [
    {
     "name": "stdout",
     "output_type": "stream",
     "text": [
      "No exception in try block\n",
      "I will run at any cost\n"
     ]
    }
   ],
   "source": [
    "try :\n",
    "    a = 10 / 2\n",
    "\n",
    "except ZeroDivisionError as e :\n",
    "    print(e)\n",
    "\n",
    "else :\n",
    "    print(\"No exception in try block\")\n",
    "\n",
    "finally :\n",
    "    print(\"I will run at any cost\")"
   ]
  },
  {
   "cell_type": "markdown",
   "metadata": {},
   "source": [
    "# C\n",
    "raise\n",
    "\n",
    "It is like throw key word in java. If we want to raise an exception in the flow of program we use \"raise\". It is used to raise exceptions to Exception Handler and can further resolved in call stack."
   ]
  },
  {
   "cell_type": "code",
   "execution_count": 17,
   "metadata": {},
   "outputs": [
    {
     "name": "stdout",
     "output_type": "stream",
     "text": [
      "Hello\n"
     ]
    },
    {
     "ename": "Exception",
     "evalue": "",
     "output_type": "error",
     "traceback": [
      "\u001b[0;31m---------------------------------------------------------------------------\u001b[0m",
      "\u001b[0;31mException\u001b[0m                                 Traceback (most recent call last)",
      "Cell \u001b[0;32mIn[17], line 2\u001b[0m\n\u001b[1;32m      1\u001b[0m \u001b[38;5;28mprint\u001b[39m(\u001b[38;5;124m\"\u001b[39m\u001b[38;5;124mHello\u001b[39m\u001b[38;5;124m\"\u001b[39m)\n\u001b[0;32m----> 2\u001b[0m \u001b[38;5;28;01mraise\u001b[39;00m(\u001b[38;5;167;01mException\u001b[39;00m)\n\u001b[1;32m      3\u001b[0m \u001b[38;5;28mprint\u001b[39m(\u001b[38;5;124m\"\u001b[39m\u001b[38;5;124mWorld\u001b[39m\u001b[38;5;124m\"\u001b[39m)\n",
      "\u001b[0;31mException\u001b[0m: "
     ]
    }
   ],
   "source": [
    "print(\"Hello\")\n",
    "raise(Exception)\n",
    "print(\"World\")"
   ]
  },
  {
   "cell_type": "code",
   "execution_count": 20,
   "metadata": {},
   "outputs": [
    {
     "name": "stdout",
     "output_type": "stream",
     "text": [
      "Hello\n",
      "\n",
      "World\n"
     ]
    }
   ],
   "source": [
    "try :\n",
    "    print(\"Hello\")\n",
    "    raise(Exception)\n",
    "\n",
    "except Exception as e :\n",
    "    print(e)\n",
    "print(\"World\")"
   ]
  },
  {
   "cell_type": "markdown",
   "metadata": {},
   "source": [
    "# Question 5, 6"
   ]
  },
  {
   "cell_type": "markdown",
   "metadata": {},
   "source": [
    "The inbuilt exception types are : \n",
    "1. SyntaxError\n",
    "2. TypeError\n",
    "3. NameError\n",
    "4. IndexError\n",
    "5. KeyError\n",
    "6. ValueError\n",
    "7. AttributeError\n",
    "8. IOError\n",
    "9. ZeroDivisionError\n",
    "10. ImportError"
   ]
  },
  {
   "cell_type": "markdown",
   "metadata": {},
   "source": [
    "If our use case is strict with respect to some terms, then we can introduce custom exceptions. \n",
    "\n",
    "Like in a college the roll number should start with YYUBBNNN then we can create a custom exception and handle if there is an invalid entry"
   ]
  },
  {
   "cell_type": "code",
   "execution_count": 24,
   "metadata": {},
   "outputs": [
    {
     "name": "stdout",
     "output_type": "stream",
     "text": [
      "CustomException occurred\n"
     ]
    }
   ],
   "source": [
    "class CustomException(Exception) :\n",
    "    \n",
    "    def __str__(self) :\n",
    "        return \"CustomException occurred\"\n",
    "\n",
    "try :\n",
    "    raise(CustomException)\n",
    "except CustomException as e :\n",
    "    print(e)"
   ]
  }
 ],
 "metadata": {
  "kernelspec": {
   "display_name": "Python 3.8.10 64-bit",
   "language": "python",
   "name": "python3"
  },
  "language_info": {
   "codemirror_mode": {
    "name": "ipython",
    "version": 3
   },
   "file_extension": ".py",
   "mimetype": "text/x-python",
   "name": "python",
   "nbconvert_exporter": "python",
   "pygments_lexer": "ipython3",
   "version": "3.8.10"
  },
  "orig_nbformat": 4,
  "vscode": {
   "interpreter": {
    "hash": "e7370f93d1d0cde622a1f8e1c04877d8463912d04d973331ad4851f04de6915a"
   }
  }
 },
 "nbformat": 4,
 "nbformat_minor": 2
}
