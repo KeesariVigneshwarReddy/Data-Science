{
 "cells": [
  {
   "cell_type": "markdown",
   "metadata": {},
   "source": [
    "# Question 1\n",
    "Explain Class and Object with respect to Object-Oriented Programming. Give a suitable example."
   ]
  },
  {
   "cell_type": "markdown",
   "metadata": {},
   "source": [
    "A class is a skeleton of an object. It consists of states (Instance variables) and properties (Functions) of an object. \n",
    "\n",
    "An object is an instance of a class."
   ]
  },
  {
   "cell_type": "code",
   "execution_count": 7,
   "metadata": {},
   "outputs": [],
   "source": [
    "class Car :\n",
    "    color : str\n",
    "    model : str\n",
    "    number : int\n",
    "\n",
    "    def highWay_riding(self) :\n",
    "        print(\"Car is on highway\")\n",
    "\n",
    "    def city(self) :\n",
    "        print(\"Car is in hyderabad\")"
   ]
  },
  {
   "cell_type": "code",
   "execution_count": 9,
   "metadata": {},
   "outputs": [
    {
     "name": "stdout",
     "output_type": "stream",
     "text": [
      "Car is on highway\n",
      "Car is in hyderabad\n",
      "red Swift TS00BX000\n"
     ]
    }
   ],
   "source": [
    "myCar = Car()\n",
    "\n",
    "myCar.color = \"red\"\n",
    "myCar.model = \"Swift\"\n",
    "myCar.number = \"TS00BX000\"\n",
    "\n",
    "myCar.highWay_riding()\n",
    "myCar.city()\n",
    "\n",
    "print(myCar.color, myCar.model, myCar.number)"
   ]
  },
  {
   "cell_type": "markdown",
   "metadata": {},
   "source": [
    "# Question 2\n",
    "Name the four pillars of OOPs."
   ]
  },
  {
   "cell_type": "markdown",
   "metadata": {},
   "source": [
    "1. Abstraction\n",
    "2. Encapsulation\n",
    "3. Inheritance\n",
    "4. Polymorphism"
   ]
  },
  {
   "cell_type": "markdown",
   "metadata": {},
   "source": [
    "### Abstraction\n",
    "Hiding all the unnecessary details to user and showing important details. It like giving the idea but not the implementation.\n",
    "\n",
    "If there is a bank and it has multiple locations. Then the main headquarters gives what functions should be implemented but not the actual implementation.\n",
    "\n",
    "It is possible with abstract classes."
   ]
  },
  {
   "cell_type": "markdown",
   "metadata": {},
   "source": [
    "### Encapsulation\n",
    "It is also called as data hiding. Wrapping all the IVs, functions, constructors, static variables into one class or one single unit. To access the IVs we have to use getters, setters. There is no direct access."
   ]
  },
  {
   "cell_type": "markdown",
   "metadata": {},
   "source": [
    "### Inheritance\n",
    "It is analogically same as we get inheritance from our parent. Consider a parent class and child class. In programming terms we say that child class extends parents class. child class gets all the IVs, function, constructors of parent class by default."
   ]
  },
  {
   "cell_type": "markdown",
   "metadata": {},
   "source": [
    "### Polymorphism\n",
    "It is doing the same work in different ways.\n",
    "1. Compile time polymorphism : method overloading\n",
    "2. Run time polymorphism : method overriding\n",
    "\n",
    "###### method overloading\n",
    "With respect to the parameters of a function, different functions are implemented\n",
    "\n",
    "###### method overriding\n",
    "Lets say there is a parent class and a child class. Child function is not happy with the implementation of some functions of parent class. So child overrides the function and implements in its own terms."
   ]
  },
  {
   "cell_type": "markdown",
   "metadata": {},
   "source": [
    "# Question 3\n",
    "Explain why the __init__() function is used. Give a suitable example."
   ]
  },
  {
   "cell_type": "markdown",
   "metadata": {},
   "source": [
    "It is used in class. Well it is the constructor of the class. \n",
    "\n",
    "If there is no constructor in class then there is a deafult constructor. It initialized the IVs with default values.\n",
    "\n",
    "If we want to initialize IVs with custom values then we use constructors"
   ]
  },
  {
   "cell_type": "code",
   "execution_count": 18,
   "metadata": {},
   "outputs": [],
   "source": [
    "class Student :\n",
    "\n",
    "    attributes : dict\n",
    "    name : str\n",
    "    roll : int\n",
    "    branch : str\n",
    "    CGPA : float\n",
    "\n",
    "    def __init__(self, **kwargs):\n",
    "        self.attributes = kwargs\n",
    "        for key, value in kwargs.items():\n",
    "            setattr(self, key, value)\n",
    "    \n",
    "    def getDetails(self) :\n",
    "        return f\"Name : {self.name}\\nRoll : {self.roll}\\nBranch : {self.branch}\\nCGPA : {self.CGPA}\\n\""
   ]
  },
  {
   "cell_type": "code",
   "execution_count": 22,
   "metadata": {},
   "outputs": [
    {
     "name": "stdout",
     "output_type": "stream",
     "text": [
      "{'name': 'Keesari Vigneshwar Reddy', 'roll': 52, 'branch': 'CCE', 'CGPA': 7.99}\n",
      "Keesari Vigneshwar Reddy 52 CCE 7.99\n"
     ]
    }
   ],
   "source": [
    "myStudent = Student(name = \"Keesari Vigneshwar Reddy\", roll = 52, branch = \"CCE\", CGPA = 7.99)\n",
    "myStudent.getDetails()\n",
    "print(myStudent.attributes)\n",
    "print(myStudent.name, myStudent.roll, myStudent.branch, myStudent.CGPA)"
   ]
  },
  {
   "cell_type": "markdown",
   "metadata": {},
   "source": [
    "# Question 4\n",
    "Why self is used in OOPs?"
   ]
  },
  {
   "cell_type": "markdown",
   "metadata": {},
   "source": [
    "self is used in a class to refer the current object. In the previous question we have created constructor, function. \n",
    "\n",
    "While creating the object, we called this function. To refer the current object it is important to use self. \n",
    "\n",
    "If there was no self then the interpreter would not realize which object you are referring to."
   ]
  },
  {
   "cell_type": "markdown",
   "metadata": {},
   "source": [
    "# Question 5\n",
    "What is inheritance? Give an example for each type of inheritance."
   ]
  },
  {
   "cell_type": "markdown",
   "metadata": {},
   "source": [
    "##### Inheritance\n",
    "It is analogically same as we get inheritance from our parent. Consider a parent class and child class. In programming terms we say that child class extends parents class. child class gets all the IVs, function, constructors of parent class by default.\n",
    "\n",
    "Types :\n",
    "1. Single level\n",
    "2. Multi level \n",
    "3. Heirarchial\n",
    "4. Hybrid\n",
    "5. Multiple inheritance"
   ]
  }
 ],
 "metadata": {
  "kernelspec": {
   "display_name": "Python 3.8.10 64-bit",
   "language": "python",
   "name": "python3"
  },
  "language_info": {
   "codemirror_mode": {
    "name": "ipython",
    "version": 3
   },
   "file_extension": ".py",
   "mimetype": "text/x-python",
   "name": "python",
   "nbconvert_exporter": "python",
   "pygments_lexer": "ipython3",
   "version": "3.8.10"
  },
  "orig_nbformat": 4,
  "vscode": {
   "interpreter": {
    "hash": "e7370f93d1d0cde622a1f8e1c04877d8463912d04d973331ad4851f04de6915a"
   }
  }
 },
 "nbformat": 4,
 "nbformat_minor": 2
}
