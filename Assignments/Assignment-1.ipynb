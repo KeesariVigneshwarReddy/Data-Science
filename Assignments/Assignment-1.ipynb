{
 "cells": [
  {
   "cell_type": "markdown",
   "metadata": {},
   "source": [
    "# Question 1"
   ]
  },
  {
   "cell_type": "code",
   "execution_count": 5,
   "metadata": {},
   "outputs": [
    {
     "name": "stdout",
     "output_type": "stream",
     "text": [
      "<class 'str'>\n",
      "<class 'list'>\n",
      "<class 'float'>\n",
      "<class 'tuple'>\n"
     ]
    }
   ],
   "source": [
    "# (i)\n",
    "a = \"Vignesh\"\n",
    "print(type(a))\n",
    "\n",
    "# (ii)\n",
    "b = [\"Vignesh\", 7.63, 14, \"LNMIIT\"]\n",
    "print(type(b))\n",
    "\n",
    "# (iii)\n",
    "c = 7.63\n",
    "print(type(c))\n",
    "\n",
    "# (iv)\n",
    "d = (\"Vignesh\", 7.63, 14, \"LNMIIT\")\n",
    "print(type(d))"
   ]
  },
  {
   "cell_type": "markdown",
   "metadata": {},
   "source": [
    "# Question 2"
   ]
  },
  {
   "cell_type": "code",
   "execution_count": 3,
   "metadata": {},
   "outputs": [],
   "source": [
    "# datatypes\n",
    "# (i)   string\n",
    "# (ii)  string\n",
    "# (iii) list \n",
    "# (iv)  int"
   ]
  },
  {
   "cell_type": "markdown",
   "metadata": {},
   "source": [
    "# Question 3"
   ]
  },
  {
   "cell_type": "code",
   "execution_count": 4,
   "metadata": {},
   "outputs": [
    {
     "name": "stdout",
     "output_type": "stream",
     "text": [
      "1.125 99.0\n"
     ]
    }
   ],
   "source": [
    "\"\"\"\n",
    "(i) /\n",
    "    It is division operator. It used to divide 2 numbers.\n",
    "\"\"\"\n",
    "var1 = 9 / 8\n",
    "var2 = 0.99 / (1 / 100)\n",
    "print(var1, var2)"
   ]
  },
  {
   "cell_type": "code",
   "execution_count": 7,
   "metadata": {},
   "outputs": [
    {
     "name": "stdout",
     "output_type": "stream",
     "text": [
      "1 0.010000000000000009\n"
     ]
    }
   ],
   "source": [
    "\"\"\"\n",
    "(ii) %\n",
    "    It is modulo operator. It gives remainder of a / b as output. a and b are numbers\n",
    "\"\"\"\n",
    "var1 = 9 % 8\n",
    "var2 = 0.99 % 0.98\n",
    "print(var1, var2)"
   ]
  },
  {
   "cell_type": "code",
   "execution_count": 9,
   "metadata": {},
   "outputs": [
    {
     "name": "stdout",
     "output_type": "stream",
     "text": [
      "1.125 1\n"
     ]
    }
   ],
   "source": [
    "\"\"\"\n",
    "(iii) //\n",
    "    It is floor division operator. It used to divide 2 numbers. And floored output value is returned.\n",
    "\"\"\"\n",
    "var = 9 / 8\n",
    "var1 = 9 // 8\n",
    "print(var, var1)"
   ]
  },
  {
   "cell_type": "code",
   "execution_count": 10,
   "metadata": {},
   "outputs": [
    {
     "name": "stdout",
     "output_type": "stream",
     "text": [
      "8 1073741824\n"
     ]
    }
   ],
   "source": [
    "\"\"\"\n",
    "(iv) **\n",
    "    It is exponentiation operator. A ** B gives A to the power B as an output \n",
    "\"\"\"\n",
    "var1 = 2 ** 3\n",
    "var2 = var1 ** 10\n",
    "print(var1, var2)"
   ]
  },
  {
   "cell_type": "markdown",
   "metadata": {},
   "source": [
    "# Question 4"
   ]
  },
  {
   "cell_type": "code",
   "execution_count": 11,
   "metadata": {},
   "outputs": [
    {
     "name": "stdout",
     "output_type": "stream",
     "text": [
      "1 <class 'int'>\n",
      "2 <class 'int'>\n",
      "3 <class 'int'>\n",
      "a <class 'str'>\n",
      "Hello <class 'str'>\n",
      "world <class 'str'>\n",
      "0.987 <class 'float'>\n",
      "(10+4j) <class 'complex'>\n"
     ]
    }
   ],
   "source": [
    "my_choice = [1, 2, 3, 'a', \"Hello\", \"world\", 0.987, 10 + 4j]\n",
    "for i in my_choice :\n",
    "    print(i, type(i))"
   ]
  },
  {
   "cell_type": "markdown",
   "metadata": {},
   "source": [
    "# Question 5"
   ]
  },
  {
   "cell_type": "code",
   "execution_count": 14,
   "metadata": {},
   "outputs": [
    {
     "name": "stdout",
     "output_type": "stream",
     "text": [
      "A is divisible by B\n",
      "It is divisible2 number of times.\n"
     ]
    }
   ],
   "source": [
    "A = int(input())\n",
    "B = int(input())\n",
    "if A % B == 0 :\n",
    "    print(\"A is divisible by B\")\n",
    "    print(f\"It is divisible {int(A / B)} number of times.\")\n",
    "else :\n",
    "    print(\"A is not divisible by B\")"
   ]
  },
  {
   "cell_type": "markdown",
   "metadata": {},
   "source": [
    "# Question 6"
   ]
  },
  {
   "cell_type": "code",
   "execution_count": 17,
   "metadata": {},
   "outputs": [
    {
     "name": "stdout",
     "output_type": "stream",
     "text": [
      "25\n",
      "3\n",
      "6\n",
      "90\n",
      "99\n",
      "66\n",
      "33\n",
      "18\n",
      "90\n",
      "45\n",
      "987\n"
     ]
    }
   ],
   "source": [
    "my_list = [1, 3, 4, 6, 7, 89, 90, 97, 43, 23, 56, 76, 99, 55, 66, 33, 23, 14, 18, 90, 88, 76, 45, 322, 987]\n",
    "print(len(my_list))\n",
    "for i in my_list :\n",
    "    if i % 3 == 0 :\n",
    "        print(i)"
   ]
  },
  {
   "cell_type": "markdown",
   "metadata": {},
   "source": [
    "# Question 7"
   ]
  },
  {
   "cell_type": "markdown",
   "metadata": {},
   "source": [
    "In python every thing is an object. The variable names point to the heap space where memory is allocated to objects. \n",
    "\n",
    "Mutability refers that the object can be changed.\n",
    "\n",
    "Immutability refers that the object cannot be changed. If we try to change it then \n",
    "1. new object will be created in heap space\n",
    "2. the variable points to new object\n",
    "3. old object is destroyed"
   ]
  },
  {
   "cell_type": "code",
   "execution_count": 1,
   "metadata": {},
   "outputs": [
    {
     "name": "stdout",
     "output_type": "stream",
     "text": [
      "10 10\n",
      "15 10\n"
     ]
    }
   ],
   "source": [
    "x = 10\n",
    "y = x\n",
    "print(x, y)\n",
    "x = 15\n",
    "print(x, y)"
   ]
  },
  {
   "cell_type": "code",
   "execution_count": 5,
   "metadata": {},
   "outputs": [],
   "source": [
    "myList = [\"Hello\", 90, 78.90] # Mutable\n",
    "myTuple = (\"Hello\", 90, 78.90) # Immutable\n",
    "myString = \"Codeforces in java\" # Immutable"
   ]
  },
  {
   "cell_type": "code",
   "execution_count": 6,
   "metadata": {},
   "outputs": [
    {
     "name": "stdout",
     "output_type": "stream",
     "text": [
      "['Hello', 90, 78.9]\n",
      "['Hello', 90, 80]\n"
     ]
    }
   ],
   "source": [
    "print(myList)\n",
    "myList[2] = 80\n",
    "print(myList)"
   ]
  },
  {
   "cell_type": "code",
   "execution_count": 7,
   "metadata": {},
   "outputs": [
    {
     "name": "stdout",
     "output_type": "stream",
     "text": [
      "('Hello', 90, 78.9)\n"
     ]
    },
    {
     "ename": "TypeError",
     "evalue": "'tuple' object does not support item assignment",
     "output_type": "error",
     "traceback": [
      "\u001b[0;31m---------------------------------------------------------------------------\u001b[0m",
      "\u001b[0;31mTypeError\u001b[0m                                 Traceback (most recent call last)",
      "Cell \u001b[0;32mIn[7], line 2\u001b[0m\n\u001b[1;32m      1\u001b[0m \u001b[38;5;28mprint\u001b[39m(myTuple)\n\u001b[0;32m----> 2\u001b[0m \u001b[43mmyTuple\u001b[49m\u001b[43m[\u001b[49m\u001b[38;5;241;43m2\u001b[39;49m\u001b[43m]\u001b[49m \u001b[38;5;241m=\u001b[39m \u001b[38;5;241m80\u001b[39m\n\u001b[1;32m      3\u001b[0m \u001b[38;5;28mprint\u001b[39m(myTuple)\n",
      "\u001b[0;31mTypeError\u001b[0m: 'tuple' object does not support item assignment"
     ]
    }
   ],
   "source": [
    "print(myTuple)\n",
    "myTuple[2] = 80\n",
    "print(myTuple)"
   ]
  },
  {
   "cell_type": "code",
   "execution_count": 8,
   "metadata": {},
   "outputs": [
    {
     "ename": "TypeError",
     "evalue": "'str' object does not support item assignment",
     "output_type": "error",
     "traceback": [
      "\u001b[0;31m---------------------------------------------------------------------------\u001b[0m",
      "\u001b[0;31mTypeError\u001b[0m                                 Traceback (most recent call last)",
      "Cell \u001b[0;32mIn[8], line 1\u001b[0m\n\u001b[0;32m----> 1\u001b[0m \u001b[43mmyString\u001b[49m\u001b[43m[\u001b[49m\u001b[38;5;241;43m2\u001b[39;49m\u001b[43m]\u001b[49m \u001b[38;5;241m=\u001b[39m \u001b[38;5;124m'\u001b[39m\u001b[38;5;124mL\u001b[39m\u001b[38;5;124m'\u001b[39m\n",
      "\u001b[0;31mTypeError\u001b[0m: 'str' object does not support item assignment"
     ]
    }
   ],
   "source": [
    "myString[2] = 'L'"
   ]
  }
 ],
 "metadata": {
  "kernelspec": {
   "display_name": "Python 3.8.10 64-bit",
   "language": "python",
   "name": "python3"
  },
  "language_info": {
   "codemirror_mode": {
    "name": "ipython",
    "version": 3
   },
   "file_extension": ".py",
   "mimetype": "text/x-python",
   "name": "python",
   "nbconvert_exporter": "python",
   "pygments_lexer": "ipython3",
   "version": "3.8.10"
  },
  "orig_nbformat": 4,
  "vscode": {
   "interpreter": {
    "hash": "e7370f93d1d0cde622a1f8e1c04877d8463912d04d973331ad4851f04de6915a"
   }
  }
 },
 "nbformat": 4,
 "nbformat_minor": 2
}
