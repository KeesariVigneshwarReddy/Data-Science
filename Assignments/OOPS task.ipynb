{
 "cells": [
  {
   "cell_type": "markdown",
   "metadata": {},
   "source": [
    "# Question 1\n",
    "Create a vehicle class with an init method having instance variables as name_of_vehicle, max_speed\n",
    "and average_of_vehicle."
   ]
  },
  {
   "cell_type": "code",
   "execution_count": 5,
   "metadata": {},
   "outputs": [],
   "source": [
    "class Vehcile :\n",
    "\n",
    "    attributes : dict\n",
    "    name_of_vehcile : str\n",
    "    max_speed : float\n",
    "    average_of_vehcile : float\n",
    "\n",
    "    def __init__(self, **kwargs) :\n",
    "        self.attributes = kwargs\n",
    "        for key, value in kwargs.items() :\n",
    "            setattr(self, key, value)"
   ]
  },
  {
   "cell_type": "markdown",
   "metadata": {},
   "source": [
    "# Question 2\n",
    "Create a child class car from the vehicle class created in Que 1, which will inherit the vehicle class.\n",
    "Create a method named seating_capacity which takes capacity as an argument and returns the name of\n",
    "the vehicle and its seating capacity."
   ]
  },
  {
   "cell_type": "code",
   "execution_count": 6,
   "metadata": {},
   "outputs": [],
   "source": [
    "class Car (Vehcile) :\n",
    "    def seating_capacity(self, capacity) :\n",
    "        return f\"Name of vehcile : {self.name_of_vehcile}\\nSeating Capacity : {capacity}\""
   ]
  },
  {
   "cell_type": "code",
   "execution_count": 7,
   "metadata": {},
   "outputs": [],
   "source": [
    "myVehcile = Vehcile(name_of_vehcile = \"Splender\", max_speed = 100, average_of_vehcile = 40)\n",
    "myCar = Car(name_of_vehcile = \"Ford\", max_speed = 100, average_of_vehcile = 40)"
   ]
  },
  {
   "cell_type": "code",
   "execution_count": 11,
   "metadata": {},
   "outputs": [
    {
     "name": "stdout",
     "output_type": "stream",
     "text": [
      "Name of vehcile : Ford\n",
      "Seating Capacity : 8\n",
      "100\n"
     ]
    }
   ],
   "source": [
    "print(myCar.seating_capacity(8))\n",
    "print(myVehcile.max_speed)"
   ]
  },
  {
   "cell_type": "markdown",
   "metadata": {},
   "source": [
    "# Question 3\n",
    "What is multiple inheritance? Write a python code to demonstrate multiple inheritance."
   ]
  },
  {
   "cell_type": "markdown",
   "metadata": {},
   "source": [
    "There are 2 parent classes and 1 child class. The child class want to extend both the parent classes."
   ]
  },
  {
   "cell_type": "code",
   "execution_count": 17,
   "metadata": {},
   "outputs": [
    {
     "name": "stdout",
     "output_type": "stream",
     "text": [
      "You are in Parent 1\n"
     ]
    }
   ],
   "source": [
    "class Parent1 :\n",
    "\n",
    "    def m(self) :\n",
    "        print(\"You are in Parent 1\")\n",
    "\n",
    "\n",
    "class Parent2 :\n",
    "    def m(self) :\n",
    "        print(\"You are in Parent 2\")\n",
    "\n",
    "class Child (Parent1, Parent2) :\n",
    "    pass\n",
    "\n",
    "myChild = Child()\n",
    "myChild.m()"
   ]
  },
  {
   "cell_type": "markdown",
   "metadata": {},
   "source": [
    "In such case of ambiguity, Parent1's m() is called"
   ]
  },
  {
   "cell_type": "markdown",
   "metadata": {},
   "source": [
    "# Question 4\n",
    "What are getter and setter in python? Create a class and create a getter and a setter method in this class."
   ]
  },
  {
   "cell_type": "markdown",
   "metadata": {},
   "source": [
    "The main motivation of implementing getters and setters is to ensure encapsulation. We do not want to give direct access to IVs to the programmer."
   ]
  },
  {
   "cell_type": "code",
   "execution_count": 22,
   "metadata": {},
   "outputs": [],
   "source": [
    "class Student :\n",
    "\n",
    "    __attributes : dict = None\n",
    "    __name : str = None\n",
    "    __roll : int = None\n",
    "    __branch : str = None\n",
    "    __CGPA : float = None\n",
    "\n",
    "    def __init__(self, **kwargs):\n",
    "        self.attributes = kwargs\n",
    "        for key, value in kwargs.items():\n",
    "            setattr(self, key, value)\n",
    "\n",
    "    def get_attributes(self) :\n",
    "        return self.attributes\n",
    "    \n",
    "    def get_name(self) :\n",
    "        return self.name\n",
    "    \n",
    "    def set_name(self, name : str) :\n",
    "        self.name = name\n",
    "    \n",
    "    def get_roll(self) :\n",
    "        return self.roll\n",
    "    \n",
    "    def set_roll(self, roll : int) :\n",
    "        self.roll = roll\n",
    "\n",
    "    def get_branch(self) :\n",
    "        return self.branch\n",
    "    \n",
    "    def set_branch(self, branch : str) :\n",
    "        self.branch = branch\n",
    "\n",
    "    def get_CGPA(self) :\n",
    "        return self.CGPA\n",
    "    \n",
    "    def set_CGPA(self, CGPA : float) :\n",
    "        self.CGPA = CGPA"
   ]
  },
  {
   "cell_type": "code",
   "execution_count": 23,
   "metadata": {},
   "outputs": [
    {
     "name": "stdout",
     "output_type": "stream",
     "text": [
      "Keesari Vigneshwar Reddy 52 CCE 7.99\n"
     ]
    }
   ],
   "source": [
    "myStudent = Student()\n",
    "\n",
    "myStudent.set_name(\"Keesari Vigneshwar Reddy\")\n",
    "myStudent.set_roll(52)\n",
    "myStudent.set_branch(\"CCE\")\n",
    "myStudent.set_CGPA(7.99)\n",
    "\n",
    "print(myStudent.get_name(), myStudent.get_roll(), myStudent.get_branch(), myStudent.get_CGPA())"
   ]
  },
  {
   "cell_type": "markdown",
   "metadata": {},
   "source": [
    "# Question 5\n",
    "What is method overriding in python? Write a python code to demonstrate method overriding."
   ]
  },
  {
   "cell_type": "markdown",
   "metadata": {},
   "source": [
    "Lets say there is a Parent class and Child class. It is trivial that all the IVs and functions of Parent class are inherited to Child class. \n",
    "\n",
    "Child is not happy with implementation of a function in parent class. So here comes the application of method overriding.\n",
    "\n",
    "Child overrides that method and implements in its terms."
   ]
  },
  {
   "cell_type": "code",
   "execution_count": 28,
   "metadata": {},
   "outputs": [],
   "source": [
    "class Parent :\n",
    "\n",
    "    def fun(self) :\n",
    "        print(\"Child is not happy with implementation of fun()\")\n",
    "    \n",
    "    def fun1(self) :\n",
    "        print(\"Child is happy with implementation of fun1()\")\n",
    "\n",
    "class Child (Parent) :\n",
    "    #Override\n",
    "    def fun(self) :\n",
    "        print(\"Child is happy with implementation of fun()\")\n",
    "\n",
    "    def fun2(self) :\n",
    "        print(\"function of Child\")"
   ]
  },
  {
   "cell_type": "code",
   "execution_count": 29,
   "metadata": {},
   "outputs": [
    {
     "name": "stdout",
     "output_type": "stream",
     "text": [
      "Child is happy with implementation of fun()\n",
      "Child is happy with implementation of fun1()\n",
      "function of Child\n"
     ]
    }
   ],
   "source": [
    "myChild = Child()\n",
    "myChild.fun()\n",
    "myChild.fun1()\n",
    "myChild.fun2()"
   ]
  }
 ],
 "metadata": {
  "kernelspec": {
   "display_name": "Python 3.8.10 64-bit",
   "language": "python",
   "name": "python3"
  },
  "language_info": {
   "codemirror_mode": {
    "name": "ipython",
    "version": 3
   },
   "file_extension": ".py",
   "mimetype": "text/x-python",
   "name": "python",
   "nbconvert_exporter": "python",
   "pygments_lexer": "ipython3",
   "version": "3.8.10"
  },
  "orig_nbformat": 4,
  "vscode": {
   "interpreter": {
    "hash": "e7370f93d1d0cde622a1f8e1c04877d8463912d04d973331ad4851f04de6915a"
   }
  }
 },
 "nbformat": 4,
 "nbformat_minor": 2
}
