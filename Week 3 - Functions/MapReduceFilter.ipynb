{
 "cells": [
  {
   "cell_type": "code",
   "execution_count": 21,
   "id": "1242e326-15a5-47de-9a68-1cc537d7d5d8",
   "metadata": {},
   "outputs": [],
   "source": [
    "L = [1, 2, 3, 4, 5]"
   ]
  },
  {
   "cell_type": "code",
   "execution_count": 22,
   "id": "2a5eeacf-819e-43e9-8703-6c9c49bbbfdc",
   "metadata": {},
   "outputs": [],
   "source": [
    "def test(L) :\n",
    "    n = []\n",
    "    for i in L :\n",
    "        n.append(i**2)\n",
    "    return n"
   ]
  },
  {
   "cell_type": "code",
   "execution_count": 23,
   "id": "b022cf5f-9809-4500-b75c-002cf8e6fab3",
   "metadata": {},
   "outputs": [
    {
     "data": {
      "text/plain": [
       "[1, 4, 9, 16, 25]"
      ]
     },
     "execution_count": 23,
     "metadata": {},
     "output_type": "execute_result"
    }
   ],
   "source": [
    "test(L)"
   ]
  },
  {
   "cell_type": "code",
   "execution_count": 24,
   "id": "92aafd5b-54d6-4c6b-af51-7a03e30b0ad9",
   "metadata": {},
   "outputs": [],
   "source": [
    "def sq(x) :\n",
    "    return x * x;"
   ]
  },
  {
   "cell_type": "code",
   "execution_count": 28,
   "id": "1b6213d8-a8a6-4440-84fe-6c090df605b1",
   "metadata": {},
   "outputs": [
    {
     "data": {
      "text/plain": [
       "[1, 4, 9, 16, 25]"
      ]
     },
     "execution_count": 28,
     "metadata": {},
     "output_type": "execute_result"
    }
   ],
   "source": [
    "# mapper function will automatically map the function sq with all elements in list\n",
    "list(map(sq, L)) "
   ]
  },
  {
   "cell_type": "code",
   "execution_count": 29,
   "id": "e0b5f277-8fd4-425a-8c8d-b5c0acc8cb0b",
   "metadata": {},
   "outputs": [
    {
     "data": {
      "text/plain": [
       "[1, 4, 9, 16, 25]"
      ]
     },
     "execution_count": 29,
     "metadata": {},
     "output_type": "execute_result"
    }
   ],
   "source": [
    "list(map(lambda x : x * x, L))"
   ]
  },
  {
   "cell_type": "code",
   "execution_count": 30,
   "id": "2c606a4a-505f-4e43-8518-0863b206e09f",
   "metadata": {},
   "outputs": [
    {
     "data": {
      "text/plain": [
       "[11, 12, 13, 14, 15]"
      ]
     },
     "execution_count": 30,
     "metadata": {},
     "output_type": "execute_result"
    }
   ],
   "source": [
    "list(map(lambda x : x + 10, L))"
   ]
  },
  {
   "cell_type": "code",
   "execution_count": 31,
   "id": "a7e1d64c-3618-4b59-a7da-b649ba0036f9",
   "metadata": {},
   "outputs": [
    {
     "data": {
      "text/plain": [
       "['1', '2', '3', '4', '5']"
      ]
     },
     "execution_count": 31,
     "metadata": {},
     "output_type": "execute_result"
    }
   ],
   "source": [
    "list(map(lambda x : str(x), L))"
   ]
  },
  {
   "cell_type": "code",
   "execution_count": 32,
   "id": "696f603e-3f0c-4c88-83db-a2e27975f525",
   "metadata": {},
   "outputs": [],
   "source": [
    "L1 = [1, 2, 3, 4, 5]\n",
    "L2 = [6, 7, 8, 9, 10]"
   ]
  },
  {
   "cell_type": "code",
   "execution_count": 33,
   "id": "0d731bb3-1da6-4926-a63b-1682a4d7e2b6",
   "metadata": {},
   "outputs": [
    {
     "data": {
      "text/plain": [
       "[7, 9, 11, 13, 15]"
      ]
     },
     "execution_count": 33,
     "metadata": {},
     "output_type": "execute_result"
    }
   ],
   "source": [
    "list(map(lambda x, y : x + y, L1, L2))"
   ]
  },
  {
   "cell_type": "code",
   "execution_count": 34,
   "id": "beac026b-2ce6-4736-9455-f3a5786e8cf2",
   "metadata": {},
   "outputs": [
    {
     "data": {
      "text/plain": [
       "[7, 9, 11, 13, 15]"
      ]
     },
     "execution_count": 34,
     "metadata": {},
     "output_type": "execute_result"
    }
   ],
   "source": [
    "list(map(lambda x, y : x + y, L1, L2))"
   ]
  },
  {
   "cell_type": "code",
   "execution_count": 35,
   "id": "7030a5f6-7734-45eb-b1a9-b97c1bc5327d",
   "metadata": {},
   "outputs": [
    {
     "data": {
      "text/plain": [
       "['P', 'W', 'S', 'K', 'I', 'L', 'L', 'S']"
      ]
     },
     "execution_count": 35,
     "metadata": {},
     "output_type": "execute_result"
    }
   ],
   "source": [
    "list(map(lambda x : x.upper(), \"pwskills\"))"
   ]
  },
  {
   "cell_type": "code",
   "execution_count": 36,
   "id": "3bb7f269-845e-474d-9993-f6aa1aad1672",
   "metadata": {},
   "outputs": [],
   "source": [
    "from functools import reduce"
   ]
  },
  {
   "cell_type": "code",
   "execution_count": 37,
   "id": "e081e6b8-528f-4504-a3e0-c96ad75138c7",
   "metadata": {},
   "outputs": [],
   "source": [
    "L = [1, 2, 3, 4, 5, 6]"
   ]
  },
  {
   "cell_type": "code",
   "execution_count": 40,
   "id": "0d52ae7f-e783-408a-a092-88281a7ad8d3",
   "metadata": {},
   "outputs": [
    {
     "data": {
      "text/plain": [
       "21"
      ]
     },
     "execution_count": 40,
     "metadata": {},
     "output_type": "execute_result"
    }
   ],
   "source": [
    "# we will get sum of the list\n",
    "reduce(lambda x, y : x + y, L)"
   ]
  },
  {
   "cell_type": "code",
   "execution_count": 41,
   "id": "03e60ac6-e1b1-4746-86e0-0c7d1ba5aee8",
   "metadata": {},
   "outputs": [
    {
     "ename": "TypeError",
     "evalue": "<lambda>() missing 1 required positional argument: 'z'",
     "output_type": "error",
     "traceback": [
      "\u001b[0;31m---------------------------------------------------------------------------\u001b[0m",
      "\u001b[0;31mTypeError\u001b[0m                                 Traceback (most recent call last)",
      "Cell \u001b[0;32mIn[41], line 1\u001b[0m\n\u001b[0;32m----> 1\u001b[0m \u001b[43mreduce\u001b[49m\u001b[43m(\u001b[49m\u001b[38;5;28;43;01mlambda\u001b[39;49;00m\u001b[43m \u001b[49m\u001b[43mx\u001b[49m\u001b[43m,\u001b[49m\u001b[43m \u001b[49m\u001b[43my\u001b[49m\u001b[43m,\u001b[49m\u001b[43m \u001b[49m\u001b[43mz\u001b[49m\u001b[43m \u001b[49m\u001b[43m:\u001b[49m\u001b[43m \u001b[49m\u001b[43mx\u001b[49m\u001b[43m \u001b[49m\u001b[38;5;241;43m+\u001b[39;49m\u001b[43m \u001b[49m\u001b[43my\u001b[49m\u001b[43m \u001b[49m\u001b[38;5;241;43m+\u001b[39;49m\u001b[43m \u001b[49m\u001b[43mz\u001b[49m\u001b[43m,\u001b[49m\u001b[43m \u001b[49m\u001b[43mL\u001b[49m\u001b[43m)\u001b[49m\n",
      "\u001b[0;31mTypeError\u001b[0m: <lambda>() missing 1 required positional argument: 'z'"
     ]
    }
   ],
   "source": [
    "reduce(lambda x, y, z : x + y + z, L)"
   ]
  },
  {
   "cell_type": "code",
   "execution_count": 42,
   "id": "011fda9a-cab9-4270-b904-beb68dd22de1",
   "metadata": {},
   "outputs": [],
   "source": [
    "L = [1, 2, 3, 4, 5, 6, 7]"
   ]
  },
  {
   "cell_type": "code",
   "execution_count": 43,
   "id": "96b3710e-1fc9-49fe-8a77-841cb6eef412",
   "metadata": {},
   "outputs": [
    {
     "ename": "TypeError",
     "evalue": "<lambda>() missing 1 required positional argument: 'z'",
     "output_type": "error",
     "traceback": [
      "\u001b[0;31m---------------------------------------------------------------------------\u001b[0m",
      "\u001b[0;31mTypeError\u001b[0m                                 Traceback (most recent call last)",
      "Cell \u001b[0;32mIn[43], line 1\u001b[0m\n\u001b[0;32m----> 1\u001b[0m \u001b[43mreduce\u001b[49m\u001b[43m(\u001b[49m\u001b[38;5;28;43;01mlambda\u001b[39;49;00m\u001b[43m \u001b[49m\u001b[43mx\u001b[49m\u001b[43m,\u001b[49m\u001b[43m \u001b[49m\u001b[43my\u001b[49m\u001b[43m,\u001b[49m\u001b[43m \u001b[49m\u001b[43mz\u001b[49m\u001b[43m \u001b[49m\u001b[43m:\u001b[49m\u001b[43m \u001b[49m\u001b[43mx\u001b[49m\u001b[43m \u001b[49m\u001b[38;5;241;43m+\u001b[39;49m\u001b[43m \u001b[49m\u001b[43my\u001b[49m\u001b[43m \u001b[49m\u001b[38;5;241;43m+\u001b[39;49m\u001b[43m \u001b[49m\u001b[43mz\u001b[49m\u001b[43m,\u001b[49m\u001b[43m \u001b[49m\u001b[43mL\u001b[49m\u001b[43m)\u001b[49m\n",
      "\u001b[0;31mTypeError\u001b[0m: <lambda>() missing 1 required positional argument: 'z'"
     ]
    }
   ],
   "source": [
    "reduce(lambda x, y, z : x + y + z, L)"
   ]
  },
  {
   "cell_type": "code",
   "execution_count": 44,
   "id": "329f0ad2-a5ac-4704-b5cb-f76fdc890311",
   "metadata": {},
   "outputs": [],
   "source": [
    "# reduce is trying to collapse\n",
    "# if you have pair it is always trying to find next element\n",
    "# in case of three it will not going to find out always\n",
    "# in reduce it is better to take a function which takes two arguments"
   ]
  },
  {
   "cell_type": "code",
   "execution_count": 45,
   "id": "09b5656b-264c-4889-9d87-30e684595e3b",
   "metadata": {},
   "outputs": [
    {
     "ename": "TypeError",
     "evalue": "reduce() of empty iterable with no initial value",
     "output_type": "error",
     "traceback": [
      "\u001b[0;31m---------------------------------------------------------------------------\u001b[0m",
      "\u001b[0;31mTypeError\u001b[0m                                 Traceback (most recent call last)",
      "Cell \u001b[0;32mIn[45], line 1\u001b[0m\n\u001b[0;32m----> 1\u001b[0m \u001b[43mreduce\u001b[49m\u001b[43m(\u001b[49m\u001b[38;5;28;43;01mlambda\u001b[39;49;00m\u001b[43m \u001b[49m\u001b[43mx\u001b[49m\u001b[43m,\u001b[49m\u001b[43m \u001b[49m\u001b[43my\u001b[49m\u001b[43m \u001b[49m\u001b[43m:\u001b[49m\u001b[43m \u001b[49m\u001b[43mx\u001b[49m\u001b[43m \u001b[49m\u001b[38;5;241;43m+\u001b[39;49m\u001b[43m \u001b[49m\u001b[43my\u001b[49m\u001b[43m,\u001b[49m\u001b[43m \u001b[49m\u001b[43m[\u001b[49m\u001b[43m]\u001b[49m\u001b[43m)\u001b[49m\n",
      "\u001b[0;31mTypeError\u001b[0m: reduce() of empty iterable with no initial value"
     ]
    }
   ],
   "source": [
    "reduce(lambda x, y : x + y, [])"
   ]
  },
  {
   "cell_type": "code",
   "execution_count": 47,
   "id": "e7d1cad2-7d9a-4e99-a919-5ecf472467a0",
   "metadata": {},
   "outputs": [
    {
     "data": {
      "text/plain": [
       "1"
      ]
     },
     "execution_count": 47,
     "metadata": {},
     "output_type": "execute_result"
    }
   ],
   "source": [
    "# exceptional case of reduce function\n",
    "# it is going to return the single element present \n",
    "reduce(lambda x, y, z : x + y + z, [1])"
   ]
  },
  {
   "cell_type": "code",
   "execution_count": 49,
   "id": "42327728-b714-4300-812e-1bb972844db0",
   "metadata": {},
   "outputs": [
    {
     "data": {
      "text/plain": [
       "[1, 2, 3, 4, 5, 6, 7]"
      ]
     },
     "execution_count": 49,
     "metadata": {},
     "output_type": "execute_result"
    }
   ],
   "source": [
    "L"
   ]
  },
  {
   "cell_type": "code",
   "execution_count": 48,
   "id": "9711ba9e-0645-45b2-a042-5fce550ac37c",
   "metadata": {},
   "outputs": [
    {
     "data": {
      "text/plain": [
       "7"
      ]
     },
     "execution_count": 48,
     "metadata": {},
     "output_type": "execute_result"
    }
   ],
   "source": [
    "reduce(lambda x, y : x if x > y else y, L)"
   ]
  },
  {
   "cell_type": "code",
   "execution_count": 52,
   "id": "e92996b4-417b-4e59-ad4f-4dcb81094959",
   "metadata": {},
   "outputs": [
    {
     "data": {
      "text/plain": [
       "[2, 4, 6]"
      ]
     },
     "execution_count": 52,
     "metadata": {},
     "output_type": "execute_result"
    }
   ],
   "source": [
    "list(filter(lambda x : x if x % 2 == 0 else 0, L))"
   ]
  },
  {
   "cell_type": "code",
   "execution_count": 53,
   "id": "43929b4c-36f0-463d-aba2-7be9e82a5a59",
   "metadata": {},
   "outputs": [],
   "source": [
    "L1 = [-2, 4, 5, 6, -3, -6, -7]"
   ]
  },
  {
   "cell_type": "code",
   "execution_count": 59,
   "id": "ae714d0e-1117-47bc-bb0f-76a6ae181248",
   "metadata": {},
   "outputs": [
    {
     "data": {
      "text/plain": [
       "[-2, -3, -6, -7]"
      ]
     },
     "execution_count": 59,
     "metadata": {},
     "output_type": "execute_result"
    }
   ],
   "source": [
    "list(filter(lambda x : x if x < 0 else 0, L1))"
   ]
  },
  {
   "cell_type": "code",
   "execution_count": 60,
   "id": "a135ed8e-d3be-46ab-b601-bacc2fa633ce",
   "metadata": {},
   "outputs": [],
   "source": [
    "L2 = [\"Keesari\", \"Vigneshwar\", \"Reddy\", \"Hyderabad\", \"Jaipur\", \"LNMIIT\"]"
   ]
  },
  {
   "cell_type": "code",
   "execution_count": 61,
   "id": "8eea8f78-3ac7-4bd0-8255-a63e354c62f4",
   "metadata": {},
   "outputs": [],
   "source": [
    "# extract all elements whose length is grater than equal to 6"
   ]
  },
  {
   "cell_type": "code",
   "execution_count": 62,
   "id": "dd45b79a-9d2f-4373-b44d-ce20544f22d3",
   "metadata": {},
   "outputs": [
    {
     "data": {
      "text/plain": [
       "['Keesari', 'Vigneshwar', 'Hyderabad', 'Jaipur', 'LNMIIT']"
      ]
     },
     "execution_count": 62,
     "metadata": {},
     "output_type": "execute_result"
    }
   ],
   "source": [
    "list(filter(lambda x : x if len(x) >= 6 else 0, L2))"
   ]
  },
  {
   "cell_type": "code",
   "execution_count": null,
   "id": "f8adbb7a-765a-488f-8eb4-1b6a0c84d254",
   "metadata": {},
   "outputs": [],
   "source": []
  }
 ],
 "metadata": {
  "kernelspec": {
   "display_name": "Python 3 (ipykernel)",
   "language": "python",
   "name": "python3"
  },
  "language_info": {
   "codemirror_mode": {
    "name": "ipython",
    "version": 3
   },
   "file_extension": ".py",
   "mimetype": "text/x-python",
   "name": "python",
   "nbconvert_exporter": "python",
   "pygments_lexer": "ipython3",
   "version": "3.10.8"
  }
 },
 "nbformat": 4,
 "nbformat_minor": 5
}
