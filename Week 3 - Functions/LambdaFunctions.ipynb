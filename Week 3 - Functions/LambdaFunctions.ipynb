{
 "cells": [
  {
   "cell_type": "code",
   "execution_count": 1,
   "id": "e29afc4d-3137-4f8c-9016-5d8a303fd34c",
   "metadata": {},
   "outputs": [],
   "source": [
    "n = 3\n",
    "p = 2"
   ]
  },
  {
   "cell_type": "code",
   "execution_count": 2,
   "id": "5481af42-2333-46af-8c77-fa06efc1cd5a",
   "metadata": {},
   "outputs": [],
   "source": [
    "def test(n, p) :\n",
    "    return n**p"
   ]
  },
  {
   "cell_type": "code",
   "execution_count": 3,
   "id": "d661946c-1b44-462f-8c41-b0a77fa754fc",
   "metadata": {},
   "outputs": [
    {
     "data": {
      "text/plain": [
       "9"
      ]
     },
     "execution_count": 3,
     "metadata": {},
     "output_type": "execute_result"
    }
   ],
   "source": [
    "test(3, 2)"
   ]
  },
  {
   "cell_type": "code",
   "execution_count": 4,
   "id": "38b41d46-221d-4310-8419-d732f665ba8f",
   "metadata": {},
   "outputs": [
    {
     "data": {
      "text/plain": [
       "6561"
      ]
     },
     "execution_count": 4,
     "metadata": {},
     "output_type": "execute_result"
    }
   ],
   "source": [
    "test(9, 4)"
   ]
  },
  {
   "cell_type": "code",
   "execution_count": 6,
   "id": "9d19def6-e166-47ca-9b82-63cfbfcff8de",
   "metadata": {},
   "outputs": [],
   "source": [
    "# it takes 2 inputs\n",
    "# it will return n^p\n",
    "a = lambda n, p : n**p\n",
    "# lambda function is an anonymous function"
   ]
  },
  {
   "cell_type": "code",
   "execution_count": 7,
   "id": "695e6f3b-a44b-4b3a-b0f0-cc2792f811d5",
   "metadata": {},
   "outputs": [
    {
     "data": {
      "text/plain": [
       "9"
      ]
     },
     "execution_count": 7,
     "metadata": {},
     "output_type": "execute_result"
    }
   ],
   "source": [
    "a(3, 2)"
   ]
  },
  {
   "cell_type": "code",
   "execution_count": 8,
   "id": "8780672b-52a0-49f4-b0c1-a9f28d43fca4",
   "metadata": {},
   "outputs": [
    {
     "data": {
      "text/plain": [
       "6561"
      ]
     },
     "execution_count": 8,
     "metadata": {},
     "output_type": "execute_result"
    }
   ],
   "source": [
    "a(9, 4)"
   ]
  },
  {
   "cell_type": "code",
   "execution_count": 11,
   "id": "38b218f5-1e47-4981-b4c4-3f43a59c4e15",
   "metadata": {},
   "outputs": [],
   "source": [
    "# whenver logic of function is one liner we use lambda function\n",
    "add = lambda x, y : x + y"
   ]
  },
  {
   "cell_type": "code",
   "execution_count": 12,
   "id": "1fe9ff1e-088b-4c88-90e5-bd3923de2b96",
   "metadata": {},
   "outputs": [
    {
     "data": {
      "text/plain": [
       "468"
      ]
     },
     "execution_count": 12,
     "metadata": {},
     "output_type": "execute_result"
    }
   ],
   "source": [
    "add(234, 234)"
   ]
  },
  {
   "cell_type": "code",
   "execution_count": 13,
   "id": "321ac432-cc1c-464d-8d7d-843f3d09e386",
   "metadata": {},
   "outputs": [],
   "source": [
    "CToF = lambda c : (9 / 5) * c + 32"
   ]
  },
  {
   "cell_type": "code",
   "execution_count": 14,
   "id": "51998750-7a15-4eb7-b3cc-78a16fbc0f3e",
   "metadata": {},
   "outputs": [
    {
     "data": {
      "text/plain": [
       "93.2"
      ]
     },
     "execution_count": 14,
     "metadata": {},
     "output_type": "execute_result"
    }
   ],
   "source": [
    "CToF(34)"
   ]
  },
  {
   "cell_type": "code",
   "execution_count": 1,
   "id": "650be001-b741-4774-881f-35f41cfcf6b6",
   "metadata": {},
   "outputs": [],
   "source": [
    "maxTwo = lambda x, y : x if x > y else y"
   ]
  },
  {
   "cell_type": "code",
   "execution_count": 2,
   "id": "1b5d783b-d877-4e74-aa9f-3b914f4dc452",
   "metadata": {},
   "outputs": [
    {
     "data": {
      "text/plain": [
       "56"
      ]
     },
     "execution_count": 2,
     "metadata": {},
     "output_type": "execute_result"
    }
   ],
   "source": [
    "# these are also called as shorthand functions\n",
    "maxTwo(4, 56)"
   ]
  },
  {
   "cell_type": "code",
   "execution_count": 18,
   "id": "52a30a75-9478-411c-a2f6-e79bb6001996",
   "metadata": {},
   "outputs": [],
   "source": [
    "s = \"pwSkills\""
   ]
  },
  {
   "cell_type": "code",
   "execution_count": 19,
   "id": "a6d39f56-2dc5-4f31-b5c9-1df8e947ceec",
   "metadata": {},
   "outputs": [],
   "source": [
    "lengthStr = lambda s : len(s)"
   ]
  },
  {
   "cell_type": "code",
   "execution_count": 20,
   "id": "28b9e8e4-d7f0-4013-84ae-5a6cf7f6bc85",
   "metadata": {},
   "outputs": [
    {
     "data": {
      "text/plain": [
       "8"
      ]
     },
     "execution_count": 20,
     "metadata": {},
     "output_type": "execute_result"
    }
   ],
   "source": [
    "lengthStr(s)"
   ]
  },
  {
   "cell_type": "code",
   "execution_count": null,
   "id": "24105e86-96c4-4bfc-8a70-d408c6d88cec",
   "metadata": {},
   "outputs": [],
   "source": []
  }
 ],
 "metadata": {
  "kernelspec": {
   "display_name": "Python 3.8.10 64-bit",
   "language": "python",
   "name": "python3"
  },
  "language_info": {
   "codemirror_mode": {
    "name": "ipython",
    "version": 3
   },
   "file_extension": ".py",
   "mimetype": "text/x-python",
   "name": "python",
   "nbconvert_exporter": "python",
   "pygments_lexer": "ipython3",
   "version": "3.8.10"
  },
  "vscode": {
   "interpreter": {
    "hash": "e7370f93d1d0cde622a1f8e1c04877d8463912d04d973331ad4851f04de6915a"
   }
  }
 },
 "nbformat": 4,
 "nbformat_minor": 5
}
