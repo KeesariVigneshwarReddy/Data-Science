{
 "cells": [
  {
   "cell_type": "code",
   "execution_count": 1,
   "id": "d27a4333-7c15-48c6-837a-c12580f2803f",
   "metadata": {},
   "outputs": [],
   "source": [
    "def test(a, b, c, d, e) :\n",
    "    pass"
   ]
  },
  {
   "cell_type": "code",
   "execution_count": 2,
   "id": "ad2d90ca-0405-4f37-ae58-fcc25bd55033",
   "metadata": {},
   "outputs": [],
   "source": [
    "test(1, 2, 3, 4, 5)"
   ]
  },
  {
   "cell_type": "code",
   "execution_count": 3,
   "id": "d1a3319a-0149-4a8d-a4b6-4bb0013367b2",
   "metadata": {},
   "outputs": [
    {
     "ename": "TypeError",
     "evalue": "test() takes 5 positional arguments but 7 were given",
     "output_type": "error",
     "traceback": [
      "\u001b[0;31m---------------------------------------------------------------------------\u001b[0m",
      "\u001b[0;31mTypeError\u001b[0m                                 Traceback (most recent call last)",
      "Cell \u001b[0;32mIn[3], line 1\u001b[0m\n\u001b[0;32m----> 1\u001b[0m \u001b[43mtest\u001b[49m\u001b[43m(\u001b[49m\u001b[38;5;241;43m1\u001b[39;49m\u001b[43m,\u001b[49m\u001b[43m \u001b[49m\u001b[38;5;241;43m2\u001b[39;49m\u001b[43m,\u001b[49m\u001b[43m \u001b[49m\u001b[38;5;241;43m3\u001b[39;49m\u001b[43m,\u001b[49m\u001b[43m \u001b[49m\u001b[38;5;241;43m4\u001b[39;49m\u001b[43m,\u001b[49m\u001b[43m \u001b[49m\u001b[38;5;241;43m5\u001b[39;49m\u001b[43m,\u001b[49m\u001b[43m \u001b[49m\u001b[38;5;241;43m6\u001b[39;49m\u001b[43m,\u001b[49m\u001b[43m \u001b[49m\u001b[38;5;241;43m7\u001b[39;49m\u001b[43m)\u001b[49m\n",
      "\u001b[0;31mTypeError\u001b[0m: test() takes 5 positional arguments but 7 were given"
     ]
    }
   ],
   "source": [
    "test(1, 2, 3, 4, 5, 6, 7)"
   ]
  },
  {
   "cell_type": "code",
   "execution_count": 4,
   "id": "29331e27-9abc-446e-9902-dff30f373f74",
   "metadata": {},
   "outputs": [],
   "source": [
    "# *args is called as asterik of args\n",
    "# we can pass any number of arguments in run time\n",
    "def test1(*args):\n",
    "    return args"
   ]
  },
  {
   "cell_type": "code",
   "execution_count": 5,
   "id": "3c9fc154-7d84-402f-85c5-3b56bb749fea",
   "metadata": {},
   "outputs": [
    {
     "data": {
      "text/plain": [
       "(2,)"
      ]
     },
     "execution_count": 5,
     "metadata": {},
     "output_type": "execute_result"
    }
   ],
   "source": [
    "test1(2)"
   ]
  },
  {
   "cell_type": "code",
   "execution_count": 6,
   "id": "a24a990a-5c23-4406-8d24-8797ec452756",
   "metadata": {},
   "outputs": [
    {
     "data": {
      "text/plain": [
       "(5, 6, 4, 3, 'hello', [8, 10, 89, 69])"
      ]
     },
     "execution_count": 6,
     "metadata": {},
     "output_type": "execute_result"
    }
   ],
   "source": [
    "test1(5, 6, 4, 3, \"hello\", [8, 10, 89, 69])"
   ]
  },
  {
   "cell_type": "code",
   "execution_count": 7,
   "id": "cc1797d4-6b8c-4648-9999-37137117caf8",
   "metadata": {},
   "outputs": [],
   "source": [
    "# args is not a keyword\n",
    "def test2(*Vignesh) :\n",
    "    return Vignesh"
   ]
  },
  {
   "cell_type": "code",
   "execution_count": 8,
   "id": "a7e251ca-c5e6-43e4-93d5-1027f3703aa2",
   "metadata": {},
   "outputs": [
    {
     "data": {
      "text/plain": [
       "(5, 6, 4, 3, 'hello', [8, 10, 89, 69])"
      ]
     },
     "execution_count": 8,
     "metadata": {},
     "output_type": "execute_result"
    }
   ],
   "source": [
    "test2(5, 6, 4, 3, \"hello\", [8, 10, 89, 69])"
   ]
  },
  {
   "cell_type": "code",
   "execution_count": 9,
   "id": "cc8bc9c9-655c-4b65-a2a3-2bbda68522b7",
   "metadata": {},
   "outputs": [],
   "source": [
    "def test3(*args, a) :\n",
    "    return args, a"
   ]
  },
  {
   "cell_type": "code",
   "execution_count": 10,
   "id": "75cd0d8b-3a4c-4ec4-a3ca-146e04cc6ba3",
   "metadata": {},
   "outputs": [
    {
     "ename": "TypeError",
     "evalue": "test3() missing 1 required keyword-only argument: 'a'",
     "output_type": "error",
     "traceback": [
      "\u001b[0;31m---------------------------------------------------------------------------\u001b[0m",
      "\u001b[0;31mTypeError\u001b[0m                                 Traceback (most recent call last)",
      "Cell \u001b[0;32mIn[10], line 1\u001b[0m\n\u001b[0;32m----> 1\u001b[0m \u001b[43mtest3\u001b[49m\u001b[43m(\u001b[49m\u001b[38;5;241;43m3\u001b[39;49m\u001b[43m)\u001b[49m\n",
      "\u001b[0;31mTypeError\u001b[0m: test3() missing 1 required keyword-only argument: 'a'"
     ]
    }
   ],
   "source": [
    "test3(3)"
   ]
  },
  {
   "cell_type": "code",
   "execution_count": 12,
   "id": "211ef831-8d03-415a-89c4-256b047a2099",
   "metadata": {},
   "outputs": [
    {
     "data": {
      "text/plain": [
       "((1, 2, 3, 8), 3)"
      ]
     },
     "execution_count": 12,
     "metadata": {},
     "output_type": "execute_result"
    }
   ],
   "source": [
    "test3(1, 2, 3, 8, a = 3)"
   ]
  },
  {
   "cell_type": "code",
   "execution_count": 13,
   "id": "2a301ac3-872c-490d-9e69-0c0f27dbf86f",
   "metadata": {},
   "outputs": [],
   "source": [
    "def test4(*args) :\n",
    "    l = []\n",
    "    for i in args :\n",
    "        if (type(i) == list) :\n",
    "            l.append(i)\n",
    "    return l"
   ]
  },
  {
   "cell_type": "code",
   "execution_count": 17,
   "id": "79a04a2b-e3b9-4558-8a16-fb3779ba2f1a",
   "metadata": {},
   "outputs": [
    {
     "data": {
      "text/plain": [
       "[[4, 5, 6, 7], [89, 99, 100]]"
      ]
     },
     "execution_count": 17,
     "metadata": {},
     "output_type": "execute_result"
    }
   ],
   "source": [
    "test4(1, 2, 3, [4, 5, 6, 7], (\"H1\", \"ssn\"), \"Vignesh\", [89, 99, 100])"
   ]
  },
  {
   "cell_type": "code",
   "execution_count": 20,
   "id": "a0645ea6-6892-45cb-8aa0-83d27a634e49",
   "metadata": {},
   "outputs": [],
   "source": [
    "# passing (key, value) pair in functions\n",
    "def test5(**keyValue) :\n",
    "    return keyValue"
   ]
  },
  {
   "cell_type": "code",
   "execution_count": 21,
   "id": "7bb186c6-a33c-47d0-808b-f4031a889c9a",
   "metadata": {},
   "outputs": [
    {
     "data": {
      "text/plain": [
       "<function __main__.test5(**keyValue)>"
      ]
     },
     "execution_count": 21,
     "metadata": {},
     "output_type": "execute_result"
    }
   ],
   "source": [
    "test5"
   ]
  },
  {
   "cell_type": "code",
   "execution_count": 24,
   "id": "ac830ab0-7aa7-4468-a4ba-42f294d6487d",
   "metadata": {},
   "outputs": [
    {
     "data": {
      "text/plain": [
       "function"
      ]
     },
     "execution_count": 24,
     "metadata": {},
     "output_type": "execute_result"
    }
   ],
   "source": [
    "type(test5)"
   ]
  },
  {
   "cell_type": "code",
   "execution_count": 25,
   "id": "7cefd7d1-f39f-488f-b9d7-b24b297503c4",
   "metadata": {},
   "outputs": [
    {
     "data": {
      "text/plain": [
       "dict"
      ]
     },
     "execution_count": 25,
     "metadata": {},
     "output_type": "execute_result"
    }
   ],
   "source": [
    "type(test5())"
   ]
  },
  {
   "cell_type": "code",
   "execution_count": 26,
   "id": "90c56627-00b1-468b-bb55-40396e65f8db",
   "metadata": {},
   "outputs": [
    {
     "data": {
      "text/plain": [
       "{'a': 34, 'b': 23, 'c': [1, 2, 5, 69], 'd': ('Vignesh', 'Hello world')}"
      ]
     },
     "execution_count": 26,
     "metadata": {},
     "output_type": "execute_result"
    }
   ],
   "source": [
    "test5(a = 34, b = 23, c = [1, 2, 5, 69], d = (\"Vignesh\", \"Hello world\"))"
   ]
  },
  {
   "cell_type": "code",
   "execution_count": 29,
   "id": "59a6b28d-6c43-4114-a27d-4df08c96bdc5",
   "metadata": {},
   "outputs": [],
   "source": [
    "# return the list from all arguments\n",
    "def test6(**KVargs) :\n",
    "    for i in KVargs.keys() :\n",
    "        if type(KVargs[i]) == list :\n",
    "            return i, KVargs[i]"
   ]
  },
  {
   "cell_type": "code",
   "execution_count": 30,
   "id": "711f33e6-b4b7-40cb-8796-0c61d6c0a78f",
   "metadata": {},
   "outputs": [
    {
     "data": {
      "text/plain": [
       "('c', [1, 2, 5, 69])"
      ]
     },
     "execution_count": 30,
     "metadata": {},
     "output_type": "execute_result"
    }
   ],
   "source": [
    "test6(a = 34, b = 23, c = [1, 2, 5, 69], d = (\"Vignesh\", \"Hello world\"))"
   ]
  },
  {
   "cell_type": "code",
   "execution_count": 1,
   "id": "2d4a76f7-a86c-4921-a6b0-8e187e424883",
   "metadata": {},
   "outputs": [],
   "source": [
    "# it will be able to take input as values \n",
    "def test7(*args, **KVargs) :\n",
    "    return args, KVargs"
   ]
  },
  {
   "cell_type": "code",
   "execution_count": 2,
   "id": "47aa8d3d-0a19-4a96-aa3a-d6364951935d",
   "metadata": {},
   "outputs": [
    {
     "data": {
      "text/plain": [
       "((2, 3, 4, 5), {'a': 34, 'b': 98})"
      ]
     },
     "execution_count": 2,
     "metadata": {},
     "output_type": "execute_result"
    }
   ],
   "source": [
    "test7(2, 3, 4, 5, a = 34, b = 98)"
   ]
  },
  {
   "cell_type": "code",
   "execution_count": null,
   "id": "76d31aa4-2af6-4fc6-916d-2abaeab4f2c5",
   "metadata": {},
   "outputs": [],
   "source": []
  }
 ],
 "metadata": {
  "kernelspec": {
   "display_name": "Python 3 (ipykernel)",
   "language": "python",
   "name": "python3"
  },
  "language_info": {
   "codemirror_mode": {
    "name": "ipython",
    "version": 3
   },
   "file_extension": ".py",
   "mimetype": "text/x-python",
   "name": "python",
   "nbconvert_exporter": "python",
   "pygments_lexer": "ipython3",
   "version": "3.10.8"
  }
 },
 "nbformat": 4,
 "nbformat_minor": 5
}
