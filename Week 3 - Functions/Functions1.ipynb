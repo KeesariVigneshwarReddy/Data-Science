{
 "cells": [
  {
   "cell_type": "code",
   "execution_count": 1,
   "id": "05e1e2d9-4173-45a8-aebd-068871640e12",
   "metadata": {},
   "outputs": [
    {
     "name": "stdout",
     "output_type": "stream",
     "text": [
      "Hello world\n"
     ]
    }
   ],
   "source": [
    "print(\"Hello world\")"
   ]
  },
  {
   "cell_type": "code",
   "execution_count": 2,
   "id": "a49d76f0-71a0-46ff-84bb-3d350760cdf2",
   "metadata": {},
   "outputs": [
    {
     "data": {
      "text/plain": [
       "4"
      ]
     },
     "execution_count": 2,
     "metadata": {},
     "output_type": "execute_result"
    }
   ],
   "source": [
    "List = [4, 8, 9, 6]\n",
    "len(List)"
   ]
  },
  {
   "cell_type": "code",
   "execution_count": 4,
   "id": "be827744-b3f6-4457-9fff-1c82fff4e384",
   "metadata": {},
   "outputs": [],
   "source": [
    "def testFunction() :\n",
    "    pass"
   ]
  },
  {
   "cell_type": "code",
   "execution_count": 5,
   "id": "0be3be62-6c9d-47db-bf12-b058160a8820",
   "metadata": {},
   "outputs": [],
   "source": [
    "def test1() :\n",
    "    print(\"This is my very first function\")"
   ]
  },
  {
   "cell_type": "code",
   "execution_count": 7,
   "id": "6cf97192-97cb-4e2b-91d5-70afb127d1fc",
   "metadata": {},
   "outputs": [
    {
     "name": "stdout",
     "output_type": "stream",
     "text": [
      "This is my very first function\n"
     ]
    }
   ],
   "source": [
    "test1()"
   ]
  },
  {
   "cell_type": "code",
   "execution_count": 10,
   "id": "c6468255-c7c3-4a58-bdbe-f83b736c167e",
   "metadata": {},
   "outputs": [
    {
     "name": "stdout",
     "output_type": "stream",
     "text": [
      "This is my very first function\n"
     ]
    },
    {
     "ename": "TypeError",
     "evalue": "unsupported operand type(s) for +: 'NoneType' and 'str'",
     "output_type": "error",
     "traceback": [
      "\u001b[0;31m---------------------------------------------------------------------------\u001b[0m",
      "\u001b[0;31mTypeError\u001b[0m                                 Traceback (most recent call last)",
      "Cell \u001b[0;32mIn[10], line 2\u001b[0m\n\u001b[1;32m      1\u001b[0m \u001b[38;5;66;03m# print always returns none type, so concatenation is not possible \u001b[39;00m\n\u001b[0;32m----> 2\u001b[0m \u001b[43mtest1\u001b[49m\u001b[43m(\u001b[49m\u001b[43m)\u001b[49m\u001b[43m \u001b[49m\u001b[38;5;241;43m+\u001b[39;49m\u001b[43m \u001b[49m\u001b[38;5;124;43m\"\u001b[39;49m\u001b[38;5;124;43mVignesh\u001b[39;49m\u001b[38;5;124;43m\"\u001b[39;49m\n",
      "\u001b[0;31mTypeError\u001b[0m: unsupported operand type(s) for +: 'NoneType' and 'str'"
     ]
    }
   ],
   "source": [
    "# print always returns none type, so concatenation is not possible \n",
    "test1() + \"Vignesh\""
   ]
  },
  {
   "cell_type": "code",
   "execution_count": 11,
   "id": "83c0be1a-9896-4ac7-9030-2f1bbc67cd8a",
   "metadata": {},
   "outputs": [],
   "source": [
    "def test2() :\n",
    "    return \"This is my function with return\""
   ]
  },
  {
   "cell_type": "code",
   "execution_count": 12,
   "id": "285de015-4b97-4f91-af13-c98f76f37afe",
   "metadata": {},
   "outputs": [
    {
     "data": {
      "text/plain": [
       "'This is my function with return'"
      ]
     },
     "execution_count": 12,
     "metadata": {},
     "output_type": "execute_result"
    }
   ],
   "source": [
    "test2()"
   ]
  },
  {
   "cell_type": "code",
   "execution_count": 13,
   "id": "4ba1533f-35b4-45bf-839e-d998ec14250b",
   "metadata": {},
   "outputs": [
    {
     "data": {
      "text/plain": [
       "'This is my function with returnVignesh'"
      ]
     },
     "execution_count": 13,
     "metadata": {},
     "output_type": "execute_result"
    }
   ],
   "source": [
    "test2() + \"Vignesh\""
   ]
  },
  {
   "cell_type": "code",
   "execution_count": 16,
   "id": "192f7c30-3dc7-474b-a426-103ebaf0d673",
   "metadata": {},
   "outputs": [],
   "source": [
    "# in python we can return multiple values, string\n",
    "# it returns in form of tuple\n",
    "def test3() :\n",
    "    return 1, 2, 4, \"PW\", 34.56"
   ]
  },
  {
   "cell_type": "code",
   "execution_count": 17,
   "id": "c1f2d732-8bdf-4aae-9605-40d3e43d1c22",
   "metadata": {},
   "outputs": [
    {
     "data": {
      "text/plain": [
       "(1, 2, 4, 'PW', 34.56)"
      ]
     },
     "execution_count": 17,
     "metadata": {},
     "output_type": "execute_result"
    }
   ],
   "source": [
    "test3()"
   ]
  },
  {
   "cell_type": "code",
   "execution_count": 18,
   "id": "05bc7c0f-71df-47e7-8140-e56aa9986ddd",
   "metadata": {},
   "outputs": [],
   "source": [
    "# variable a can hold multiple values\n",
    "a = 1, 2, 3, 4, 5"
   ]
  },
  {
   "cell_type": "code",
   "execution_count": 19,
   "id": "4897085e-97d9-40b4-8181-169c744201b2",
   "metadata": {},
   "outputs": [
    {
     "data": {
      "text/plain": [
       "(1, 2, 3, 4, 5)"
      ]
     },
     "execution_count": 19,
     "metadata": {},
     "output_type": "execute_result"
    }
   ],
   "source": [
    "a"
   ]
  },
  {
   "cell_type": "code",
   "execution_count": 20,
   "id": "d9fde227-635f-4393-8c76-a150996e1a69",
   "metadata": {},
   "outputs": [],
   "source": [
    "a, b, c, d = 1, 2, 5.6, \"Hello\""
   ]
  },
  {
   "cell_type": "code",
   "execution_count": 21,
   "id": "b58339b9-ee4d-4d96-a8c9-91f12a379ece",
   "metadata": {},
   "outputs": [
    {
     "data": {
      "text/plain": [
       "1"
      ]
     },
     "execution_count": 21,
     "metadata": {},
     "output_type": "execute_result"
    }
   ],
   "source": [
    "a"
   ]
  },
  {
   "cell_type": "code",
   "execution_count": 22,
   "id": "bcff78f8-d5b3-4924-a511-a4a59d73a3b1",
   "metadata": {},
   "outputs": [
    {
     "data": {
      "text/plain": [
       "2"
      ]
     },
     "execution_count": 22,
     "metadata": {},
     "output_type": "execute_result"
    }
   ],
   "source": [
    "b"
   ]
  },
  {
   "cell_type": "code",
   "execution_count": 23,
   "id": "6630cf50-067a-4359-846b-9cd18d74f7a2",
   "metadata": {},
   "outputs": [
    {
     "data": {
      "text/plain": [
       "5.6"
      ]
     },
     "execution_count": 23,
     "metadata": {},
     "output_type": "execute_result"
    }
   ],
   "source": [
    "c"
   ]
  },
  {
   "cell_type": "code",
   "execution_count": 25,
   "id": "e0361b62-e5bd-413f-a563-358005dd3150",
   "metadata": {},
   "outputs": [
    {
     "data": {
      "text/plain": [
       "'Hello'"
      ]
     },
     "execution_count": 25,
     "metadata": {},
     "output_type": "execute_result"
    }
   ],
   "source": [
    "d"
   ]
  },
  {
   "cell_type": "code",
   "execution_count": 26,
   "id": "7bcb37a4-29aa-4462-a75d-55d177d06f76",
   "metadata": {},
   "outputs": [
    {
     "data": {
      "text/plain": [
       "(1, 2, 4, 'PW', 34.56)"
      ]
     },
     "execution_count": 26,
     "metadata": {},
     "output_type": "execute_result"
    }
   ],
   "source": [
    "test3()"
   ]
  },
  {
   "cell_type": "code",
   "execution_count": 27,
   "id": "08c48f73-d23f-4f0f-9238-93c9df3172bb",
   "metadata": {},
   "outputs": [
    {
     "data": {
      "text/plain": [
       "1"
      ]
     },
     "execution_count": 27,
     "metadata": {},
     "output_type": "execute_result"
    }
   ],
   "source": [
    "test3()[0]"
   ]
  },
  {
   "cell_type": "code",
   "execution_count": 28,
   "id": "8377f417-0fc4-4363-a5f7-34e370489897",
   "metadata": {},
   "outputs": [
    {
     "data": {
      "text/plain": [
       "'PW'"
      ]
     },
     "execution_count": 28,
     "metadata": {},
     "output_type": "execute_result"
    }
   ],
   "source": [
    "test3()[3]"
   ]
  },
  {
   "cell_type": "code",
   "execution_count": 30,
   "id": "a6238585-aac7-4905-8fbb-32648d1420b2",
   "metadata": {},
   "outputs": [],
   "source": [
    "a, b, c, d, e = test3()"
   ]
  },
  {
   "cell_type": "code",
   "execution_count": 32,
   "id": "03edb9e1-2014-4ace-aa9f-cc9b12cf925c",
   "metadata": {},
   "outputs": [
    {
     "name": "stdout",
     "output_type": "stream",
     "text": [
      "1\n",
      "2\n",
      "4\n",
      "PW\n",
      "34.56\n"
     ]
    }
   ],
   "source": [
    "print(a)\n",
    "print(b)\n",
    "print(c)\n",
    "print(d)\n",
    "print(e)"
   ]
  },
  {
   "cell_type": "code",
   "execution_count": 34,
   "id": "01823507-b32c-4f08-9908-583fc8dde404",
   "metadata": {},
   "outputs": [],
   "source": [
    "def test4() :\n",
    "    a = 3 * 4 + 5\n",
    "    return a"
   ]
  },
  {
   "cell_type": "code",
   "execution_count": 35,
   "id": "2dca60a7-147e-4f11-b658-23edd3a32c8d",
   "metadata": {},
   "outputs": [
    {
     "data": {
      "text/plain": [
       "17"
      ]
     },
     "execution_count": 35,
     "metadata": {},
     "output_type": "execute_result"
    }
   ],
   "source": [
    "test4()"
   ]
  },
  {
   "cell_type": "code",
   "execution_count": 36,
   "id": "207c104a-d2db-4bda-b42d-c9d7b05f9c15",
   "metadata": {},
   "outputs": [
    {
     "data": {
      "text/plain": [
       "int"
      ]
     },
     "execution_count": 36,
     "metadata": {},
     "output_type": "execute_result"
    }
   ],
   "source": [
    "type(test4())"
   ]
  },
  {
   "cell_type": "code",
   "execution_count": 37,
   "id": "127533b9-ff91-49f7-bddc-b7a514a68b34",
   "metadata": {},
   "outputs": [],
   "source": [
    "def test5(a, b) :\n",
    "    c = a + b\n",
    "    return c"
   ]
  },
  {
   "cell_type": "code",
   "execution_count": 38,
   "id": "e7e7bab7-73aa-488e-bc11-202b895a4494",
   "metadata": {},
   "outputs": [
    {
     "data": {
      "text/plain": [
       "17"
      ]
     },
     "execution_count": 38,
     "metadata": {},
     "output_type": "execute_result"
    }
   ],
   "source": [
    "test5(8, 9)"
   ]
  },
  {
   "cell_type": "code",
   "execution_count": 39,
   "id": "2d224794-4445-4aa6-977e-ad87dc97345e",
   "metadata": {},
   "outputs": [
    {
     "data": {
      "text/plain": [
       "'Hello World'"
      ]
     },
     "execution_count": 39,
     "metadata": {},
     "output_type": "execute_result"
    }
   ],
   "source": [
    "test5(\"Hello\", \" World\")"
   ]
  },
  {
   "cell_type": "code",
   "execution_count": 40,
   "id": "29d052a9-1664-448f-9488-27f85912b325",
   "metadata": {},
   "outputs": [
    {
     "data": {
      "text/plain": [
       "[8, 9, 3, 6, 7, 4, 5]"
      ]
     },
     "execution_count": 40,
     "metadata": {},
     "output_type": "execute_result"
    }
   ],
   "source": [
    "test5([8, 9, 3, 6], [7, 4, 5])"
   ]
  },
  {
   "cell_type": "code",
   "execution_count": 41,
   "id": "b26327b0-5d70-4669-b01b-94aba35f6231",
   "metadata": {},
   "outputs": [
    {
     "data": {
      "text/plain": [
       "'Hello world'"
      ]
     },
     "execution_count": 41,
     "metadata": {},
     "output_type": "execute_result"
    }
   ],
   "source": [
    "test5(b = \" world\", a = \"Hello\")"
   ]
  },
  {
   "cell_type": "code",
   "execution_count": 42,
   "id": "9c05b4f7-0ffd-4e60-9a1f-4275f00c552b",
   "metadata": {},
   "outputs": [],
   "source": [
    "List = [1, 1, 8, 56, \"Vignesh\", \"Hello World\", [78, 70, 96, 75]]"
   ]
  },
  {
   "cell_type": "code",
   "execution_count": 57,
   "id": "3a93c738-9989-4d4b-b606-9e9fc3b220cf",
   "metadata": {},
   "outputs": [],
   "source": [
    "# create a function which will take list as input and give me a final list will numeric values\n",
    "def test6(List) :\n",
    "    n = []\n",
    "    for i in List :\n",
    "        if (type(i) == int or type(i) == float) :\n",
    "            n.append(i)\n",
    "    return n        "
   ]
  },
  {
   "cell_type": "code",
   "execution_count": 58,
   "id": "ced0acd8-f0fb-4127-a06b-eeb819cfee3e",
   "metadata": {},
   "outputs": [
    {
     "data": {
      "text/plain": [
       "[1, 56]"
      ]
     },
     "execution_count": 58,
     "metadata": {},
     "output_type": "execute_result"
    }
   ],
   "source": [
    "test6(List)"
   ]
  },
  {
   "cell_type": "code",
   "execution_count": 59,
   "id": "321758d5-dca1-46f4-8d34-ca4cc297f28b",
   "metadata": {},
   "outputs": [],
   "source": [
    "List = [1, 2, 3, 4, 5, \"Vignesh\", \"Hello\", [9, 8, 7, 6]]"
   ]
  },
  {
   "cell_type": "code",
   "execution_count": 70,
   "id": "b26d2d60-b3ae-45e8-81e2-d9462adbe4e1",
   "metadata": {},
   "outputs": [],
   "source": [
    "# create a function which will access the data in a list which is inside a list\n",
    "def test7 (List) :\n",
    "    n = []\n",
    "    for i in List :\n",
    "        if (type(i) == list) :\n",
    "            for j in i :\n",
    "                print(j)"
   ]
  },
  {
   "cell_type": "code",
   "execution_count": 71,
   "id": "0a2ed794-0508-46ab-815a-ff4cfaaa1f69",
   "metadata": {},
   "outputs": [
    {
     "data": {
      "text/plain": [
       "[1, 2, 3, 4, 5, 'Vignesh', 'Hello', [9, 8, 7, 6]]"
      ]
     },
     "execution_count": 71,
     "metadata": {},
     "output_type": "execute_result"
    }
   ],
   "source": [
    "List"
   ]
  },
  {
   "cell_type": "code",
   "execution_count": 72,
   "id": "8f52e4b1-2f3c-4c0e-bcd6-21d345057cd1",
   "metadata": {},
   "outputs": [
    {
     "name": "stdout",
     "output_type": "stream",
     "text": [
      "9\n",
      "8\n",
      "7\n",
      "6\n"
     ]
    }
   ],
   "source": [
    "test7(List)"
   ]
  },
  {
   "cell_type": "code",
   "execution_count": null,
   "id": "3fd76621-b61e-48ee-955c-88989ead11c8",
   "metadata": {},
   "outputs": [],
   "source": []
  }
 ],
 "metadata": {
  "kernelspec": {
   "display_name": "Python 3 (ipykernel)",
   "language": "python",
   "name": "python3"
  },
  "language_info": {
   "codemirror_mode": {
    "name": "ipython",
    "version": 3
   },
   "file_extension": ".py",
   "mimetype": "text/x-python",
   "name": "python",
   "nbconvert_exporter": "python",
   "pygments_lexer": "ipython3",
   "version": "3.10.8"
  }
 },
 "nbformat": 4,
 "nbformat_minor": 5
}
