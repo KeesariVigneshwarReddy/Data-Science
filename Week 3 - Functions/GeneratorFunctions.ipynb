{
 "cells": [
  {
   "cell_type": "code",
   "execution_count": 5,
   "id": "bae5d240-f83b-404e-b268-c043ac058512",
   "metadata": {},
   "outputs": [
    {
     "data": {
      "text/plain": [
       "range(1, 10)"
      ]
     },
     "execution_count": 5,
     "metadata": {},
     "output_type": "execute_result"
    }
   ],
   "source": [
    "# here it is giving a object \n",
    "# not a data\n",
    "range(1, 10)"
   ]
  },
  {
   "cell_type": "code",
   "execution_count": 6,
   "id": "9a467c58-4605-4e60-a5c0-baad95653901",
   "metadata": {},
   "outputs": [
    {
     "name": "stdout",
     "output_type": "stream",
     "text": [
      "range(1, 10)\n"
     ]
    }
   ],
   "source": [
    "print(range(1, 10))"
   ]
  },
  {
   "cell_type": "code",
   "execution_count": 7,
   "id": "5c6cf865-65b1-4183-bd6b-8e894ab9abc5",
   "metadata": {},
   "outputs": [
    {
     "name": "stdout",
     "output_type": "stream",
     "text": [
      "1\n",
      "2\n",
      "3\n",
      "4\n",
      "5\n",
      "6\n",
      "7\n",
      "8\n",
      "9\n"
     ]
    }
   ],
   "source": [
    "for i in range(1, 10) :\n",
    "    print(i)"
   ]
  },
  {
   "cell_type": "code",
   "execution_count": 8,
   "id": "9c10eeeb-3f04-4e06-ba03-2e5dcbfd24ce",
   "metadata": {},
   "outputs": [],
   "source": [
    "List = [1, 2, 3, 4, 4, 5, 6, 7, 8, 7, \"PWSkills\", \"Vignesh\"]"
   ]
  },
  {
   "cell_type": "code",
   "execution_count": 9,
   "id": "314aa162-dc2a-42da-8e4a-b1ce15ed9b8b",
   "metadata": {},
   "outputs": [],
   "source": [
    "# this function takes a list and returns an updated list\n",
    "def test1(a) :\n",
    "    n = []\n",
    "    for i in a :\n",
    "        if type(i) == int :\n",
    "            n.append(i)\n",
    "    return n"
   ]
  },
  {
   "cell_type": "code",
   "execution_count": 10,
   "id": "8e645b57-8743-4b88-8b10-c3d7c5f6eecd",
   "metadata": {},
   "outputs": [
    {
     "data": {
      "text/plain": [
       "[1, 2, 3, 4, 4, 5, 6, 7, 8, 7]"
      ]
     },
     "execution_count": 10,
     "metadata": {},
     "output_type": "execute_result"
    }
   ],
   "source": [
    "# this function runs infinite number of time if million, trillion of data is present\n",
    "# now the problem statement is we need somme function which would give data as we require\n",
    "# like range function gives data when we try to iterate it with for loop\n",
    "# it gives data one by one \n",
    "# it will not remember previous data\n",
    "test1(List)"
   ]
  },
  {
   "cell_type": "code",
   "execution_count": 14,
   "id": "06c58648-7ea5-4de0-bf71-4eab088812fe",
   "metadata": {},
   "outputs": [],
   "source": [
    "# creating a function like range\n",
    "# it is not feasible if we make a function which will return a list of fibonacci numbers\\\n",
    "# it is feasible if we make a function which will directly return n th fibonacci number\n",
    "def test_fib(n) :\n",
    "    a, b = 0, 1\n",
    "    for i in range(n) :\n",
    "        yield a\n",
    "        a, b = b, a + b\n",
    "# yeild means to give a record one by one when we call the function"
   ]
  },
  {
   "cell_type": "code",
   "execution_count": 15,
   "id": "7887c36f-de52-414c-8679-a2dbb121694b",
   "metadata": {},
   "outputs": [
    {
     "data": {
      "text/plain": [
       "<generator object test_fib at 0x7f491c05c890>"
      ]
     },
     "execution_count": 15,
     "metadata": {},
     "output_type": "execute_result"
    }
   ],
   "source": [
    "test_fib(10)"
   ]
  },
  {
   "cell_type": "code",
   "execution_count": 16,
   "id": "20c78700-a429-4c05-8e97-8c4d465c78a6",
   "metadata": {},
   "outputs": [
    {
     "name": "stdout",
     "output_type": "stream",
     "text": [
      "0\n",
      "1\n",
      "1\n",
      "2\n",
      "3\n",
      "5\n",
      "8\n",
      "13\n",
      "21\n",
      "34\n"
     ]
    }
   ],
   "source": [
    "# it will just give me data\n",
    "# it will not make a list\n",
    "# we are using memory in most efficient way\n",
    "for i in test_fib(10) :\n",
    "    print(i)"
   ]
  },
  {
   "cell_type": "code",
   "execution_count": null,
   "id": "52a5fe5a-78e0-4227-b02d-352f500723a0",
   "metadata": {},
   "outputs": [],
   "source": []
  }
 ],
 "metadata": {
  "kernelspec": {
   "display_name": "Python 3 (ipykernel)",
   "language": "python",
   "name": "python3"
  },
  "language_info": {
   "codemirror_mode": {
    "name": "ipython",
    "version": 3
   },
   "file_extension": ".py",
   "mimetype": "text/x-python",
   "name": "python",
   "nbconvert_exporter": "python",
   "pygments_lexer": "ipython3",
   "version": "3.10.8"
  }
 },
 "nbformat": 4,
 "nbformat_minor": 5
}
