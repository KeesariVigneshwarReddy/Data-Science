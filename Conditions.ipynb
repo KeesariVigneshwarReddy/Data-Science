{
 "cells": [
  {
   "cell_type": "code",
   "execution_count": 1,
   "id": "f21b66e7-49a9-47b0-a3ba-6c3a42d5ac3c",
   "metadata": {},
   "outputs": [],
   "source": [
    "a = 10 \n",
    "if a > 10 :\n",
    "    print(\"this will execute once a greater than 10 \")"
   ]
  },
  {
   "cell_type": "code",
   "execution_count": 2,
   "id": "a7889055-b95b-4366-89bf-0d2012b1140a",
   "metadata": {},
   "outputs": [
    {
     "data": {
      "text/plain": [
       "False"
      ]
     },
     "execution_count": 2,
     "metadata": {},
     "output_type": "execute_result"
    }
   ],
   "source": [
    "a > 10"
   ]
  },
  {
   "cell_type": "code",
   "execution_count": 3,
   "id": "ce3c416e-767a-499c-b686-0b1a7ac6652d",
   "metadata": {},
   "outputs": [
    {
     "name": "stdout",
     "output_type": "stream",
     "text": [
      "this will execute one if will not be able to perform\n"
     ]
    }
   ],
   "source": [
    "a = 10\n",
    "if a > 10 :\n",
    "    print(\"this will execute once a is greater than 10\")\n",
    "else :\n",
    "    print(\"this will execute one if will not be able to perform\")"
   ]
  },
  {
   "cell_type": "code",
   "execution_count": 4,
   "id": "7cf53089-1b13-4807-9b8d-0c7bfd231e5b",
   "metadata": {},
   "outputs": [
    {
     "name": "stdout",
     "output_type": "stream",
     "text": [
      "this is trying to check a condition for a where a could be 10 or lesser\n"
     ]
    }
   ],
   "source": [
    "if a > 10 :\n",
    "    print(\"this will execute once a greater than 10 \")\n",
    "elif a <= 10 :\n",
    "    print(\"this is trying to check a condition for a where a could be 10 or lesser\")\n",
    "else :\n",
    "    print(\"this will execute once if will not be able to perform \")"
   ]
  },
  {
   "cell_type": "code",
   "execution_count": 5,
   "id": "bcca0523-7d3c-4cbc-af53-ae331a601b5d",
   "metadata": {},
   "outputs": [
    {
     "name": "stdin",
     "output_type": "stream",
     "text": [
      "enter a value for a  11\n"
     ]
    },
    {
     "name": "stdout",
     "output_type": "stream",
     "text": [
      "this will execute once a greater than 10 \n"
     ]
    }
   ],
   "source": [
    "a = int(input(\"enter a value for a \"))\n",
    "if a > 10 :\n",
    "    print(\"this will execute once a greater than 10 \")\n",
    "elif a <= 10 :\n",
    "    print(\"this is trying to check a condition for a where a could be 10 or lesser\")\n",
    "else :\n",
    "    print(\"this will execute once if will not be able to perform \")"
   ]
  },
  {
   "cell_type": "code",
   "execution_count": 6,
   "id": "ef097afc-0926-4e6c-8962-555a77653e8d",
   "metadata": {},
   "outputs": [
    {
     "name": "stdout",
     "output_type": "stream",
     "text": [
      "1\n",
      "2\n"
     ]
    }
   ],
   "source": [
    "n = 10\n",
    "i  = 1\n",
    "\n",
    "while i < n :\n",
    "    print(i)\n",
    "    i = i+1\n",
    "    if i == 3 :\n",
    "        break\n",
    "else :\n",
    "    print(\"this will be executed once while will complete it succesfully\")"
   ]
  },
  {
   "cell_type": "code",
   "execution_count": 7,
   "id": "701334c3-d10e-41e7-b94e-e909a8168764",
   "metadata": {},
   "outputs": [
    {
     "name": "stdout",
     "output_type": "stream",
     "text": [
      "2\n",
      "4\n",
      "5\n",
      "6\n",
      "7\n",
      "8\n",
      "9\n",
      "10\n",
      "this will be executed once while will complete it succesfully\n"
     ]
    }
   ],
   "source": [
    "n = 10\n",
    "i  = 1\n",
    "\n",
    "while i < n :\n",
    "    \n",
    "    i = i+1\n",
    "    if i == 3 :\n",
    "        continue\n",
    "    print(i)\n",
    "else :\n",
    "    print(\"this will be executed once while will complete it succesfully\")"
   ]
  },
  {
   "cell_type": "code",
   "execution_count": 8,
   "id": "9d8a4c79-6fd9-4ad0-86fd-5e867ae3ec3a",
   "metadata": {},
   "outputs": [],
   "source": [
    "s = \"vignesh\""
   ]
  },
  {
   "cell_type": "code",
   "execution_count": 9,
   "id": "64f29fba-c45a-40ab-be91-c975aa6259db",
   "metadata": {},
   "outputs": [
    {
     "name": "stdout",
     "output_type": "stream",
     "text": [
      "v\n",
      "i\n",
      "g\n",
      "n\n",
      "e\n",
      "s\n",
      "h\n"
     ]
    }
   ],
   "source": [
    "for i in s :\n",
    "    print(i)"
   ]
  },
  {
   "cell_type": "code",
   "execution_count": 10,
   "id": "3555e7d7-6486-4672-8bc1-2e34c8def093",
   "metadata": {},
   "outputs": [],
   "source": [
    "List = [34,56,34.56, \"pwskills\" , True , 5+6j]"
   ]
  },
  {
   "cell_type": "code",
   "execution_count": 11,
   "id": "05a7ab23-db7e-4c7e-b561-a7305d2b466c",
   "metadata": {},
   "outputs": [
    {
     "ename": "IndexError",
     "evalue": "list index out of range",
     "output_type": "error",
     "traceback": [
      "\u001b[0;31m---------------------------------------------------------------------------\u001b[0m",
      "\u001b[0;31mIndexError\u001b[0m                                Traceback (most recent call last)",
      "Cell \u001b[0;32mIn[11], line 2\u001b[0m\n\u001b[1;32m      1\u001b[0m \u001b[38;5;28;01mfor\u001b[39;00m j \u001b[38;5;129;01min\u001b[39;00m List :\n\u001b[0;32m----> 2\u001b[0m     \u001b[38;5;28mprint\u001b[39m(\u001b[43mList\u001b[49m\u001b[43m[\u001b[49m\u001b[43mj\u001b[49m\u001b[43m]\u001b[49m)\n",
      "\u001b[0;31mIndexError\u001b[0m: list index out of range"
     ]
    }
   ],
   "source": [
    "for j in List :\n",
    "    print(List[j])"
   ]
  },
  {
   "cell_type": "code",
   "execution_count": 12,
   "id": "492e4390-a54a-414d-88c5-81a8a4aa3824",
   "metadata": {},
   "outputs": [
    {
     "name": "stdout",
     "output_type": "stream",
     "text": [
      "34\n",
      "56\n",
      "34.56\n",
      "pwskills\n",
      "True\n",
      "(5+6j)\n"
     ]
    }
   ],
   "source": [
    "for j in List :\n",
    "    print(j)"
   ]
  },
  {
   "cell_type": "code",
   "execution_count": 15,
   "id": "3c71a54e-3d1c-4901-8913-b8c4e20cbd43",
   "metadata": {},
   "outputs": [
    {
     "name": "stdout",
     "output_type": "stream",
     "text": [
      "34\n",
      "56\n",
      "34.56\n",
      "pwskills\n",
      "True\n",
      "(5+6j)\n",
      "else will be executed when loop will be completed successfully\n"
     ]
    }
   ],
   "source": [
    "for j in List :\n",
    "    print(j)\n",
    "else :\n",
    "    print(\"else will be executed when loop will be completed successfully\")"
   ]
  },
  {
   "cell_type": "code",
   "execution_count": 16,
   "id": "af9a87ff-58ca-4318-818d-494fd9d8d255",
   "metadata": {},
   "outputs": [
    {
     "name": "stdout",
     "output_type": "stream",
     "text": [
      "34\n",
      "56\n",
      "34.56\n",
      "pwskills\n"
     ]
    }
   ],
   "source": [
    "for j in List :\n",
    "    print(j)\n",
    "    if j == 'pwskills' :\n",
    "        break\n",
    "else :\n",
    "    print(\"else will be executed when loop will be completed successfully\")"
   ]
  },
  {
   "cell_type": "code",
   "execution_count": 17,
   "id": "14174235-b6ea-4b26-94d2-75788ef05768",
   "metadata": {},
   "outputs": [
    {
     "data": {
      "text/plain": [
       "range(0, 10)"
      ]
     },
     "execution_count": 17,
     "metadata": {},
     "output_type": "execute_result"
    }
   ],
   "source": [
    "# it produces a data from 0 to 9\n",
    "range(10)"
   ]
  },
  {
   "cell_type": "code",
   "execution_count": 18,
   "id": "f1859998-e88a-4ba4-94f2-61d2670d3c32",
   "metadata": {},
   "outputs": [
    {
     "data": {
      "text/plain": [
       "[0, 1, 2, 3, 4, 5, 6, 7, 8, 9]"
      ]
     },
     "execution_count": 18,
     "metadata": {},
     "output_type": "execute_result"
    }
   ],
   "source": [
    "list(range(10))"
   ]
  },
  {
   "cell_type": "code",
   "execution_count": null,
   "id": "2c01a310-e4ae-4c77-aa99-6e9b543d73df",
   "metadata": {},
   "outputs": [],
   "source": []
  }
 ],
 "metadata": {
  "kernelspec": {
   "display_name": "Python 3 (ipykernel)",
   "language": "python",
   "name": "python3"
  },
  "language_info": {
   "codemirror_mode": {
    "name": "ipython",
    "version": 3
   },
   "file_extension": ".py",
   "mimetype": "text/x-python",
   "name": "python",
   "nbconvert_exporter": "python",
   "pygments_lexer": "ipython3",
   "version": "3.10.8"
  }
 },
 "nbformat": 4,
 "nbformat_minor": 5
}
