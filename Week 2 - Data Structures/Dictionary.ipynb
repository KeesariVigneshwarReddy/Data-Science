{
 "cells": [
  {
   "cell_type": "code",
   "execution_count": 1,
   "id": "667438e7-cfee-4d62-bc3e-5855e7bf1d77",
   "metadata": {},
   "outputs": [],
   "source": [
    "d = {}"
   ]
  },
  {
   "cell_type": "code",
   "execution_count": 2,
   "id": "5302387a-56ef-4475-a89b-3052ee2904c6",
   "metadata": {},
   "outputs": [
    {
     "data": {
      "text/plain": [
       "dict"
      ]
     },
     "execution_count": 2,
     "metadata": {},
     "output_type": "execute_result"
    }
   ],
   "source": [
    "type(d)"
   ]
  },
  {
   "cell_type": "code",
   "execution_count": 3,
   "id": "0cf0b8f9-698a-484e-b331-ed9021c13cdf",
   "metadata": {},
   "outputs": [],
   "source": [
    "# key and value\n",
    "d1 = {\"name\" : \"Vignesh\", \"email id\" : \"abc@gmail.com\", \"number\" : 6484154 }"
   ]
  },
  {
   "cell_type": "code",
   "execution_count": 4,
   "id": "7da14000-5516-4fc7-9c27-02c60e9816d1",
   "metadata": {},
   "outputs": [
    {
     "data": {
      "text/plain": [
       "dict"
      ]
     },
     "execution_count": 4,
     "metadata": {},
     "output_type": "execute_result"
    }
   ],
   "source": [
    "type(d1)"
   ]
  },
  {
   "cell_type": "code",
   "execution_count": 5,
   "id": "dac94ca1-cc01-48d0-a544-eebd84e83ccc",
   "metadata": {},
   "outputs": [
    {
     "data": {
      "text/plain": [
       "{'name': 'Vignesh', 'email id': 'abc@gmail.com', 'number': 6484154}"
      ]
     },
     "execution_count": 5,
     "metadata": {},
     "output_type": "execute_result"
    }
   ],
   "source": [
    "d1"
   ]
  },
  {
   "cell_type": "code",
   "execution_count": 8,
   "id": "67a8444f-8957-42ef-ae6a-d79e23253b2e",
   "metadata": {},
   "outputs": [],
   "source": [
    "# key should be unique\n",
    "# if we try to create same key with a different value\n",
    "# then the value existing key gets updated\n",
    "d2 = {\"name\" : \"Vignesh\", \"name\" : \"Keesari Vigneshwar Reddy\"}"
   ]
  },
  {
   "cell_type": "code",
   "execution_count": 9,
   "id": "9d672b3a-3c07-48ff-a7a5-deee5caea1ff",
   "metadata": {},
   "outputs": [
    {
     "data": {
      "text/plain": [
       "{'name': 'Keesari Vigneshwar Reddy'}"
      ]
     },
     "execution_count": 9,
     "metadata": {},
     "output_type": "execute_result"
    }
   ],
   "source": [
    "d2"
   ]
  },
  {
   "cell_type": "code",
   "execution_count": 10,
   "id": "db24f889-35af-4953-860b-fe212b1edefd",
   "metadata": {},
   "outputs": [],
   "source": [
    "d3 = {2334 : \"abcde\"}"
   ]
  },
  {
   "cell_type": "code",
   "execution_count": 11,
   "id": "cca375c5-b317-49e3-9834-bae545318586",
   "metadata": {},
   "outputs": [
    {
     "data": {
      "text/plain": [
       "{2334: 'abcde'}"
      ]
     },
     "execution_count": 11,
     "metadata": {},
     "output_type": "execute_result"
    }
   ],
   "source": [
    "d3"
   ]
  },
  {
   "cell_type": "code",
   "execution_count": 12,
   "id": "18de8e58-01e9-4646-97cc-560d919e72af",
   "metadata": {},
   "outputs": [],
   "source": [
    "d4 = {2.758 : \"jnehd\"}"
   ]
  },
  {
   "cell_type": "code",
   "execution_count": 13,
   "id": "9aaf7e28-563a-4e9f-9afc-1ee250d96b25",
   "metadata": {},
   "outputs": [
    {
     "data": {
      "text/plain": [
       "{2.758: 'jnehd'}"
      ]
     },
     "execution_count": 13,
     "metadata": {},
     "output_type": "execute_result"
    }
   ],
   "source": [
    "d4"
   ]
  },
  {
   "cell_type": "code",
   "execution_count": 14,
   "id": "da933083-4344-4fd7-9b57-7d792e3b2113",
   "metadata": {},
   "outputs": [],
   "source": [
    "d5 = {True : \"nvjibn\"}"
   ]
  },
  {
   "cell_type": "code",
   "execution_count": 15,
   "id": "b9d1de94-186f-4aff-9c78-0b031dda1b91",
   "metadata": {},
   "outputs": [
    {
     "data": {
      "text/plain": [
       "{True: 'nvjibn'}"
      ]
     },
     "execution_count": 15,
     "metadata": {},
     "output_type": "execute_result"
    }
   ],
   "source": [
    "d5"
   ]
  },
  {
   "cell_type": "code",
   "execution_count": 16,
   "id": "9090ad7c-d35e-44bf-a3e6-18f83d17166b",
   "metadata": {},
   "outputs": [
    {
     "ename": "SyntaxError",
     "evalue": "incomplete input (36680248.py, line 1)",
     "output_type": "error",
     "traceback": [
      "\u001b[0;36m  Cell \u001b[0;32mIn[16], line 1\u001b[0;36m\u001b[0m\n\u001b[0;31m    d6 = {# : \"abc\"}\u001b[0m\n\u001b[0m                    ^\u001b[0m\n\u001b[0;31mSyntaxError\u001b[0m\u001b[0;31m:\u001b[0m incomplete input\n"
     ]
    }
   ],
   "source": [
    "d6 = {# : \"abc\"}"
   ]
  },
  {
   "cell_type": "code",
   "execution_count": 17,
   "id": "61657913-89e5-4032-a4ed-cc7aef464220",
   "metadata": {},
   "outputs": [
    {
     "ename": "SyntaxError",
     "evalue": "invalid syntax (3480751229.py, line 1)",
     "output_type": "error",
     "traceback": [
      "\u001b[0;36m  Cell \u001b[0;32mIn[17], line 1\u001b[0;36m\u001b[0m\n\u001b[0;31m    d7 = {@ : \"jvrnj\"}\u001b[0m\n\u001b[0m          ^\u001b[0m\n\u001b[0;31mSyntaxError\u001b[0m\u001b[0;31m:\u001b[0m invalid syntax\n"
     ]
    }
   ],
   "source": [
    "d7 = {@ : \"jvrnj\"}"
   ]
  },
  {
   "cell_type": "code",
   "execution_count": 20,
   "id": "28a52b32-dd1f-4d7d-a270-509758230db3",
   "metadata": {},
   "outputs": [],
   "source": [
    "# we cannot take special character as key\n",
    "# we cannot take list as a key"
   ]
  },
  {
   "cell_type": "code",
   "execution_count": 19,
   "id": "8af848cb-97b2-4838-8eef-4eaae64c8ed0",
   "metadata": {},
   "outputs": [
    {
     "ename": "TypeError",
     "evalue": "unhashable type: 'list'",
     "output_type": "error",
     "traceback": [
      "\u001b[0;31m---------------------------------------------------------------------------\u001b[0m",
      "\u001b[0;31mTypeError\u001b[0m                                 Traceback (most recent call last)",
      "Cell \u001b[0;32mIn[19], line 1\u001b[0m\n\u001b[0;32m----> 1\u001b[0m d8 \u001b[38;5;241m=\u001b[39m {[\u001b[38;5;241m1\u001b[39m, \u001b[38;5;241m2\u001b[39m, \u001b[38;5;241m9\u001b[39m, \u001b[38;5;241m6.9\u001b[39m] : \u001b[38;5;124m\"\u001b[39m\u001b[38;5;124mknvisuk\u001b[39m\u001b[38;5;124m\"\u001b[39m}\n",
      "\u001b[0;31mTypeError\u001b[0m: unhashable type: 'list'"
     ]
    }
   ],
   "source": [
    "d8 = {[1, 2, 9, 6.9] : \"knvisuk\"}"
   ]
  },
  {
   "cell_type": "code",
   "execution_count": 21,
   "id": "c79fadeb-760e-4747-a755-37521892bbad",
   "metadata": {},
   "outputs": [],
   "source": [
    "d9 = {(1, 2, 3.9, \"Hello\") : \"nvenoeso\"}"
   ]
  },
  {
   "cell_type": "code",
   "execution_count": 22,
   "id": "a450fcf3-e32c-41e3-9c0e-202d852e8c75",
   "metadata": {},
   "outputs": [],
   "source": [
    "dt = {1 : [\"nvuir\", 2, 3,], \"Hello\" : (1, 2, 5, 6.5)}"
   ]
  },
  {
   "cell_type": "code",
   "execution_count": 23,
   "id": "df01209f-a574-4250-bd78-e984efd7fcf5",
   "metadata": {},
   "outputs": [
    {
     "data": {
      "text/plain": [
       "{1: ['nvuir', 2, 3], 'Hello': (1, 2, 5, 6.5)}"
      ]
     },
     "execution_count": 23,
     "metadata": {},
     "output_type": "execute_result"
    }
   ],
   "source": [
    "dt"
   ]
  },
  {
   "cell_type": "code",
   "execution_count": 24,
   "id": "eb4b2081-47cd-4cd7-b2d6-7650f6882729",
   "metadata": {},
   "outputs": [],
   "source": [
    "dt = {\"Vignesh\" : {1 : [\"nvuir\", 2, 3,], \"Hello\" : (1, 2, 5, 6.5)}}"
   ]
  },
  {
   "cell_type": "code",
   "execution_count": 25,
   "id": "ff582377-a963-42f1-957f-3336c9eef01c",
   "metadata": {},
   "outputs": [
    {
     "data": {
      "text/plain": [
       "{'Vignesh': {1: ['nvuir', 2, 3], 'Hello': (1, 2, 5, 6.5)}}"
      ]
     },
     "execution_count": 25,
     "metadata": {},
     "output_type": "execute_result"
    }
   ],
   "source": [
    "dt"
   ]
  },
  {
   "cell_type": "code",
   "execution_count": 27,
   "id": "4a81068f-bfaf-4f2e-8d93-37331cda7a4a",
   "metadata": {},
   "outputs": [
    {
     "ename": "TypeError",
     "evalue": "unhashable type: 'set'",
     "output_type": "error",
     "traceback": [
      "\u001b[0;31m---------------------------------------------------------------------------\u001b[0m",
      "\u001b[0;31mTypeError\u001b[0m                                 Traceback (most recent call last)",
      "Cell \u001b[0;32mIn[27], line 2\u001b[0m\n\u001b[1;32m      1\u001b[0m \u001b[38;5;66;03m# we cannot take set as a key\u001b[39;00m\n\u001b[0;32m----> 2\u001b[0m d10 \u001b[38;5;241m=\u001b[39m {{\u001b[38;5;241m1\u001b[39m, \u001b[38;5;241m2\u001b[39m, \u001b[38;5;241m3\u001b[39m} : \u001b[38;5;124m\"\u001b[39m\u001b[38;5;124mheloo\u001b[39m\u001b[38;5;124m\"\u001b[39m}\n",
      "\u001b[0;31mTypeError\u001b[0m: unhashable type: 'set'"
     ]
    }
   ],
   "source": [
    "# we cannot take set as a key\n",
    "d10 = {{1, 2, 3} : \"heloo\"}"
   ]
  },
  {
   "cell_type": "code",
   "execution_count": 29,
   "id": "f7f326b5-b754-4de3-990a-b86feba690a4",
   "metadata": {},
   "outputs": [
    {
     "ename": "TypeError",
     "evalue": "unhashable type: 'dict'",
     "output_type": "error",
     "traceback": [
      "\u001b[0;31m---------------------------------------------------------------------------\u001b[0m",
      "\u001b[0;31mTypeError\u001b[0m                                 Traceback (most recent call last)",
      "Cell \u001b[0;32mIn[29], line 2\u001b[0m\n\u001b[1;32m      1\u001b[0m \u001b[38;5;66;03m# we cannot take dictionary of a key\u001b[39;00m\n\u001b[0;32m----> 2\u001b[0m d10 \u001b[38;5;241m=\u001b[39m {{\u001b[38;5;241m1\u001b[39m : \u001b[38;5;124m\"\u001b[39m\u001b[38;5;124mKeesari\u001b[39m\u001b[38;5;124m\"\u001b[39m, \u001b[38;5;241m2\u001b[39m : \u001b[38;5;124m\"\u001b[39m\u001b[38;5;124mVigneshwar\u001b[39m\u001b[38;5;124m\"\u001b[39m, \u001b[38;5;241m3\u001b[39m : \u001b[38;5;124m\"\u001b[39m\u001b[38;5;124mReddy\u001b[39m\u001b[38;5;124m\"\u001b[39m} : \u001b[38;5;124m\"\u001b[39m\u001b[38;5;124mheloo\u001b[39m\u001b[38;5;124m\"\u001b[39m}\n",
      "\u001b[0;31mTypeError\u001b[0m: unhashable type: 'dict'"
     ]
    }
   ],
   "source": [
    "# we cannot take dictionary of a key\n",
    "d10 = {{1 : \"Keesari\", 2 : \"Vigneshwar\", 3 : \"Reddy\"} : \"heloo\"}"
   ]
  },
  {
   "cell_type": "code",
   "execution_count": 30,
   "id": "d4c10425-e22d-476c-bba8-70c8647c347d",
   "metadata": {},
   "outputs": [],
   "source": [
    "# from collection point of view you can consider only tuples as key"
   ]
  },
  {
   "cell_type": "code",
   "execution_count": 1,
   "id": "2ff0ff03-3cd7-4a03-9570-1e88471bb765",
   "metadata": {},
   "outputs": [],
   "source": [
    "d12 = {\"course Name\" : [\"data science\", \"Web dev\", \"Java\"]}"
   ]
  },
  {
   "cell_type": "code",
   "execution_count": 2,
   "id": "9fb29b92-cb98-4f08-a00d-fea1e4710615",
   "metadata": {},
   "outputs": [
    {
     "data": {
      "text/plain": [
       "{'course Name': ['data science', 'Web dev', 'Java']}"
      ]
     },
     "execution_count": 2,
     "metadata": {},
     "output_type": "execute_result"
    }
   ],
   "source": [
    "d12"
   ]
  },
  {
   "cell_type": "code",
   "execution_count": 3,
   "id": "f7bf58e9-01c1-4d4c-8756-1ce52587285d",
   "metadata": {},
   "outputs": [],
   "source": [
    "d13 = {\"key\" : (1, 2, 8)}"
   ]
  },
  {
   "cell_type": "code",
   "execution_count": 4,
   "id": "85e0e287-eeb1-442b-b7ea-957fb3f04d9b",
   "metadata": {},
   "outputs": [],
   "source": [
    "d13 = {\"key\" : {8, 9, 69, 96}}"
   ]
  },
  {
   "cell_type": "code",
   "execution_count": 5,
   "id": "d0eada54-e34b-4be3-8f5b-a83ec1c52989",
   "metadata": {},
   "outputs": [
    {
     "data": {
      "text/plain": [
       "{'key': {8, 9, 69, 96}}"
      ]
     },
     "execution_count": 5,
     "metadata": {},
     "output_type": "execute_result"
    }
   ],
   "source": [
    "d13"
   ]
  },
  {
   "cell_type": "code",
   "execution_count": 8,
   "id": "c8bf3ae4-caed-4633-97f0-4d1766886b91",
   "metadata": {},
   "outputs": [],
   "source": [
    "# dictionary in a dictionary\n",
    "# nested dictionary\n",
    "d15 = {\"key\" : {\"name\" : \"Vignesh\", \"Year\" : 1}}"
   ]
  },
  {
   "cell_type": "code",
   "execution_count": 7,
   "id": "2566c0c2-74b3-4270-8ddc-64cf713494bc",
   "metadata": {},
   "outputs": [
    {
     "data": {
      "text/plain": [
       "{'key': {'name': 'Vignesh', 'Year': 1}}"
      ]
     },
     "execution_count": 7,
     "metadata": {},
     "output_type": "execute_result"
    }
   ],
   "source": [
    "d15"
   ]
  },
  {
   "cell_type": "code",
   "execution_count": 9,
   "id": "58921b9c-253b-4feb-ae62-f409e47e418d",
   "metadata": {},
   "outputs": [],
   "source": [
    "d16 = {\"batch name\" : [\"data\", \"web\", \"java\"], \"start date\" : (28, 14, 21), \"mentor\" : {\"krish\", \"hitesh\", \"Vishwa\"}}"
   ]
  },
  {
   "cell_type": "code",
   "execution_count": 10,
   "id": "7fa81176-7484-4936-b350-4507e7830058",
   "metadata": {},
   "outputs": [
    {
     "data": {
      "text/plain": [
       "{'batch name': ['data', 'web', 'java'],\n",
       " 'start date': (28, 14, 21),\n",
       " 'mentor': {'Vishwa', 'hitesh', 'krish'}}"
      ]
     },
     "execution_count": 10,
     "metadata": {},
     "output_type": "execute_result"
    }
   ],
   "source": [
    "d16"
   ]
  },
  {
   "cell_type": "code",
   "execution_count": 11,
   "id": "d066188e-dca0-42f5-8157-f76e1919fac1",
   "metadata": {},
   "outputs": [],
   "source": [
    "d16[\"timing\"] = {1, 3, 5, 6, 90}"
   ]
  },
  {
   "cell_type": "code",
   "execution_count": 12,
   "id": "59ed5971-ad16-44b8-b4dc-fb2f99f6cf6e",
   "metadata": {},
   "outputs": [
    {
     "data": {
      "text/plain": [
       "{'batch name': ['data', 'web', 'java'],\n",
       " 'start date': (28, 14, 21),\n",
       " 'mentor': {'Vishwa', 'hitesh', 'krish'},\n",
       " 'timing': {1, 3, 5, 6, 90}}"
      ]
     },
     "execution_count": 12,
     "metadata": {},
     "output_type": "execute_result"
    }
   ],
   "source": [
    "d16"
   ]
  },
  {
   "cell_type": "code",
   "execution_count": 13,
   "id": "99e3ea2a-841e-443a-a2a5-12b72d9076e0",
   "metadata": {},
   "outputs": [
    {
     "data": {
      "text/plain": [
       "['data', 'web', 'java']"
      ]
     },
     "execution_count": 13,
     "metadata": {},
     "output_type": "execute_result"
    }
   ],
   "source": [
    "d16[\"batch name\"]"
   ]
  },
  {
   "cell_type": "code",
   "execution_count": 14,
   "id": "7c252cd1-4d4a-42b9-a6e0-8a1fc163e480",
   "metadata": {},
   "outputs": [
    {
     "data": {
      "text/plain": [
       "{'Vishwa', 'hitesh', 'krish'}"
      ]
     },
     "execution_count": 14,
     "metadata": {},
     "output_type": "execute_result"
    }
   ],
   "source": [
    "d16[\"mentor\"]"
   ]
  },
  {
   "cell_type": "code",
   "execution_count": 15,
   "id": "7d644739-77fa-4c48-9b2e-27c8fedade77",
   "metadata": {},
   "outputs": [
    {
     "ename": "KeyError",
     "evalue": "'end date'",
     "output_type": "error",
     "traceback": [
      "\u001b[0;31m---------------------------------------------------------------------------\u001b[0m",
      "\u001b[0;31mKeyError\u001b[0m                                  Traceback (most recent call last)",
      "Cell \u001b[0;32mIn[15], line 1\u001b[0m\n\u001b[0;32m----> 1\u001b[0m \u001b[43md16\u001b[49m\u001b[43m[\u001b[49m\u001b[38;5;124;43m\"\u001b[39;49m\u001b[38;5;124;43mend date\u001b[39;49m\u001b[38;5;124;43m\"\u001b[39;49m\u001b[43m]\u001b[49m\n",
      "\u001b[0;31mKeyError\u001b[0m: 'end date'"
     ]
    }
   ],
   "source": [
    "d16[\"end date\"]"
   ]
  },
  {
   "cell_type": "code",
   "execution_count": 16,
   "id": "44f1a938-ca89-4327-8322-f74d72e9c97f",
   "metadata": {},
   "outputs": [],
   "source": [
    "d16[\"name\"] = \"Keesari Vigneshwar Reddy\""
   ]
  },
  {
   "cell_type": "code",
   "execution_count": 17,
   "id": "262703f2-02c7-43c6-9b38-eadb24bbb9fe",
   "metadata": {},
   "outputs": [
    {
     "data": {
      "text/plain": [
       "{'batch name': ['data', 'web', 'java'],\n",
       " 'start date': (28, 14, 21),\n",
       " 'mentor': {'Vishwa', 'hitesh', 'krish'},\n",
       " 'timing': {1, 3, 5, 6, 90},\n",
       " 'name': 'Keesari Vigneshwar Reddy'}"
      ]
     },
     "execution_count": 17,
     "metadata": {},
     "output_type": "execute_result"
    }
   ],
   "source": [
    "d16"
   ]
  },
  {
   "cell_type": "code",
   "execution_count": 18,
   "id": "0fecf80c-6a2b-42b3-806f-98811bc7572c",
   "metadata": {},
   "outputs": [
    {
     "data": {
      "text/plain": [
       "'Keesari Vigneshwar Reddy'"
      ]
     },
     "execution_count": 18,
     "metadata": {},
     "output_type": "execute_result"
    }
   ],
   "source": [
    "d16[\"name\"]"
   ]
  },
  {
   "cell_type": "code",
   "execution_count": 19,
   "id": "29e2ad6c-a15f-4687-860c-7cb4b1c3c3a5",
   "metadata": {},
   "outputs": [
    {
     "data": {
      "text/plain": [
       "'KEESARI VIGNESHWAR REDDY'"
      ]
     },
     "execution_count": 19,
     "metadata": {},
     "output_type": "execute_result"
    }
   ],
   "source": [
    "d16['name'].upper()"
   ]
  },
  {
   "cell_type": "code",
   "execution_count": 20,
   "id": "db885e06-4afd-48b4-ac8d-84e6fb2dde79",
   "metadata": {},
   "outputs": [
    {
     "data": {
      "text/plain": [
       "{'key': {'name': 'Vignesh', 'Year': 1}}"
      ]
     },
     "execution_count": 20,
     "metadata": {},
     "output_type": "execute_result"
    }
   ],
   "source": [
    "d15"
   ]
  },
  {
   "cell_type": "code",
   "execution_count": 21,
   "id": "4b1d8ddd-71df-40ed-94e9-345f341c5b47",
   "metadata": {},
   "outputs": [
    {
     "data": {
      "text/plain": [
       "{'name': 'Vignesh', 'Year': 1}"
      ]
     },
     "execution_count": 21,
     "metadata": {},
     "output_type": "execute_result"
    }
   ],
   "source": [
    "d15['key']"
   ]
  },
  {
   "cell_type": "code",
   "execution_count": 22,
   "id": "5d1ff8f2-799d-462c-b61c-ce2004943040",
   "metadata": {},
   "outputs": [
    {
     "data": {
      "text/plain": [
       "dict"
      ]
     },
     "execution_count": 22,
     "metadata": {},
     "output_type": "execute_result"
    }
   ],
   "source": [
    "type(d15['key'])"
   ]
  },
  {
   "cell_type": "code",
   "execution_count": 24,
   "id": "683eb3e0-3f07-46dd-8a78-21876e65c462",
   "metadata": {},
   "outputs": [
    {
     "data": {
      "text/plain": [
       "1"
      ]
     },
     "execution_count": 24,
     "metadata": {},
     "output_type": "execute_result"
    }
   ],
   "source": [
    "# simple method is go one by one\n",
    "d15['key']['Year']"
   ]
  },
  {
   "cell_type": "code",
   "execution_count": 25,
   "id": "9541fa50-2cf5-4b45-8b76-9e74ef6547ef",
   "metadata": {},
   "outputs": [],
   "source": [
    "d15[\"key 1\"] = \"abc\" "
   ]
  },
  {
   "cell_type": "code",
   "execution_count": 26,
   "id": "5f90c33d-5474-4c10-b74f-48078c2748b9",
   "metadata": {},
   "outputs": [
    {
     "data": {
      "text/plain": [
       "{'key': {'name': 'Vignesh', 'Year': 1}, 'key 1': 'abc'}"
      ]
     },
     "execution_count": 26,
     "metadata": {},
     "output_type": "execute_result"
    }
   ],
   "source": [
    "d15"
   ]
  },
  {
   "cell_type": "code",
   "execution_count": 27,
   "id": "2e90e513-4408-4618-8b9f-4b1d77480278",
   "metadata": {},
   "outputs": [],
   "source": [
    "del d15[\"key 1\"]"
   ]
  },
  {
   "cell_type": "code",
   "execution_count": 28,
   "id": "533f3527-d79a-4671-b7b0-3326c6e6fc34",
   "metadata": {},
   "outputs": [
    {
     "data": {
      "text/plain": [
       "{'key': {'name': 'Vignesh', 'Year': 1}}"
      ]
     },
     "execution_count": 28,
     "metadata": {},
     "output_type": "execute_result"
    }
   ],
   "source": [
    "d15"
   ]
  },
  {
   "cell_type": "code",
   "execution_count": 29,
   "id": "5756d421-a266-429f-9e52-49933eb05008",
   "metadata": {},
   "outputs": [],
   "source": [
    "d15.clear()"
   ]
  },
  {
   "cell_type": "code",
   "execution_count": 30,
   "id": "ff842271-97c4-44d9-83a8-3470f0d7cc24",
   "metadata": {},
   "outputs": [
    {
     "data": {
      "text/plain": [
       "{}"
      ]
     },
     "execution_count": 30,
     "metadata": {},
     "output_type": "execute_result"
    }
   ],
   "source": [
    "d15"
   ]
  },
  {
   "cell_type": "code",
   "execution_count": 33,
   "id": "28d0f3c0-c976-403c-ad5c-10f5bd4cb1c5",
   "metadata": {},
   "outputs": [
    {
     "data": {
      "text/plain": [
       "{'batch name': ['data', 'web', 'java'],\n",
       " 'start date': (28, 14, 21),\n",
       " 'mentor': {'Vishwa', 'hitesh', 'krish'},\n",
       " 'timing': {1, 3, 5, 6, 90},\n",
       " 'name': 'Keesari Vigneshwar Reddy'}"
      ]
     },
     "execution_count": 33,
     "metadata": {},
     "output_type": "execute_result"
    }
   ],
   "source": [
    "d16"
   ]
  },
  {
   "cell_type": "code",
   "execution_count": 32,
   "id": "c2aca4ae-0d7d-48b4-a543-e1e442b08da9",
   "metadata": {},
   "outputs": [
    {
     "data": {
      "text/plain": [
       "5"
      ]
     },
     "execution_count": 32,
     "metadata": {},
     "output_type": "execute_result"
    }
   ],
   "source": [
    "# total number of (key, value) pairs\n",
    "len(d16)"
   ]
  },
  {
   "cell_type": "code",
   "execution_count": 34,
   "id": "a65779cb-a457-4074-ba6c-852773c11586",
   "metadata": {},
   "outputs": [
    {
     "data": {
      "text/plain": [
       "dict_keys(['batch name', 'start date', 'mentor', 'timing', 'name'])"
      ]
     },
     "execution_count": 34,
     "metadata": {},
     "output_type": "execute_result"
    }
   ],
   "source": [
    "d16.keys()"
   ]
  },
  {
   "cell_type": "code",
   "execution_count": 35,
   "id": "ee903c99-46e6-4c26-96e2-7bb2fafab0c8",
   "metadata": {},
   "outputs": [
    {
     "data": {
      "text/plain": [
       "dict_values([['data', 'web', 'java'], (28, 14, 21), {'Vishwa', 'hitesh', 'krish'}, {1, 3, 5, 6, 90}, 'Keesari Vigneshwar Reddy'])"
      ]
     },
     "execution_count": 35,
     "metadata": {},
     "output_type": "execute_result"
    }
   ],
   "source": [
    "d16.values()"
   ]
  },
  {
   "cell_type": "code",
   "execution_count": 36,
   "id": "d3767c38-1482-4779-b898-8a9962add78e",
   "metadata": {},
   "outputs": [
    {
     "data": {
      "text/plain": [
       "[['data', 'web', 'java'],\n",
       " (28, 14, 21),\n",
       " {'Vishwa', 'hitesh', 'krish'},\n",
       " {1, 3, 5, 6, 90},\n",
       " 'Keesari Vigneshwar Reddy']"
      ]
     },
     "execution_count": 36,
     "metadata": {},
     "output_type": "execute_result"
    }
   ],
   "source": [
    "list(d16.values())"
   ]
  },
  {
   "cell_type": "code",
   "execution_count": 37,
   "id": "32b94996-8276-4f6f-bb58-9c8f8dbfb8f3",
   "metadata": {},
   "outputs": [
    {
     "data": {
      "text/plain": [
       "['batch name', 'start date', 'mentor', 'timing', 'name']"
      ]
     },
     "execution_count": 37,
     "metadata": {},
     "output_type": "execute_result"
    }
   ],
   "source": [
    "list(d16.keys())"
   ]
  },
  {
   "cell_type": "code",
   "execution_count": 38,
   "id": "23b1dc86-e9d6-402d-96eb-e068bb80a2f1",
   "metadata": {},
   "outputs": [
    {
     "data": {
      "text/plain": [
       "['batch name', 'start date', 'mentor', 'timing', 'name']"
      ]
     },
     "execution_count": 38,
     "metadata": {},
     "output_type": "execute_result"
    }
   ],
   "source": [
    "list(d16)"
   ]
  },
  {
   "cell_type": "code",
   "execution_count": 39,
   "id": "1e638837-3153-4094-9941-b762c531a7b9",
   "metadata": {},
   "outputs": [
    {
     "data": {
      "text/plain": [
       "dict_items([('batch name', ['data', 'web', 'java']), ('start date', (28, 14, 21)), ('mentor', {'Vishwa', 'hitesh', 'krish'}), ('timing', {1, 3, 5, 6, 90}), ('name', 'Keesari Vigneshwar Reddy')])"
      ]
     },
     "execution_count": 39,
     "metadata": {},
     "output_type": "execute_result"
    }
   ],
   "source": [
    "d16.items()"
   ]
  },
  {
   "cell_type": "code",
   "execution_count": 41,
   "id": "a1202458-456d-4a13-82da-a77e35a04af5",
   "metadata": {},
   "outputs": [
    {
     "data": {
      "text/plain": [
       "[('batch name', ['data', 'web', 'java']),\n",
       " ('start date', (28, 14, 21)),\n",
       " ('mentor', {'Vishwa', 'hitesh', 'krish'}),\n",
       " ('timing', {1, 3, 5, 6, 90}),\n",
       " ('name', 'Keesari Vigneshwar Reddy')]"
      ]
     },
     "execution_count": 41,
     "metadata": {},
     "output_type": "execute_result"
    }
   ],
   "source": [
    "list(d16.items())"
   ]
  },
  {
   "cell_type": "code",
   "execution_count": 42,
   "id": "9e8adcef-69ab-4771-b217-8c50d6369dbe",
   "metadata": {},
   "outputs": [],
   "source": [
    "# we have a list\n",
    "# inside list we have tuples\n",
    "# inside tuples we have key value pair"
   ]
  },
  {
   "cell_type": "code",
   "execution_count": 43,
   "id": "3223a5e1-5aba-48ef-98de-e40bd2ac46e9",
   "metadata": {},
   "outputs": [
    {
     "data": {
      "text/plain": [
       "{'batch name': ['data', 'web', 'java'],\n",
       " 'start date': (28, 14, 21),\n",
       " 'mentor': {'Vishwa', 'hitesh', 'krish'},\n",
       " 'timing': {1, 3, 5, 6, 90},\n",
       " 'name': 'Keesari Vigneshwar Reddy'}"
      ]
     },
     "execution_count": 43,
     "metadata": {},
     "output_type": "execute_result"
    }
   ],
   "source": [
    "d16"
   ]
  },
  {
   "cell_type": "code",
   "execution_count": 46,
   "id": "96b77bca-ab2f-4a5b-a4bb-6be4336b4a09",
   "metadata": {},
   "outputs": [],
   "source": [
    "# data from d16 is copied to d17 dictionary\n",
    "# deep copy \n",
    "# it will reserve a new space and data will be allocated to that new space\n",
    "# if we make changes in d16, it will not affect d17\n",
    "# if we make changes in d17, it will not affect d16\n",
    "d17 = d16.copy()"
   ]
  },
  {
   "cell_type": "code",
   "execution_count": 47,
   "id": "abd8decc-e9f2-478d-878c-17c71d8b06c0",
   "metadata": {},
   "outputs": [
    {
     "data": {
      "text/plain": [
       "{'batch name': ['data', 'web', 'java'],\n",
       " 'start date': (28, 14, 21),\n",
       " 'mentor': {'Vishwa', 'hitesh', 'krish'},\n",
       " 'timing': {1, 3, 5, 6, 90},\n",
       " 'name': 'Keesari Vigneshwar Reddy'}"
      ]
     },
     "execution_count": 47,
     "metadata": {},
     "output_type": "execute_result"
    }
   ],
   "source": [
    "d17"
   ]
  },
  {
   "cell_type": "code",
   "execution_count": 48,
   "id": "f8f2d52b-7c4e-41d1-95da-42b6501cea7b",
   "metadata": {},
   "outputs": [],
   "source": [
    "# shallow copy\n",
    "# there is no new memory location created\n",
    "# d18 is just refering to d16\n",
    "# d16 d18 are pointing to same data in memory\n",
    "d18 = d16"
   ]
  },
  {
   "cell_type": "code",
   "execution_count": 49,
   "id": "d1e827e4-efac-4fa5-8abe-7d155ea957c8",
   "metadata": {},
   "outputs": [
    {
     "data": {
      "text/plain": [
       "{'batch name': ['data', 'web', 'java'],\n",
       " 'start date': (28, 14, 21),\n",
       " 'mentor': {'Vishwa', 'hitesh', 'krish'},\n",
       " 'timing': {1, 3, 5, 6, 90},\n",
       " 'name': 'Keesari Vigneshwar Reddy'}"
      ]
     },
     "execution_count": 49,
     "metadata": {},
     "output_type": "execute_result"
    }
   ],
   "source": [
    "d18"
   ]
  },
  {
   "cell_type": "code",
   "execution_count": 53,
   "id": "a1a47047-16b1-49cd-a036-da74cda24f21",
   "metadata": {},
   "outputs": [
    {
     "ename": "KeyError",
     "evalue": "'name'",
     "output_type": "error",
     "traceback": [
      "\u001b[0;31m---------------------------------------------------------------------------\u001b[0m",
      "\u001b[0;31mKeyError\u001b[0m                                  Traceback (most recent call last)",
      "Cell \u001b[0;32mIn[53], line 1\u001b[0m\n\u001b[0;32m----> 1\u001b[0m \u001b[38;5;28;01mdel\u001b[39;00m d16[\u001b[38;5;124m'\u001b[39m\u001b[38;5;124mname\u001b[39m\u001b[38;5;124m'\u001b[39m]\n",
      "\u001b[0;31mKeyError\u001b[0m: 'name'"
     ]
    }
   ],
   "source": [
    "del d16['name']"
   ]
  },
  {
   "cell_type": "code",
   "execution_count": 54,
   "id": "3e07bd11-8fcb-401f-a87d-0bf1f07a3549",
   "metadata": {},
   "outputs": [
    {
     "data": {
      "text/plain": [
       "{'batch name': ['data', 'web', 'java'],\n",
       " 'start date': (28, 14, 21),\n",
       " 'mentor': {'Vishwa', 'hitesh', 'krish'},\n",
       " 'timing': {1, 3, 5, 6, 90}}"
      ]
     },
     "execution_count": 54,
     "metadata": {},
     "output_type": "execute_result"
    }
   ],
   "source": [
    "d16"
   ]
  },
  {
   "cell_type": "code",
   "execution_count": 55,
   "id": "b60ae326-2fd7-4aad-a1f9-afb3441c1c7b",
   "metadata": {},
   "outputs": [
    {
     "data": {
      "text/plain": [
       "{'batch name': ['data', 'web', 'java'],\n",
       " 'start date': (28, 14, 21),\n",
       " 'mentor': {'Vishwa', 'hitesh', 'krish'},\n",
       " 'timing': {1, 3, 5, 6, 90},\n",
       " 'name': 'Keesari Vigneshwar Reddy'}"
      ]
     },
     "execution_count": 55,
     "metadata": {},
     "output_type": "execute_result"
    }
   ],
   "source": [
    "d17"
   ]
  },
  {
   "cell_type": "code",
   "execution_count": 56,
   "id": "443ecde2-3a78-43b0-bea4-8949e443c0f2",
   "metadata": {},
   "outputs": [
    {
     "data": {
      "text/plain": [
       "140114048096576"
      ]
     },
     "execution_count": 56,
     "metadata": {},
     "output_type": "execute_result"
    }
   ],
   "source": [
    "id (d16)"
   ]
  },
  {
   "cell_type": "code",
   "execution_count": 57,
   "id": "e654071c-3978-40e4-b267-b6dfa28889ac",
   "metadata": {},
   "outputs": [
    {
     "data": {
      "text/plain": [
       "140113784918848"
      ]
     },
     "execution_count": 57,
     "metadata": {},
     "output_type": "execute_result"
    }
   ],
   "source": [
    "id(d17)"
   ]
  },
  {
   "cell_type": "code",
   "execution_count": 58,
   "id": "9f8efcb8-afd8-42dc-835a-f1f9660a2df5",
   "metadata": {},
   "outputs": [
    {
     "data": {
      "text/plain": [
       "140114048096576"
      ]
     },
     "execution_count": 58,
     "metadata": {},
     "output_type": "execute_result"
    }
   ],
   "source": [
    "id (d18)"
   ]
  },
  {
   "cell_type": "code",
   "execution_count": 59,
   "id": "051f6fba-0d54-4c19-baf4-9fbc2c0db555",
   "metadata": {},
   "outputs": [
    {
     "data": {
      "text/plain": [
       "{'batch name': ['data', 'web', 'java'],\n",
       " 'start date': (28, 14, 21),\n",
       " 'mentor': {'Vishwa', 'hitesh', 'krish'},\n",
       " 'timing': {1, 3, 5, 6, 90}}"
      ]
     },
     "execution_count": 59,
     "metadata": {},
     "output_type": "execute_result"
    }
   ],
   "source": [
    "d18"
   ]
  },
  {
   "cell_type": "code",
   "execution_count": 60,
   "id": "4d773a3b-3748-4c6c-81d0-a233662e5cf3",
   "metadata": {},
   "outputs": [
    {
     "data": {
      "text/plain": [
       "{'batch name': ['data', 'web', 'java'],\n",
       " 'start date': (28, 14, 21),\n",
       " 'mentor': {'Vishwa', 'hitesh', 'krish'},\n",
       " 'timing': {1, 3, 5, 6, 90}}"
      ]
     },
     "execution_count": 60,
     "metadata": {},
     "output_type": "execute_result"
    }
   ],
   "source": [
    "d16"
   ]
  },
  {
   "cell_type": "code",
   "execution_count": 62,
   "id": "bfa4f1a3-fdc6-4d4a-b5c6-9ac57e0cc2e2",
   "metadata": {},
   "outputs": [
    {
     "ename": "TypeError",
     "evalue": "pop expected at least 1 argument, got 0",
     "output_type": "error",
     "traceback": [
      "\u001b[0;31m---------------------------------------------------------------------------\u001b[0m",
      "\u001b[0;31mTypeError\u001b[0m                                 Traceback (most recent call last)",
      "Cell \u001b[0;32mIn[62], line 2\u001b[0m\n\u001b[1;32m      1\u001b[0m \u001b[38;5;66;03m# we need to pass an argument to pop in a dictionary\u001b[39;00m\n\u001b[0;32m----> 2\u001b[0m \u001b[43md16\u001b[49m\u001b[38;5;241;43m.\u001b[39;49m\u001b[43mpop\u001b[49m\u001b[43m(\u001b[49m\u001b[43m)\u001b[49m\n",
      "\u001b[0;31mTypeError\u001b[0m: pop expected at least 1 argument, got 0"
     ]
    }
   ],
   "source": [
    "# we need to pass an argument to pop in a dictionary\n",
    "d16.pop()"
   ]
  },
  {
   "cell_type": "code",
   "execution_count": 63,
   "id": "f246883a-e336-4723-8d42-acf425624a60",
   "metadata": {},
   "outputs": [
    {
     "data": {
      "text/plain": [
       "{1, 3, 5, 6, 90}"
      ]
     },
     "execution_count": 63,
     "metadata": {},
     "output_type": "execute_result"
    }
   ],
   "source": [
    "d16.pop(\"timing\")"
   ]
  },
  {
   "cell_type": "code",
   "execution_count": 64,
   "id": "f07aaf1b-8bf7-4bca-9db3-9522e827bd36",
   "metadata": {},
   "outputs": [
    {
     "data": {
      "text/plain": [
       "{'batch name': ['data', 'web', 'java'],\n",
       " 'start date': (28, 14, 21),\n",
       " 'mentor': {'Vishwa', 'hitesh', 'krish'}}"
      ]
     },
     "execution_count": 64,
     "metadata": {},
     "output_type": "execute_result"
    }
   ],
   "source": [
    "d16"
   ]
  },
  {
   "cell_type": "code",
   "execution_count": 65,
   "id": "938d6a18-4f7f-41b8-a949-44fc121cc1d0",
   "metadata": {},
   "outputs": [
    {
     "data": {
      "text/plain": [
       "{'Vishwa', 'hitesh', 'krish'}"
      ]
     },
     "execution_count": 65,
     "metadata": {},
     "output_type": "execute_result"
    }
   ],
   "source": [
    "d16.pop(\"mentor\")"
   ]
  },
  {
   "cell_type": "code",
   "execution_count": 66,
   "id": "f0559c93-982d-4f38-81a1-4d69817e3abc",
   "metadata": {},
   "outputs": [
    {
     "data": {
      "text/plain": [
       "{'batch name': ['data', 'web', 'java'], 'start date': (28, 14, 21)}"
      ]
     },
     "execution_count": 66,
     "metadata": {},
     "output_type": "execute_result"
    }
   ],
   "source": [
    "d16"
   ]
  },
  {
   "cell_type": "code",
   "execution_count": 67,
   "id": "c6f86e4a-5f45-40b7-99a3-eab7fa4069a3",
   "metadata": {},
   "outputs": [
    {
     "ename": "NameError",
     "evalue": "name 'd' is not defined",
     "output_type": "error",
     "traceback": [
      "\u001b[0;31m---------------------------------------------------------------------------\u001b[0m",
      "\u001b[0;31mNameError\u001b[0m                                 Traceback (most recent call last)",
      "Cell \u001b[0;32mIn[67], line 1\u001b[0m\n\u001b[0;32m----> 1\u001b[0m \u001b[43md\u001b[49m\u001b[38;5;241m.\u001b[39mfromkeys((\u001b[38;5;241m1\u001b[39m, \u001b[38;5;241m2\u001b[39m, \u001b[38;5;241m3\u001b[39m), \u001b[38;5;124m\"\u001b[39m\u001b[38;5;124mHello\u001b[39m\u001b[38;5;124m\"\u001b[39m)\n",
      "\u001b[0;31mNameError\u001b[0m: name 'd' is not defined"
     ]
    }
   ],
   "source": [
    "d.fromkeys((1, 2, 3), \"Hello\")"
   ]
  },
  {
   "cell_type": "code",
   "execution_count": 68,
   "id": "77387fc5-ef3b-4047-b400-e5a102b293d6",
   "metadata": {},
   "outputs": [],
   "source": [
    "d = {}"
   ]
  },
  {
   "cell_type": "code",
   "execution_count": 69,
   "id": "88258d00-bfc0-4197-b184-87c755510e25",
   "metadata": {},
   "outputs": [
    {
     "data": {
      "text/plain": [
       "{1: 'Hello', 2: 'Hello', 3: 'Hello'}"
      ]
     },
     "execution_count": 69,
     "metadata": {},
     "output_type": "execute_result"
    }
   ],
   "source": [
    "d.fromkeys((1, 2, 3), \"Hello\")"
   ]
  },
  {
   "cell_type": "code",
   "execution_count": 70,
   "id": "ae94512f-87d3-4551-90ac-56188b1c92d8",
   "metadata": {},
   "outputs": [],
   "source": [
    "d19 = {\"key1\" : \"value1\", \"key2\" : \"value2\"}\n",
    "d20 = {\"key3\" : \"value3\", \"key4\" : \"value4\"}"
   ]
  },
  {
   "cell_type": "code",
   "execution_count": 72,
   "id": "8047b799-5e45-4d16-9ae9-15229618c4d9",
   "metadata": {},
   "outputs": [
    {
     "data": {
      "text/plain": [
       "({'key1': 'value1', 'key2': 'value2'}, {'key3': 'value3', 'key4': 'value4'})"
      ]
     },
     "execution_count": 72,
     "metadata": {},
     "output_type": "execute_result"
    }
   ],
   "source": [
    "# dictionary inside a tuple\n",
    "(d19, d20)"
   ]
  },
  {
   "cell_type": "code",
   "execution_count": 73,
   "id": "33db3c34-aef4-4f8e-88db-10eb6f2e9e86",
   "metadata": {},
   "outputs": [],
   "source": [
    "d19.update(d20)"
   ]
  },
  {
   "cell_type": "code",
   "execution_count": 74,
   "id": "222e2072-c7ff-439e-8e77-ac66218ff80d",
   "metadata": {},
   "outputs": [
    {
     "data": {
      "text/plain": [
       "{'key1': 'value1', 'key2': 'value2', 'key3': 'value3', 'key4': 'value4'}"
      ]
     },
     "execution_count": 74,
     "metadata": {},
     "output_type": "execute_result"
    }
   ],
   "source": [
    "d19"
   ]
  },
  {
   "cell_type": "code",
   "execution_count": 75,
   "id": "7ba847f9-0f44-4fc6-9c44-ef5477469ef5",
   "metadata": {},
   "outputs": [
    {
     "data": {
      "text/plain": [
       "{'key3': 'value3', 'key4': 'value4'}"
      ]
     },
     "execution_count": 75,
     "metadata": {},
     "output_type": "execute_result"
    }
   ],
   "source": [
    "d20"
   ]
  },
  {
   "cell_type": "code",
   "execution_count": 76,
   "id": "d0b0041b-6399-41fe-8abe-55f4f11cb55a",
   "metadata": {},
   "outputs": [],
   "source": [
    "d20.update(d19)"
   ]
  },
  {
   "cell_type": "code",
   "execution_count": 77,
   "id": "554eccc1-e277-4016-98b0-b332a96840d2",
   "metadata": {},
   "outputs": [
    {
     "data": {
      "text/plain": [
       "{'key3': 'value3', 'key4': 'value4', 'key1': 'value1', 'key2': 'value2'}"
      ]
     },
     "execution_count": 77,
     "metadata": {},
     "output_type": "execute_result"
    }
   ],
   "source": [
    "d20"
   ]
  },
  {
   "cell_type": "code",
   "execution_count": 78,
   "id": "e2e78203-5f97-40f6-8f85-878606784196",
   "metadata": {},
   "outputs": [
    {
     "data": {
      "text/plain": [
       "{'key1': 'value1', 'key2': 'value2', 'key3': 'value3', 'key4': 'value4'}"
      ]
     },
     "execution_count": 78,
     "metadata": {},
     "output_type": "execute_result"
    }
   ],
   "source": [
    "d19"
   ]
  },
  {
   "cell_type": "code",
   "execution_count": 79,
   "id": "26c10a0b-415b-4824-95c8-3445eebf3be7",
   "metadata": {},
   "outputs": [],
   "source": [
    "\n",
    "d20.get(\"key 5\")"
   ]
  },
  {
   "cell_type": "code",
   "execution_count": 81,
   "id": "225a3ff6-332e-4f65-8190-73bdd9ec289c",
   "metadata": {},
   "outputs": [
    {
     "data": {
      "text/plain": [
       "'value3'"
      ]
     },
     "execution_count": 81,
     "metadata": {},
     "output_type": "execute_result"
    }
   ],
   "source": [
    "d20.get(\"key3\")"
   ]
  },
  {
   "cell_type": "code",
   "execution_count": 82,
   "id": "6eb5689c-6610-46a5-964d-d2f1c1adc6c1",
   "metadata": {},
   "outputs": [
    {
     "data": {
      "text/plain": [
       "'value3'"
      ]
     },
     "execution_count": 82,
     "metadata": {},
     "output_type": "execute_result"
    }
   ],
   "source": [
    "d20[\"key3\"]"
   ]
  },
  {
   "cell_type": "code",
   "execution_count": 83,
   "id": "8d85c34c-8712-4ea7-a4e8-c5862482975b",
   "metadata": {},
   "outputs": [
    {
     "ename": "KeyError",
     "evalue": "'key 5'",
     "output_type": "error",
     "traceback": [
      "\u001b[0;31m---------------------------------------------------------------------------\u001b[0m",
      "\u001b[0;31mKeyError\u001b[0m                                  Traceback (most recent call last)",
      "Cell \u001b[0;32mIn[83], line 1\u001b[0m\n\u001b[0;32m----> 1\u001b[0m \u001b[43md20\u001b[49m\u001b[43m[\u001b[49m\u001b[38;5;124;43m\"\u001b[39;49m\u001b[38;5;124;43mkey 5\u001b[39;49m\u001b[38;5;124;43m\"\u001b[39;49m\u001b[43m]\u001b[49m\n",
      "\u001b[0;31mKeyError\u001b[0m: 'key 5'"
     ]
    }
   ],
   "source": [
    "# get never gives you error\n",
    "d20[\"key 5\"]"
   ]
  },
  {
   "cell_type": "code",
   "execution_count": 85,
   "id": "7be108a8-b96e-4cdb-8b3b-d3843ce285e0",
   "metadata": {},
   "outputs": [
    {
     "data": {
      "text/plain": [
       "{1: 1, 2: 4, 3: 9, 4: 16, 5: 25, 6: 36, 7: 49, 8: 64, 9: 81, 10: 100}"
      ]
     },
     "execution_count": 85,
     "metadata": {},
     "output_type": "execute_result"
    }
   ],
   "source": [
    "# dictionary comprehension\n",
    "# this will generate a dictionary when range of key is 1 to 10\n",
    "#                                  vaue for each key is (square of key)         \n",
    "{i : i * i for i in range(1, 11)}"
   ]
  },
  {
   "cell_type": "code",
   "execution_count": 86,
   "id": "461664fb-38e9-4ce5-94b3-75e6e387dc67",
   "metadata": {},
   "outputs": [
    {
     "data": {
      "text/plain": [
       "{1: 11, 2: 12, 3: 13, 4: 14, 5: 15, 6: 16, 7: 17, 8: 18, 9: 19, 10: 20}"
      ]
     },
     "execution_count": 86,
     "metadata": {},
     "output_type": "execute_result"
    }
   ],
   "source": [
    "{i : i + 10 for i in range(1, 11)}"
   ]
  },
  {
   "cell_type": "code",
   "execution_count": 87,
   "id": "3aef6d01-003a-44e0-8f30-d217b1dbc9b8",
   "metadata": {},
   "outputs": [
    {
     "data": {
      "text/plain": [
       "{1: 0.0,\n",
       " 2: 0.3010299956639812,\n",
       " 3: 0.47712125471966244,\n",
       " 4: 0.6020599913279624,\n",
       " 5: 0.6989700043360189,\n",
       " 6: 0.7781512503836436,\n",
       " 7: 0.8450980400142568,\n",
       " 8: 0.9030899869919435,\n",
       " 9: 0.9542425094393249,\n",
       " 10: 1.0}"
      ]
     },
     "execution_count": 87,
     "metadata": {},
     "output_type": "execute_result"
    }
   ],
   "source": [
    "import math\n",
    "{i : math.log10(i) for i in range(1, 11)}"
   ]
  },
  {
   "cell_type": "code",
   "execution_count": 94,
   "id": "75ee378a-3e10-45ce-996d-16e411439d35",
   "metadata": {},
   "outputs": [],
   "source": [
    "import math\n",
    "d21 = {i : math.log10(i) for i in range(1, 11)}"
   ]
  },
  {
   "cell_type": "code",
   "execution_count": 90,
   "id": "945fd759-4bd7-48af-a0e7-6b9b770d74ae",
   "metadata": {},
   "outputs": [
    {
     "data": {
      "text/plain": [
       "{'batch name': ['data', 'web', 'java'], 'start date': (28, 14, 21)}"
      ]
     },
     "execution_count": 90,
     "metadata": {},
     "output_type": "execute_result"
    }
   ],
   "source": [
    "d16"
   ]
  },
  {
   "cell_type": "code",
   "execution_count": 91,
   "id": "83e97523-1081-4e74-a4cf-485799f85d07",
   "metadata": {},
   "outputs": [
    {
     "data": {
      "text/plain": [
       "True"
      ]
     },
     "execution_count": 91,
     "metadata": {},
     "output_type": "execute_result"
    }
   ],
   "source": [
    "'batch name' in d16"
   ]
  },
  {
   "cell_type": "code",
   "execution_count": 93,
   "id": "debf55c8-14ac-4a27-b25f-34de286d87dc",
   "metadata": {},
   "outputs": [
    {
     "data": {
      "text/plain": [
       "{1: 0.0,\n",
       " 2: 0.0,\n",
       " 3: 0.0,\n",
       " 4: 0.0,\n",
       " 5: 0.0,\n",
       " 6: 0.0,\n",
       " 7: 0.0,\n",
       " 8: 0.0,\n",
       " 9: 0.0,\n",
       " 10: 0.0}"
      ]
     },
     "execution_count": 93,
     "metadata": {},
     "output_type": "execute_result"
    }
   ],
   "source": [
    "d21"
   ]
  },
  {
   "cell_type": "code",
   "execution_count": 95,
   "id": "c048c261-9665-48ed-983f-4558565696b7",
   "metadata": {},
   "outputs": [
    {
     "data": {
      "text/plain": [
       "{1: 0.0,\n",
       " 2: 0.3010299956639812,\n",
       " 3: 0.47712125471966244,\n",
       " 4: 0.6020599913279624,\n",
       " 5: 0.6989700043360189,\n",
       " 6: 0.7781512503836436,\n",
       " 7: 0.8450980400142568,\n",
       " 8: 0.9030899869919435,\n",
       " 9: 0.9542425094393249,\n",
       " 10: 1.0}"
      ]
     },
     "execution_count": 95,
     "metadata": {},
     "output_type": "execute_result"
    }
   ],
   "source": [
    "d21"
   ]
  },
  {
   "cell_type": "code",
   "execution_count": 99,
   "id": "9b5462ef-d861-4bab-8408-5c7771c3c240",
   "metadata": {},
   "outputs": [
    {
     "name": "stdout",
     "output_type": "stream",
     "text": [
      "0.3010299956639812\n",
      "0.6020599913279624\n",
      "0.7781512503836436\n",
      "0.9030899869919435\n",
      "1.0\n"
     ]
    }
   ],
   "source": [
    "# extract those vallues whose keys are even values\n",
    "for i in d21.keys() :\n",
    "    if (i % 2 == 0) :\n",
    "        print(d21.get(i))"
   ]
  },
  {
   "cell_type": "code",
   "execution_count": null,
   "id": "6e2c52aa-99bf-4779-8bf0-83ce46da0b34",
   "metadata": {},
   "outputs": [],
   "source": []
  }
 ],
 "metadata": {
  "kernelspec": {
   "display_name": "Python 3 (ipykernel)",
   "language": "python",
   "name": "python3"
  },
  "language_info": {
   "codemirror_mode": {
    "name": "ipython",
    "version": 3
   },
   "file_extension": ".py",
   "mimetype": "text/x-python",
   "name": "python",
   "nbconvert_exporter": "python",
   "pygments_lexer": "ipython3",
   "version": "3.10.8"
  }
 },
 "nbformat": 4,
 "nbformat_minor": 5
}
