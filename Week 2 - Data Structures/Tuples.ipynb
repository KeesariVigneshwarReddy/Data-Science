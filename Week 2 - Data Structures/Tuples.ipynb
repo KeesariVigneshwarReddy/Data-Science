{
 "cells": [
  {
   "cell_type": "code",
   "execution_count": 1,
   "id": "6f086498-78ad-4bee-a033-432127d9196c",
   "metadata": {},
   "outputs": [],
   "source": [
    "t = ()"
   ]
  },
  {
   "cell_type": "code",
   "execution_count": 2,
   "id": "1c388bf7-a2c6-4746-b55a-ae33daafe536",
   "metadata": {},
   "outputs": [
    {
     "data": {
      "text/plain": [
       "tuple"
      ]
     },
     "execution_count": 2,
     "metadata": {},
     "output_type": "execute_result"
    }
   ],
   "source": [
    "type(t)"
   ]
  },
  {
   "cell_type": "code",
   "execution_count": 3,
   "id": "d0b261be-77d4-4644-b416-e7f7927b04a1",
   "metadata": {},
   "outputs": [],
   "source": [
    "t1 = (1, 2, 3, 4, 4.36, 4 + 7j, \"vignesh\", True)"
   ]
  },
  {
   "cell_type": "code",
   "execution_count": 4,
   "id": "f0de7ca2-077a-4229-9429-93cb6fbe43f6",
   "metadata": {},
   "outputs": [
    {
     "data": {
      "text/plain": [
       "tuple"
      ]
     },
     "execution_count": 4,
     "metadata": {},
     "output_type": "execute_result"
    }
   ],
   "source": [
    "type(t1)"
   ]
  },
  {
   "cell_type": "code",
   "execution_count": 5,
   "id": "d190868d-8485-4651-9708-2d0800b58c6b",
   "metadata": {},
   "outputs": [],
   "source": [
    "# difference between list and tuple\n",
    "# 1. we use square brackets in list. we use paranthesis in tuple"
   ]
  },
  {
   "cell_type": "code",
   "execution_count": 6,
   "id": "26f11850-fdd3-4e3b-b160-c83fd760ee4b",
   "metadata": {},
   "outputs": [],
   "source": [
    "List = [1, 2, 3, 4, 4.36, 4 + 7j, \"vignesh\", True]"
   ]
  },
  {
   "cell_type": "code",
   "execution_count": 7,
   "id": "23c7257a-347b-4e6d-be99-7655fb262279",
   "metadata": {},
   "outputs": [
    {
     "data": {
      "text/plain": [
       "list"
      ]
     },
     "execution_count": 7,
     "metadata": {},
     "output_type": "execute_result"
    }
   ],
   "source": [
    "type(List)"
   ]
  },
  {
   "cell_type": "code",
   "execution_count": 9,
   "id": "b333a29b-5397-48a8-b5c1-f370d2065fee",
   "metadata": {},
   "outputs": [
    {
     "data": {
      "text/plain": [
       "(1, 2, 3, 4, 4.36, (4+7j), 'vignesh', True)"
      ]
     },
     "execution_count": 9,
     "metadata": {},
     "output_type": "execute_result"
    }
   ],
   "source": [
    "# tuple has a forward 0 based indexing\n",
    "t1"
   ]
  },
  {
   "cell_type": "code",
   "execution_count": 10,
   "id": "6d5b5d0a-74b0-430a-9eaf-e4d383fc0c94",
   "metadata": {},
   "outputs": [
    {
     "data": {
      "text/plain": [
       "1"
      ]
     },
     "execution_count": 10,
     "metadata": {},
     "output_type": "execute_result"
    }
   ],
   "source": [
    "t1[0]"
   ]
  },
  {
   "cell_type": "code",
   "execution_count": 11,
   "id": "836b0419-75c5-4864-bbc8-0185062584ea",
   "metadata": {},
   "outputs": [
    {
     "data": {
      "text/plain": [
       "True"
      ]
     },
     "execution_count": 11,
     "metadata": {},
     "output_type": "execute_result"
    }
   ],
   "source": [
    "t1[7]"
   ]
  },
  {
   "cell_type": "code",
   "execution_count": 17,
   "id": "9b7d0fd7-45d2-4167-a91b-ee2f42e30270",
   "metadata": {},
   "outputs": [
    {
     "data": {
      "text/plain": [
       "(True, 'vignesh', (4+7j), 4.36, 4, 3, 2, 1)"
      ]
     },
     "execution_count": 17,
     "metadata": {},
     "output_type": "execute_result"
    }
   ],
   "source": [
    "# reverese order \n",
    "# t1 is same as original since there is no item reassignment operation\n",
    "t1[::-1]"
   ]
  },
  {
   "cell_type": "code",
   "execution_count": 19,
   "id": "a773e522-8659-4dfc-b8c2-ec14a0123019",
   "metadata": {},
   "outputs": [],
   "source": [
    "# now t1 will be changed all items are reassigned\n",
    "t1 = t1[::-1]"
   ]
  },
  {
   "cell_type": "code",
   "execution_count": 20,
   "id": "ef44d3d3-158c-41ba-9cc9-a0c1151805c6",
   "metadata": {},
   "outputs": [
    {
     "data": {
      "text/plain": [
       "(True, 'vignesh', (4+7j), 4.36, 4, 3, 2, 1)"
      ]
     },
     "execution_count": 20,
     "metadata": {},
     "output_type": "execute_result"
    }
   ],
   "source": [
    "t1"
   ]
  },
  {
   "cell_type": "code",
   "execution_count": 22,
   "id": "2a6ce706-3054-4e08-915a-3c64849edf28",
   "metadata": {},
   "outputs": [
    {
     "data": {
      "text/plain": [
       "(True, 'vignesh', (4+7j))"
      ]
     },
     "execution_count": 22,
     "metadata": {},
     "output_type": "execute_result"
    }
   ],
   "source": [
    "# slicing from 0 to 2\n",
    "t1[0 : 3]"
   ]
  },
  {
   "cell_type": "code",
   "execution_count": 25,
   "id": "71c7c41e-d9f1-46ea-b773-2b550bc16037",
   "metadata": {},
   "outputs": [
    {
     "data": {
      "text/plain": [
       "1"
      ]
     },
     "execution_count": 25,
     "metadata": {},
     "output_type": "execute_result"
    }
   ],
   "source": [
    "# incase of list there were many inbuilt function\n",
    "# incase of tuples there are only 2 inbuilt function\n",
    "t1.count(4)"
   ]
  },
  {
   "cell_type": "code",
   "execution_count": 26,
   "id": "2b93b9e1-d4f3-48ff-adad-19c7495d3346",
   "metadata": {},
   "outputs": [
    {
     "data": {
      "text/plain": [
       "0"
      ]
     },
     "execution_count": 26,
     "metadata": {},
     "output_type": "execute_result"
    }
   ],
   "source": [
    "t1.count(\"abc\")"
   ]
  },
  {
   "cell_type": "code",
   "execution_count": 27,
   "id": "b5331bce-a7d4-479a-9cd2-f66526822d65",
   "metadata": {},
   "outputs": [
    {
     "data": {
      "text/plain": [
       "0"
      ]
     },
     "execution_count": 27,
     "metadata": {},
     "output_type": "execute_result"
    }
   ],
   "source": [
    "t1.index(True)"
   ]
  },
  {
   "cell_type": "code",
   "execution_count": 28,
   "id": "bc39bdd7-2f0c-4cb7-98fb-f029e33e5cbf",
   "metadata": {},
   "outputs": [
    {
     "ename": "ValueError",
     "evalue": "tuple.index(x): x not in tuple",
     "output_type": "error",
     "traceback": [
      "\u001b[0;31m---------------------------------------------------------------------------\u001b[0m",
      "\u001b[0;31mValueError\u001b[0m                                Traceback (most recent call last)",
      "Cell \u001b[0;32mIn[28], line 1\u001b[0m\n\u001b[0;32m----> 1\u001b[0m \u001b[43mt1\u001b[49m\u001b[38;5;241;43m.\u001b[39;49m\u001b[43mindex\u001b[49m\u001b[43m(\u001b[49m\u001b[38;5;124;43m\"\u001b[39;49m\u001b[38;5;124;43mabc\u001b[39;49m\u001b[38;5;124;43m\"\u001b[39;49m\u001b[43m)\u001b[49m\n",
      "\u001b[0;31mValueError\u001b[0m: tuple.index(x): x not in tuple"
     ]
    }
   ],
   "source": [
    "t1.index(\"abc\")"
   ]
  },
  {
   "cell_type": "code",
   "execution_count": 29,
   "id": "f64ff15c-f25a-45d0-80f2-7d5a60890f64",
   "metadata": {},
   "outputs": [
    {
     "data": {
      "text/plain": [
       "2"
      ]
     },
     "execution_count": 29,
     "metadata": {},
     "output_type": "execute_result"
    }
   ],
   "source": [
    "t1.index(4 + 7j)"
   ]
  },
  {
   "cell_type": "code",
   "execution_count": 30,
   "id": "491fb6d3-97b9-48d2-91ff-f34c16b66d81",
   "metadata": {},
   "outputs": [
    {
     "data": {
      "text/plain": [
       "(True, 'vignesh', (4+7j), 4.36, 4, 3, 2, 1)"
      ]
     },
     "execution_count": 30,
     "metadata": {},
     "output_type": "execute_result"
    }
   ],
   "source": [
    "t1"
   ]
  },
  {
   "cell_type": "code",
   "execution_count": 31,
   "id": "8d2223e9-a1f8-47ac-8972-d9e3f84b61a1",
   "metadata": {},
   "outputs": [
    {
     "data": {
      "text/plain": [
       "2"
      ]
     },
     "execution_count": 31,
     "metadata": {},
     "output_type": "execute_result"
    }
   ],
   "source": [
    "# internaly True is 1, False is 0\n",
    "t1.count(True)"
   ]
  },
  {
   "cell_type": "code",
   "execution_count": 32,
   "id": "0f5a7675-2eaa-4e97-a711-76e5f98797f8",
   "metadata": {},
   "outputs": [],
   "source": [
    "List = [1, 2, 3, 4]"
   ]
  },
  {
   "cell_type": "code",
   "execution_count": 33,
   "id": "7a594fd2-fa3b-411d-91e9-cb47ace8e47f",
   "metadata": {},
   "outputs": [
    {
     "data": {
      "text/plain": [
       "True"
      ]
     },
     "execution_count": 33,
     "metadata": {},
     "output_type": "execute_result"
    }
   ],
   "source": [
    "t1[0]"
   ]
  },
  {
   "cell_type": "code",
   "execution_count": 34,
   "id": "5ce21d85-5ee1-409c-82e0-bbf4b98b4b5e",
   "metadata": {},
   "outputs": [
    {
     "ename": "TypeError",
     "evalue": "'tuple' object does not support item assignment",
     "output_type": "error",
     "traceback": [
      "\u001b[0;31m---------------------------------------------------------------------------\u001b[0m",
      "\u001b[0;31mTypeError\u001b[0m                                 Traceback (most recent call last)",
      "Cell \u001b[0;32mIn[34], line 2\u001b[0m\n\u001b[1;32m      1\u001b[0m \u001b[38;5;66;03m# tuple object is immutable\u001b[39;00m\n\u001b[0;32m----> 2\u001b[0m \u001b[43mt1\u001b[49m\u001b[43m[\u001b[49m\u001b[38;5;241;43m0\u001b[39;49m\u001b[43m]\u001b[49m \u001b[38;5;241m=\u001b[39m \u001b[38;5;124m\"\u001b[39m\u001b[38;5;124mHello\u001b[39m\u001b[38;5;124m\"\u001b[39m\n",
      "\u001b[0;31mTypeError\u001b[0m: 'tuple' object does not support item assignment"
     ]
    }
   ],
   "source": [
    "# tuple object is immutable\n",
    "t1[0] = \"Hello\""
   ]
  },
  {
   "cell_type": "code",
   "execution_count": 37,
   "id": "737e9643-e47d-4b60-99c8-d532bd654bde",
   "metadata": {},
   "outputs": [],
   "source": [
    "# list is mutable\n",
    "List[0] = \"Hello\""
   ]
  },
  {
   "cell_type": "code",
   "execution_count": 38,
   "id": "5a21639b-85f2-4ef5-9b06-bf4b2bee8e18",
   "metadata": {},
   "outputs": [
    {
     "data": {
      "text/plain": [
       "['Hello', 2, 3, 4]"
      ]
     },
     "execution_count": 38,
     "metadata": {},
     "output_type": "execute_result"
    }
   ],
   "source": [
    "List"
   ]
  },
  {
   "cell_type": "code",
   "execution_count": 39,
   "id": "0434fa03-6064-4fd7-b270-2c566c979bb3",
   "metadata": {},
   "outputs": [],
   "source": [
    "# difference between item assignment and mutability\n",
    "# when we try to assign a data to new variable then it is item assignment\n",
    "# when we try to change the value at a particular index. If a data structure allows it the it is mutable.\n",
    "#                                                        else                              it is immutable."
   ]
  },
  {
   "cell_type": "code",
   "execution_count": 40,
   "id": "80ca1c24-2374-43a9-b4ee-428d5fdda7fa",
   "metadata": {},
   "outputs": [
    {
     "name": "stdout",
     "output_type": "stream",
     "text": [
      "True\n",
      "vignesh\n",
      "(4+7j)\n",
      "4.36\n",
      "4\n",
      "3\n",
      "2\n",
      "1\n"
     ]
    }
   ],
   "source": [
    "for i in t1 :\n",
    "    print(i)"
   ]
  },
  {
   "cell_type": "code",
   "execution_count": 43,
   "id": "23cb472e-4106-45f7-b362-f1f52e2362b4",
   "metadata": {},
   "outputs": [
    {
     "name": "stdout",
     "output_type": "stream",
     "text": [
      "<class 'bool'>\n",
      "<class 'str'>\n",
      "<class 'complex'>\n",
      "<class 'float'>\n",
      "<class 'int'>\n",
      "<class 'int'>\n",
      "<class 'int'>\n",
      "<class 'int'>\n"
     ]
    }
   ],
   "source": [
    "for i in t1 :\n",
    "    print(type(i))"
   ]
  },
  {
   "cell_type": "code",
   "execution_count": 44,
   "id": "b1013e37-e9d8-4da8-badf-82680ac891d7",
   "metadata": {},
   "outputs": [],
   "source": [
    "t2 = (1, 2, 3, 4)"
   ]
  },
  {
   "cell_type": "code",
   "execution_count": 45,
   "id": "d9ed0979-e27f-43e6-bea9-8ec1b9112cf7",
   "metadata": {},
   "outputs": [
    {
     "data": {
      "text/plain": [
       "(1, 2, 3, 4)"
      ]
     },
     "execution_count": 45,
     "metadata": {},
     "output_type": "execute_result"
    }
   ],
   "source": [
    "t2"
   ]
  },
  {
   "cell_type": "code",
   "execution_count": 47,
   "id": "201140c7-3f4c-4331-8359-74d480a5fc0d",
   "metadata": {},
   "outputs": [
    {
     "data": {
      "text/plain": [
       "(1, 2, 3, 4, 1, 2, 3, 4, 1, 2, 3, 4)"
      ]
     },
     "execution_count": 47,
     "metadata": {},
     "output_type": "execute_result"
    }
   ],
   "source": [
    "# replicate same tuple three times\n",
    "t2 * 3"
   ]
  },
  {
   "cell_type": "code",
   "execution_count": 48,
   "id": "508345d8-293b-4733-be60-1116bae63fdb",
   "metadata": {},
   "outputs": [
    {
     "data": {
      "text/plain": [
       "4"
      ]
     },
     "execution_count": 48,
     "metadata": {},
     "output_type": "execute_result"
    }
   ],
   "source": [
    "max(t2)"
   ]
  },
  {
   "cell_type": "code",
   "execution_count": 49,
   "id": "164580bf-c4a2-4682-a6de-21d0fa32e813",
   "metadata": {},
   "outputs": [
    {
     "data": {
      "text/plain": [
       "1"
      ]
     },
     "execution_count": 49,
     "metadata": {},
     "output_type": "execute_result"
    }
   ],
   "source": [
    "min(t2)"
   ]
  },
  {
   "cell_type": "code",
   "execution_count": 50,
   "id": "0853ed3f-e7a0-43ae-8641-d847f058663b",
   "metadata": {},
   "outputs": [],
   "source": [
    "# tuples follows immutability concepts where it is not going to allow to change any element at a particular index"
   ]
  },
  {
   "cell_type": "code",
   "execution_count": 51,
   "id": "edef86d5-d494-4982-bf80-659d692ca8d1",
   "metadata": {},
   "outputs": [],
   "source": [
    "t1 = (1, 2, 32, 4)\n",
    "t2 = (4, 5, 6, 7, 8)"
   ]
  },
  {
   "cell_type": "code",
   "execution_count": 52,
   "id": "c2fdc8c0-36fa-4f48-a95a-90c9e0c03f94",
   "metadata": {},
   "outputs": [],
   "source": [
    "t3 = (t1, t2)"
   ]
  },
  {
   "cell_type": "code",
   "execution_count": 53,
   "id": "22f5f425-f5a2-42bd-8cdc-5e58acc12bc5",
   "metadata": {},
   "outputs": [
    {
     "data": {
      "text/plain": [
       "((1, 2, 32, 4), (4, 5, 6, 7, 8))"
      ]
     },
     "execution_count": 53,
     "metadata": {},
     "output_type": "execute_result"
    }
   ],
   "source": [
    "t3"
   ]
  },
  {
   "cell_type": "code",
   "execution_count": 54,
   "id": "870209e4-8e4d-4b4b-8597-d459261284c3",
   "metadata": {},
   "outputs": [],
   "source": [
    "# we can tuples in a list\n",
    "#        lists in a tuple\n",
    "#        tuples in a tuple\n",
    "#        Lists in a List"
   ]
  },
  {
   "cell_type": "code",
   "execution_count": 55,
   "id": "6fd361bd-5794-4958-aacf-23b9ceda2763",
   "metadata": {},
   "outputs": [],
   "source": [
    "t4 = (t1, [1, 8, 9])"
   ]
  },
  {
   "cell_type": "code",
   "execution_count": 56,
   "id": "ec5261db-cfdc-4a10-93c0-9c23a81ea91b",
   "metadata": {},
   "outputs": [
    {
     "data": {
      "text/plain": [
       "((1, 2, 32, 4), [1, 8, 9])"
      ]
     },
     "execution_count": 56,
     "metadata": {},
     "output_type": "execute_result"
    }
   ],
   "source": [
    "t4"
   ]
  },
  {
   "cell_type": "code",
   "execution_count": 57,
   "id": "45ca7534-2816-4536-a10c-6efdf9eaf659",
   "metadata": {},
   "outputs": [],
   "source": [
    "# deleting tuple\n",
    "del t4"
   ]
  },
  {
   "cell_type": "code",
   "execution_count": 58,
   "id": "ba26d1dc-ade5-4b06-b91c-7ca94d95df25",
   "metadata": {},
   "outputs": [
    {
     "ename": "NameError",
     "evalue": "name 't4' is not defined",
     "output_type": "error",
     "traceback": [
      "\u001b[0;31m---------------------------------------------------------------------------\u001b[0m",
      "\u001b[0;31mNameError\u001b[0m                                 Traceback (most recent call last)",
      "Cell \u001b[0;32mIn[58], line 1\u001b[0m\n\u001b[0;32m----> 1\u001b[0m \u001b[43mt4\u001b[49m\n",
      "\u001b[0;31mNameError\u001b[0m: name 't4' is not defined"
     ]
    }
   ],
   "source": [
    "t4"
   ]
  },
  {
   "cell_type": "code",
   "execution_count": 59,
   "id": "8afec89b-2a0b-4860-bae2-32841aa579c4",
   "metadata": {},
   "outputs": [
    {
     "data": {
      "text/plain": [
       "4"
      ]
     },
     "execution_count": 59,
     "metadata": {},
     "output_type": "execute_result"
    }
   ],
   "source": [
    "len(t1)"
   ]
  },
  {
   "cell_type": "code",
   "execution_count": 60,
   "id": "67e5a079-029c-4a03-9803-5ba179865983",
   "metadata": {},
   "outputs": [
    {
     "data": {
      "text/plain": [
       "False"
      ]
     },
     "execution_count": 60,
     "metadata": {},
     "output_type": "execute_result"
    }
   ],
   "source": [
    "\"Vignesh\" in t1"
   ]
  },
  {
   "cell_type": "code",
   "execution_count": 61,
   "id": "62f0bb7c-4e70-42f3-b0db-7f738ceca210",
   "metadata": {},
   "outputs": [
    {
     "data": {
      "text/plain": [
       "True"
      ]
     },
     "execution_count": 61,
     "metadata": {},
     "output_type": "execute_result"
    }
   ],
   "source": [
    "2 in t1"
   ]
  },
  {
   "cell_type": "code",
   "execution_count": null,
   "id": "a9a3d885-450d-49a5-8f05-948ff786ebe4",
   "metadata": {},
   "outputs": [],
   "source": []
  }
 ],
 "metadata": {
  "kernelspec": {
   "display_name": "Python 3 (ipykernel)",
   "language": "python",
   "name": "python3"
  },
  "language_info": {
   "codemirror_mode": {
    "name": "ipython",
    "version": 3
   },
   "file_extension": ".py",
   "mimetype": "text/x-python",
   "name": "python",
   "nbconvert_exporter": "python",
   "pygments_lexer": "ipython3",
   "version": "3.10.8"
  }
 },
 "nbformat": 4,
 "nbformat_minor": 5
}
