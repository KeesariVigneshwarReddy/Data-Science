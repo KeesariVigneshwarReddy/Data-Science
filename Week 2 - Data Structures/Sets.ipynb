{
 "cells": [
  {
   "cell_type": "code",
   "execution_count": 1,
   "id": "2eef62a4-310f-4beb-bbc6-397e8da85121",
   "metadata": {},
   "outputs": [
    {
     "data": {
      "text/plain": [
       "dict"
      ]
     },
     "execution_count": 1,
     "metadata": {},
     "output_type": "execute_result"
    }
   ],
   "source": [
    "s = {}\n",
    "type(s)"
   ]
  },
  {
   "cell_type": "code",
   "execution_count": 2,
   "id": "e3bb11ed-9717-41d4-a854-aaa7cd4b4804",
   "metadata": {},
   "outputs": [],
   "source": [
    "s1 = {1, 2, 3, 4}"
   ]
  },
  {
   "cell_type": "code",
   "execution_count": 3,
   "id": "3c1b5fb9-deb7-475a-a71e-ddc2d1695bcd",
   "metadata": {},
   "outputs": [
    {
     "data": {
      "text/plain": [
       "set"
      ]
     },
     "execution_count": 3,
     "metadata": {},
     "output_type": "execute_result"
    }
   ],
   "source": [
    "type(s1)"
   ]
  },
  {
   "cell_type": "code",
   "execution_count": 4,
   "id": "4abb32e5-1b33-49c4-a2c0-2473736b5d1c",
   "metadata": {},
   "outputs": [],
   "source": [
    "s2 = {1, 1, 12, 3, 3, 3, 3, 55, 5, 5,3, 34, 6, 67}"
   ]
  },
  {
   "cell_type": "code",
   "execution_count": 7,
   "id": "d1097896-55e2-4da3-b209-6cb8e1450094",
   "metadata": {},
   "outputs": [
    {
     "data": {
      "text/plain": [
       "{1, 3, 5, 6, 12, 34, 55, 67}"
      ]
     },
     "execution_count": 7,
     "metadata": {},
     "output_type": "execute_result"
    }
   ],
   "source": [
    "# no duplicates\n",
    "# set stores unique information\n",
    "s2"
   ]
  },
  {
   "cell_type": "code",
   "execution_count": 8,
   "id": "69b37aaa-1581-4bed-9105-302d2589902f",
   "metadata": {},
   "outputs": [
    {
     "data": {
      "text/plain": [
       "[1, 34, 67, 3, 5, 6, 12, 55]"
      ]
     },
     "execution_count": 8,
     "metadata": {},
     "output_type": "execute_result"
    }
   ],
   "source": [
    "list(s2)"
   ]
  },
  {
   "cell_type": "code",
   "execution_count": 9,
   "id": "d1d3e15d-65cb-490d-a09c-78f4e8a77869",
   "metadata": {},
   "outputs": [
    {
     "data": {
      "text/plain": [
       "(1, 34, 67, 3, 5, 6, 12, 55)"
      ]
     },
     "execution_count": 9,
     "metadata": {},
     "output_type": "execute_result"
    }
   ],
   "source": [
    "tuple(s2)"
   ]
  },
  {
   "cell_type": "code",
   "execution_count": 10,
   "id": "68971d66-4f24-4b2d-9192-54b8cce880df",
   "metadata": {},
   "outputs": [],
   "source": [
    "List = list(s2)"
   ]
  },
  {
   "cell_type": "code",
   "execution_count": 11,
   "id": "8062735a-20bc-4b98-831d-a4d10f3d75cb",
   "metadata": {},
   "outputs": [
    {
     "data": {
      "text/plain": [
       "[1, 34, 67, 3, 5, 6, 12, 55]"
      ]
     },
     "execution_count": 11,
     "metadata": {},
     "output_type": "execute_result"
    }
   ],
   "source": [
    "List\n"
   ]
  },
  {
   "cell_type": "code",
   "execution_count": 12,
   "id": "57e907d5-6e8b-4793-8e00-8f4722fbf525",
   "metadata": {},
   "outputs": [],
   "source": [
    "s3 = set(List)"
   ]
  },
  {
   "cell_type": "code",
   "execution_count": 14,
   "id": "ffca23c3-594c-4e57-8483-e54f677b2720",
   "metadata": {},
   "outputs": [
    {
     "data": {
      "text/plain": [
       "{1, 3, 5, 6, 12, 34, 55, 67}"
      ]
     },
     "execution_count": 14,
     "metadata": {},
     "output_type": "execute_result"
    }
   ],
   "source": [
    "\n",
    "s3"
   ]
  },
  {
   "cell_type": "code",
   "execution_count": 15,
   "id": "c07eff2a-0f48-4dd2-b887-4141f6881ae5",
   "metadata": {},
   "outputs": [],
   "source": [
    "# interconversion between set, tuple, list is possible"
   ]
  },
  {
   "cell_type": "code",
   "execution_count": 17,
   "id": "02367a4d-1a80-4c61-974c-26e6d42cc5db",
   "metadata": {},
   "outputs": [
    {
     "ename": "TypeError",
     "evalue": "unhashable type: 'list'",
     "output_type": "error",
     "traceback": [
      "\u001b[0;31m---------------------------------------------------------------------------\u001b[0m",
      "\u001b[0;31mTypeError\u001b[0m                                 Traceback (most recent call last)",
      "Cell \u001b[0;32mIn[17], line 2\u001b[0m\n\u001b[1;32m      1\u001b[0m \u001b[38;5;66;03m# we cannot store list in a set\u001b[39;00m\n\u001b[0;32m----> 2\u001b[0m s4 \u001b[38;5;241m=\u001b[39m {\u001b[38;5;241m1\u001b[39m, \u001b[38;5;241m2\u001b[39m, \u001b[38;5;241m3\u001b[39m, \u001b[38;5;241m4\u001b[39m, [\u001b[38;5;241m5\u001b[39m, \u001b[38;5;241m6\u001b[39m, \u001b[38;5;241m7\u001b[39m, \u001b[38;5;241m8\u001b[39m]}\n",
      "\u001b[0;31mTypeError\u001b[0m: unhashable type: 'list'"
     ]
    }
   ],
   "source": [
    "# we cannot store list in a set\n",
    "s4 = {1, 2, 3, 4, [5, 6, 7, 8]}"
   ]
  },
  {
   "cell_type": "code",
   "execution_count": 19,
   "id": "048803fb-9073-4024-916f-a1a7beb45553",
   "metadata": {},
   "outputs": [],
   "source": [
    "# we can store tuple in a set  \n",
    "s5 = {1, 2, 3, 4, (5, 6, 7, 8)}"
   ]
  },
  {
   "cell_type": "code",
   "execution_count": 20,
   "id": "b84676db-6872-462f-a154-6477d42153de",
   "metadata": {},
   "outputs": [
    {
     "data": {
      "text/plain": [
       "{(5, 6, 7, 8), 1, 2, 3, 4}"
      ]
     },
     "execution_count": 20,
     "metadata": {},
     "output_type": "execute_result"
    }
   ],
   "source": [
    "s5"
   ]
  },
  {
   "cell_type": "code",
   "execution_count": 21,
   "id": "cbf08b4c-c3e8-47ee-b156-0530a5d8d700",
   "metadata": {},
   "outputs": [],
   "source": [
    "s6 = {\"Hello\", \"World\", \"college\"}"
   ]
  },
  {
   "cell_type": "code",
   "execution_count": 22,
   "id": "7081784b-3ade-4c87-8f1b-f3b18c6da914",
   "metadata": {},
   "outputs": [
    {
     "data": {
      "text/plain": [
       "{'Hello', 'World', 'college'}"
      ]
     },
     "execution_count": 22,
     "metadata": {},
     "output_type": "execute_result"
    }
   ],
   "source": [
    "s6"
   ]
  },
  {
   "cell_type": "code",
   "execution_count": 23,
   "id": "4c3d49a9-83a2-40fe-aeaf-07fa3a7266e3",
   "metadata": {},
   "outputs": [],
   "source": [
    "s6 = {\"Hello\", \"hello\", 1, 2, 56}"
   ]
  },
  {
   "cell_type": "code",
   "execution_count": 24,
   "id": "437e12ae-6a56-4f8e-8342-2baa3c6b2f1f",
   "metadata": {},
   "outputs": [
    {
     "data": {
      "text/plain": [
       "{1, 2, 56, 'Hello', 'hello'}"
      ]
     },
     "execution_count": 24,
     "metadata": {},
     "output_type": "execute_result"
    }
   ],
   "source": [
    "s6"
   ]
  },
  {
   "cell_type": "code",
   "execution_count": 25,
   "id": "2f6eab06-fd48-4ee4-b6e9-1d5b9f77a510",
   "metadata": {},
   "outputs": [],
   "source": [
    "s7 = {\"hello\", \"hello\", 1, 2, 56}"
   ]
  },
  {
   "cell_type": "code",
   "execution_count": 26,
   "id": "8e55269b-7eff-4195-a746-152cf8ed2f9b",
   "metadata": {},
   "outputs": [
    {
     "data": {
      "text/plain": [
       "{1, 2, 56, 'hello'}"
      ]
     },
     "execution_count": 26,
     "metadata": {},
     "output_type": "execute_result"
    }
   ],
   "source": [
    "s7"
   ]
  },
  {
   "cell_type": "code",
   "execution_count": 29,
   "id": "5254a4a8-62cb-4461-b4c9-56d0290e309e",
   "metadata": {},
   "outputs": [
    {
     "ename": "TypeError",
     "evalue": "'set' object is not subscriptable",
     "output_type": "error",
     "traceback": [
      "\u001b[0;31m---------------------------------------------------------------------------\u001b[0m",
      "\u001b[0;31mTypeError\u001b[0m                                 Traceback (most recent call last)",
      "Cell \u001b[0;32mIn[29], line 3\u001b[0m\n\u001b[1;32m      1\u001b[0m \u001b[38;5;66;03m# we cannot access elements through indexes in set \u001b[39;00m\n\u001b[1;32m      2\u001b[0m \u001b[38;5;66;03m# it is beacuse it creates hashable indexes internally\u001b[39;00m\n\u001b[0;32m----> 3\u001b[0m \u001b[43ms7\u001b[49m\u001b[43m[\u001b[49m\u001b[38;5;241;43m4\u001b[39;49m\u001b[43m]\u001b[49m\n",
      "\u001b[0;31mTypeError\u001b[0m: 'set' object is not subscriptable"
     ]
    }
   ],
   "source": [
    "# we cannot access elements through indexes in set \n",
    "# it is beacuse it creates hashable indexes internally\n",
    "s7[4]"
   ]
  },
  {
   "cell_type": "code",
   "execution_count": 34,
   "id": "b689ec8f-36a9-4796-9b2b-da9ff1b00313",
   "metadata": {},
   "outputs": [
    {
     "ename": "SyntaxError",
     "evalue": "invalid syntax (3351347737.py, line 2)",
     "output_type": "error",
     "traceback": [
      "\u001b[0;36m  Cell \u001b[0;32mIn[34], line 2\u001b[0;36m\u001b[0m\n\u001b[0;31m    ential manner\u001b[0m\n\u001b[0m           ^\u001b[0m\n\u001b[0;31mSyntaxError\u001b[0m\u001b[0;31m:\u001b[0m invalid syntax\n"
     ]
    }
   ],
   "source": [
    "# elements are not stored in sequ\n",
    "ential manner\n",
    "s7[::-1]"
   ]
  },
  {
   "cell_type": "code",
   "execution_count": 31,
   "id": "2766236c-3c7e-4054-b924-775aeb6424f0",
   "metadata": {},
   "outputs": [
    {
     "data": {
      "text/plain": [
       "{1, 2, 56, 'hello'}"
      ]
     },
     "execution_count": 31,
     "metadata": {},
     "output_type": "execute_result"
    }
   ],
   "source": [
    "s7"
   ]
  },
  {
   "cell_type": "code",
   "execution_count": 33,
   "id": "e33b4565-9d3d-4bd8-ab0c-b85c259813d3",
   "metadata": {},
   "outputs": [
    {
     "name": "stdout",
     "output_type": "stream",
     "text": [
      "56\n",
      "1\n",
      "2\n",
      "hello\n"
     ]
    }
   ],
   "source": [
    "# we can acess with for loop\n",
    "for i in s7 :\n",
    "    print(i)"
   ]
  },
  {
   "cell_type": "code",
   "execution_count": 35,
   "id": "177d8813-11a6-4b81-9f09-6a8f862b5e77",
   "metadata": {},
   "outputs": [],
   "source": [
    "s7.add(\"Vignesh\")"
   ]
  },
  {
   "cell_type": "code",
   "execution_count": 36,
   "id": "fdf434dd-e8b8-411e-a9a2-1803537c80b8",
   "metadata": {},
   "outputs": [
    {
     "data": {
      "text/plain": [
       "{1, 2, 56, 'Vignesh', 'hello'}"
      ]
     },
     "execution_count": 36,
     "metadata": {},
     "output_type": "execute_result"
    }
   ],
   "source": [
    "s7"
   ]
  },
  {
   "cell_type": "code",
   "execution_count": 37,
   "id": "311cb33a-37ab-4a84-b3d0-0b1c0cda9eea",
   "metadata": {},
   "outputs": [
    {
     "data": {
      "text/plain": [
       "5"
      ]
     },
     "execution_count": 37,
     "metadata": {},
     "output_type": "execute_result"
    }
   ],
   "source": [
    "len(s7)"
   ]
  },
  {
   "cell_type": "code",
   "execution_count": 41,
   "id": "e24b7ae7-e790-4453-8b59-cf79f2212138",
   "metadata": {},
   "outputs": [
    {
     "data": {
      "text/plain": [
       "'hello'"
      ]
     },
     "execution_count": 41,
     "metadata": {},
     "output_type": "execute_result"
    }
   ],
   "source": [
    "# popping is based on the hashing index created\n",
    "# starting from lower hash and the upper hashes\n",
    "s7.pop()"
   ]
  },
  {
   "cell_type": "code",
   "execution_count": 39,
   "id": "01c5ee7f-8431-49c2-a710-e42b2995fd0a",
   "metadata": {},
   "outputs": [
    {
     "data": {
      "text/plain": [
       "{2, 56, 'Vignesh', 'hello'}"
      ]
     },
     "execution_count": 39,
     "metadata": {},
     "output_type": "execute_result"
    }
   ],
   "source": [
    "s7"
   ]
  },
  {
   "cell_type": "code",
   "execution_count": 43,
   "id": "b06b411a-17bf-4e1f-bc20-71fc9bd6db0b",
   "metadata": {},
   "outputs": [],
   "source": [
    "s7.clear()"
   ]
  },
  {
   "cell_type": "code",
   "execution_count": 44,
   "id": "fcbe6f49-3e93-4e6c-abd7-22dce148bf42",
   "metadata": {},
   "outputs": [
    {
     "data": {
      "text/plain": [
       "set()"
      ]
     },
     "execution_count": 44,
     "metadata": {},
     "output_type": "execute_result"
    }
   ],
   "source": [
    "s7"
   ]
  },
  {
   "cell_type": "code",
   "execution_count": 45,
   "id": "e07f4d21-637b-4786-9f60-49f7fee2eb07",
   "metadata": {},
   "outputs": [
    {
     "data": {
      "text/plain": [
       "set"
      ]
     },
     "execution_count": 45,
     "metadata": {},
     "output_type": "execute_result"
    }
   ],
   "source": [
    "type(s7)"
   ]
  },
  {
   "cell_type": "code",
   "execution_count": 46,
   "id": "b39edd28-47ed-4f6b-a335-5dccd2ebe348",
   "metadata": {},
   "outputs": [],
   "source": [
    "s8 = {1, 2, 3, 4}"
   ]
  },
  {
   "cell_type": "code",
   "execution_count": 47,
   "id": "56cdb599-b43e-4d0b-8269-e689615bec6a",
   "metadata": {},
   "outputs": [],
   "source": [
    "s9 = {1, 2, 3, 5}"
   ]
  },
  {
   "cell_type": "code",
   "execution_count": 48,
   "id": "b8d97b48-63c8-44d6-bc43-d4bad2454e90",
   "metadata": {},
   "outputs": [
    {
     "data": {
      "text/plain": [
       "{4}"
      ]
     },
     "execution_count": 48,
     "metadata": {},
     "output_type": "execute_result"
    }
   ],
   "source": [
    "s8.difference(s9)"
   ]
  },
  {
   "cell_type": "code",
   "execution_count": 49,
   "id": "b58e3e6b-125b-4a0b-86c7-c13e8cc11e9b",
   "metadata": {},
   "outputs": [
    {
     "data": {
      "text/plain": [
       "{5}"
      ]
     },
     "execution_count": 49,
     "metadata": {},
     "output_type": "execute_result"
    }
   ],
   "source": [
    "s9.difference(s8)"
   ]
  },
  {
   "cell_type": "code",
   "execution_count": null,
   "id": "041d64d5-d722-482f-a863-16bb28c38635",
   "metadata": {},
   "outputs": [],
   "source": []
  }
 ],
 "metadata": {
  "kernelspec": {
   "display_name": "Python 3.8.10 64-bit",
   "language": "python",
   "name": "python3"
  },
  "language_info": {
   "codemirror_mode": {
    "name": "ipython",
    "version": 3
   },
   "file_extension": ".py",
   "mimetype": "text/x-python",
   "name": "python",
   "nbconvert_exporter": "python",
   "pygments_lexer": "ipython3",
   "version": "3.8.10"
  },
  "vscode": {
   "interpreter": {
    "hash": "e7370f93d1d0cde622a1f8e1c04877d8463912d04d973331ad4851f04de6915a"
   }
  }
 },
 "nbformat": 4,
 "nbformat_minor": 5
}
