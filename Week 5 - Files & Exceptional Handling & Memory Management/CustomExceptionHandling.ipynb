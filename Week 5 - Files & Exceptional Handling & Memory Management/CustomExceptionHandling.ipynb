{
 "cells": [
  {
   "cell_type": "code",
   "execution_count": 4,
   "metadata": {},
   "outputs": [
    {
     "name": "stdout",
     "output_type": "stream",
     "text": [
      "-2256\n"
     ]
    }
   ],
   "source": [
    "age = int(input(\"Enter your age = \"))\n",
    "print(age)"
   ]
  },
  {
   "cell_type": "markdown",
   "metadata": {},
   "source": [
    "Now this age is not valid for us but system will accept it."
   ]
  },
  {
   "cell_type": "code",
   "execution_count": 13,
   "metadata": {},
   "outputs": [],
   "source": [
    "# this is custom class. This is a child of exception class\n",
    "class validateAge(Exception) :\n",
    "    # constructor\n",
    "    def __init__(self, msg) :\n",
    "        self.msg = msg\n",
    "# this is my own function\n",
    "def checkValidity(age) :\n",
    "    if age < 0 :\n",
    "        # raise is a reserved keyword which can call your custom class\n",
    "        # this is like creating an object of validateAge and passing a custom message\n",
    "        raise validateAge(\"age is invalid\")\n",
    "    elif age > 200 :\n",
    "        raise validateAge(\"age is invalid\")\n",
    "    else :\n",
    "        print(\"age is valid\")"
   ]
  },
  {
   "cell_type": "code",
   "execution_count": 14,
   "metadata": {},
   "outputs": [
    {
     "name": "stdout",
     "output_type": "stream",
     "text": [
      "-69\n",
      "age is invalid\n"
     ]
    }
   ],
   "source": [
    "try : \n",
    "    age = int(input(\"Enter your age = \"))\n",
    "    print(age)\n",
    "    checkValidity(age)\n",
    "except validateAge as e :\n",
    "    print(e)"
   ]
  },
  {
   "cell_type": "code",
   "execution_count": 15,
   "metadata": {},
   "outputs": [
    {
     "name": "stdout",
     "output_type": "stream",
     "text": [
      "2036\n",
      "age is invalid\n"
     ]
    }
   ],
   "source": [
    "try : \n",
    "    age = int(input(\"Enter your age = \"))\n",
    "    print(age)\n",
    "    checkValidity(age)\n",
    "except validateAge as e :\n",
    "    print(e)"
   ]
  },
  {
   "cell_type": "code",
   "execution_count": null,
   "metadata": {},
   "outputs": [],
   "source": []
  }
 ],
 "metadata": {
  "kernelspec": {
   "display_name": "Python 3.8.10 64-bit",
   "language": "python",
   "name": "python3"
  },
  "language_info": {
   "codemirror_mode": {
    "name": "ipython",
    "version": 3
   },
   "file_extension": ".py",
   "mimetype": "text/x-python",
   "name": "python",
   "nbconvert_exporter": "python",
   "pygments_lexer": "ipython3",
   "version": "3.8.10"
  },
  "orig_nbformat": 4,
  "vscode": {
   "interpreter": {
    "hash": "e7370f93d1d0cde622a1f8e1c04877d8463912d04d973331ad4851f04de6915a"
   }
  }
 },
 "nbformat": 4,
 "nbformat_minor": 2
}
