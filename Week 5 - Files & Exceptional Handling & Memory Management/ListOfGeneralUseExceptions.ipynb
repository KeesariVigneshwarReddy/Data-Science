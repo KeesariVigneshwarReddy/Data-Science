{
 "cells": [
  {
   "cell_type": "code",
   "execution_count": 1,
   "metadata": {},
   "outputs": [
    {
     "name": "stdout",
     "output_type": "stream",
     "text": [
      "division by zero\n"
     ]
    }
   ],
   "source": [
    "# type 1 - division by zero\n",
    "try :\n",
    "    a = 10\n",
    "    a / 0 \n",
    "except ZeroDivisionError as e :\n",
    "    print(e)"
   ]
  },
  {
   "cell_type": "code",
   "execution_count": 2,
   "metadata": {},
   "outputs": [
    {
     "name": "stdout",
     "output_type": "stream",
     "text": [
      "invalid literal for int() with base 10: 'Vignesh'\n"
     ]
    }
   ],
   "source": [
    "# type 2 - invalid typecast\n",
    "try :\n",
    "    int (\"Vignesh\")\n",
    "except (ValueError, TypeError) as e :\n",
    "    print(e)"
   ]
  },
  {
   "cell_type": "code",
   "execution_count": 3,
   "metadata": {},
   "outputs": [
    {
     "name": "stdout",
     "output_type": "stream",
     "text": [
      "This will catch an error\n"
     ]
    }
   ],
   "source": [
    "# type 3 - when we do not know which exception our code leads to\n",
    "# this is not a good practice\n",
    "try :\n",
    "    int(\"Vignesh\")\n",
    "except :\n",
    "    print(\"This will catch an error\")"
   ]
  },
  {
   "cell_type": "code",
   "execution_count": 4,
   "metadata": {},
   "outputs": [
    {
     "name": "stdout",
     "output_type": "stream",
     "text": [
      "No module named 'Vignesh'\n"
     ]
    }
   ],
   "source": [
    "# type 4 - Import error\n",
    "try :\n",
    "    import Vignesh \n",
    "except ImportError as e :\n",
    "    print(e)"
   ]
  },
  {
   "cell_type": "code",
   "execution_count": 8,
   "metadata": {},
   "outputs": [
    {
     "name": "stdout",
     "output_type": "stream",
     "text": [
      "'key1'\n"
     ]
    }
   ],
   "source": [
    "# type 5 - invalid key accessing\n",
    "try :\n",
    "    d = {1 : [2, 3, 4], \"key\" : \"Vignesh\"}\n",
    "    d[\"key1\"]\n",
    "except KeyError as e :\n",
    "    print(e)"
   ]
  },
  {
   "cell_type": "code",
   "execution_count": 9,
   "metadata": {},
   "outputs": [
    {
     "name": "stdout",
     "output_type": "stream",
     "text": [
      "'str' object has no attribute 'test'\n"
     ]
    }
   ],
   "source": [
    "# type 6 - Attribut error\n",
    "try :\n",
    "    \"vignesh\".test()\n",
    "except AttributeError as e :\n",
    "    print(e)"
   ]
  },
  {
   "cell_type": "code",
   "execution_count": 10,
   "metadata": {},
   "outputs": [
    {
     "name": "stdout",
     "output_type": "stream",
     "text": [
      "list index out of range\n"
     ]
    }
   ],
   "source": [
    "# type 7 - Index error\n",
    "try :\n",
    "    Lists = [1, 2, 3, 8]\n",
    "    Lists[10]\n",
    "except IndexError as e :\n",
    "    print(e)"
   ]
  },
  {
   "cell_type": "code",
   "execution_count": 11,
   "metadata": {},
   "outputs": [
    {
     "name": "stdout",
     "output_type": "stream",
     "text": [
      "unsupported operand type(s) for +: 'int' and 'str'\n"
     ]
    }
   ],
   "source": [
    "# type 8 - Type Error\n",
    "try :\n",
    "    123 + \"Vignesh\"\n",
    "except TypeError as e :\n",
    "    print(e) "
   ]
  },
  {
   "cell_type": "code",
   "execution_count": 12,
   "metadata": {},
   "outputs": [
    {
     "name": "stdout",
     "output_type": "stream",
     "text": [
      "[Errno 2] No such file or directory: 'plankton.txt'\n"
     ]
    }
   ],
   "source": [
    "# type 9 - File not found\n",
    "try :\n",
    "    with open(\"plankton.txt\", \"r\") as f :\n",
    "        f.read()\n",
    "except FileNotFoundError as e :\n",
    "    print(e)"
   ]
  },
  {
   "cell_type": "code",
   "execution_count": 14,
   "metadata": {},
   "outputs": [
    {
     "name": "stdout",
     "output_type": "stream",
     "text": [
      "Test [Errno 2] No such file or directory: 'plankton.txt'\n"
     ]
    }
   ],
   "source": [
    "try :\n",
    "    with open(\"plankton.txt\", \"r\") as f :\n",
    "        f.read()\n",
    "# the exception is handled by Exception class\n",
    "# we have written exception super class above the sub class\n",
    "# so the exception is handled by Exception class\n",
    "# but never write a super class in first place, actually write it in last place when you not sure that specific classes could not handle exceptions\n",
    "except Exception as e :\n",
    "    print(\"Test\", e)\n",
    "except FileNotFoundError as e :\n",
    "    print(\"This is my file not found type error\")"
   ]
  },
  {
   "cell_type": "code",
   "execution_count": 15,
   "metadata": {},
   "outputs": [],
   "source": [
    "def test(file) :\n",
    "    try :\n",
    "        with open(file, \"r\") as f :\n",
    "            f.read()\n",
    "    except Exception as e :\n",
    "        print(\"Test\", e)\n",
    "    except FileNotFoundError as e :\n",
    "        print(\"This is my file not found type error\")"
   ]
  },
  {
   "cell_type": "markdown",
   "metadata": {},
   "source": [
    ". ZeroDivisionError         |\n",
    ". (ValueError, TypeError)   |\n",
    ". ImportError               |\n",
    ". KeyError                  |\n",
    ". AttributeError            | -> Exception class\n",
    ". IndexError                |\n",
    ". TypeError                 |\n",
    ". FileNotFoundError         |\n",
    "and many more"
   ]
  }
 ],
 "metadata": {
  "kernelspec": {
   "display_name": "Python 3.8.10 64-bit",
   "language": "python",
   "name": "python3"
  },
  "language_info": {
   "codemirror_mode": {
    "name": "ipython",
    "version": 3
   },
   "file_extension": ".py",
   "mimetype": "text/x-python",
   "name": "python",
   "nbconvert_exporter": "python",
   "pygments_lexer": "ipython3",
   "version": "3.8.10"
  },
  "orig_nbformat": 4,
  "vscode": {
   "interpreter": {
    "hash": "e7370f93d1d0cde622a1f8e1c04877d8463912d04d973331ad4851f04de6915a"
   }
  }
 },
 "nbformat": 4,
 "nbformat_minor": 2
}
