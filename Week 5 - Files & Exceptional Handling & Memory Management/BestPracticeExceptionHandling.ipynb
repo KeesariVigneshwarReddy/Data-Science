{
 "cells": [
  {
   "cell_type": "code",
   "execution_count": 1,
   "metadata": {},
   "outputs": [
    {
     "name": "stdout",
     "output_type": "stream",
     "text": [
      "division by zero\n"
     ]
    }
   ],
   "source": [
    "# use always a specific exception\n",
    "try :\n",
    "    10/0\n",
    "except Exception as e :\n",
    "    print(e)\n",
    "# this will handle the exception but you should not write a production based code usinf super class"
   ]
  },
  {
   "cell_type": "code",
   "execution_count": 2,
   "metadata": {},
   "outputs": [
    {
     "name": "stdout",
     "output_type": "stream",
     "text": [
      "division by zero\n"
     ]
    }
   ],
   "source": [
    "try :\n",
    "    1/0\n",
    "except ZeroDivisionError as e :\n",
    "    print(e)"
   ]
  },
  {
   "cell_type": "code",
   "execution_count": 3,
   "metadata": {},
   "outputs": [
    {
     "name": "stdout",
     "output_type": "stream",
     "text": [
      "Hello\n"
     ]
    }
   ],
   "source": [
    "print(\"Hello\")"
   ]
  },
  {
   "cell_type": "code",
   "execution_count": 1,
   "metadata": {},
   "outputs": [
    {
     "name": "stdout",
     "output_type": "stream",
     "text": [
      "This is my zero division error\n"
     ]
    }
   ],
   "source": [
    "# print a valid message\n",
    "try :\n",
    "    10 / 0\n",
    "except ZeroDivisionError as e :\n",
    "    print(\"This is my zero division error\")"
   ]
  },
  {
   "cell_type": "code",
   "execution_count": 2,
   "metadata": {},
   "outputs": [],
   "source": [
    "# always try to log\n",
    "# this print statement will be gone when we restart the console\n",
    "# but if we log then the process will be saved in a file and we can process it in hard disk\n",
    "import logging\n",
    "logging.basicConfig(filename = \"error.log\", level = logging.ERROR)\n",
    "try : \n",
    "    10 / 0\n",
    "except ZeroDivisionError as e :\n",
    "    logging.error(\"this is my zero division error I am handling\\n{}\".format(e))"
   ]
  },
  {
   "cell_type": "code",
   "execution_count": 3,
   "metadata": {},
   "outputs": [],
   "source": [
    "# always avoid to write a multiple exception handling\n",
    "# try to write only those errors which you may get during run time\n",
    "try :\n",
    "    10 / 0\n",
    "except FileNotFoundError as e :\n",
    "    logging.error(\"this is my file not found error\\n{}\". format(e))\n",
    "except AttributeError as e :\n",
    "    logging.error(\"this is my Attribute error\\n{}\". format(e))\n",
    "except ZeroDivisionError as e :\n",
    "    logging.error(\"this is my zero division error\\n{}\". format(e))"
   ]
  },
  {
   "cell_type": "code",
   "execution_count": 4,
   "metadata": {},
   "outputs": [],
   "source": [
    "# always prepare a proper documentation\n",
    "# avoid creating anything which may give a problem to a person who is going to check the code"
   ]
  },
  {
   "cell_type": "code",
   "execution_count": 5,
   "metadata": {},
   "outputs": [],
   "source": [
    "# clean up all the resources\n",
    "# like closing the files\n",
    "try :\n",
    "    with open(\"temp.txt\", 'w') as f :\n",
    "        f.write(\"This is my message in file\")\n",
    "except FileNotFoundError as e :\n",
    "    logging.error(\"Hi this is my file not found error {}\". format(e))\n",
    "finally :\n",
    "    f.close()\n",
    "# like if we are to open a database connectivity\n",
    "# then it should be closed also\n",
    "# it prevents us to use unrelaible band width"
   ]
  },
  {
   "cell_type": "code",
   "execution_count": null,
   "metadata": {},
   "outputs": [],
   "source": []
  }
 ],
 "metadata": {
  "kernelspec": {
   "display_name": "Python 3.8.10 64-bit",
   "language": "python",
   "name": "python3"
  },
  "language_info": {
   "codemirror_mode": {
    "name": "ipython",
    "version": 3
   },
   "file_extension": ".py",
   "mimetype": "text/x-python",
   "name": "python",
   "nbconvert_exporter": "python",
   "pygments_lexer": "ipython3",
   "version": "3.8.10"
  },
  "orig_nbformat": 4,
  "vscode": {
   "interpreter": {
    "hash": "e7370f93d1d0cde622a1f8e1c04877d8463912d04d973331ad4851f04de6915a"
   }
  }
 },
 "nbformat": 4,
 "nbformat_minor": 2
}
