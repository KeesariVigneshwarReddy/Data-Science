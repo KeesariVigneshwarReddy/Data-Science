{
 "cells": [
  {
   "cell_type": "markdown",
   "metadata": {},
   "source": [
    "Let the computer have 4 cores C1 C2 C3 C4\n",
    "Let Program P1 run in C1\n",
    "            P2        C2\n",
    "            P3        C3\n",
    "            P4        C4\n",
    "With the help of multithreading we can different instances of same program in same core\n",
    "\n",
    "We want to run different instances of a program parallelly\n",
    "Multiprocessing comes into picture. Programs can be executed in different cores"
   ]
  },
  {
   "cell_type": "code",
   "execution_count": 3,
   "metadata": {},
   "outputs": [
    {
     "name": "stdout",
     "output_type": "stream",
     "text": [
      "This is my main program\n"
     ]
    }
   ],
   "source": [
    "import multiprocessing\n",
    "def test() :\n",
    "    print(\"this is my multiprocessing program\")\n",
    "if __name__ == \"__main__\" :\n",
    "    m = multiprocessing.Process(target = test)\n",
    "    print(\"This is my main program\")"
   ]
  },
  {
   "cell_type": "code",
   "execution_count": null,
   "metadata": {},
   "outputs": [],
   "source": []
  }
 ],
 "metadata": {
  "kernelspec": {
   "display_name": "Python 3.8.10 64-bit",
   "language": "python",
   "name": "python3"
  },
  "language_info": {
   "codemirror_mode": {
    "name": "ipython",
    "version": 3
   },
   "file_extension": ".py",
   "mimetype": "text/x-python",
   "name": "python",
   "nbconvert_exporter": "python",
   "pygments_lexer": "ipython3",
   "version": "3.8.10"
  },
  "orig_nbformat": 4,
  "vscode": {
   "interpreter": {
    "hash": "e7370f93d1d0cde622a1f8e1c04877d8463912d04d973331ad4851f04de6915a"
   }
  }
 },
 "nbformat": 4,
 "nbformat_minor": 2
}
