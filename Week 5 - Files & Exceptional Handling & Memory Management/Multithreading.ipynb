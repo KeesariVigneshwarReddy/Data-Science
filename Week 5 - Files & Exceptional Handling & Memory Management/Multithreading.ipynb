{
 "cells": [
  {
   "cell_type": "markdown",
   "metadata": {},
   "source": [
    "assume we have 4 core in a computer, Core C1 C2 C3 C4\n",
    "let Program P1 run in C1\n",
    "            P2 run in C2\n",
    "            P3 run in C3\n",
    "            P4 run in C4\n",
    "Concept of threading comes into picture when we want run P1 multiple times in same core C1.\n",
    "It includes creating the multiple threads or processes or sub processes of P1 in same core C1. It will execute the program consecutively."
   ]
  },
  {
   "cell_type": "code",
   "execution_count": 1,
   "metadata": {},
   "outputs": [],
   "source": [
    "import threading"
   ]
  },
  {
   "cell_type": "code",
   "execution_count": 2,
   "metadata": {},
   "outputs": [],
   "source": [
    "def test(id) :\n",
    "    print(\"This is my test ID = %d\" %id)"
   ]
  },
  {
   "cell_type": "code",
   "execution_count": 3,
   "metadata": {},
   "outputs": [
    {
     "name": "stdout",
     "output_type": "stream",
     "text": [
      "This is my test ID = 10\n"
     ]
    }
   ],
   "source": [
    "test(10)"
   ]
  },
  {
   "cell_type": "code",
   "execution_count": 4,
   "metadata": {},
   "outputs": [
    {
     "name": "stdout",
     "output_type": "stream",
     "text": [
      "This is my test ID = 1\n"
     ]
    }
   ],
   "source": [
    "test(1)"
   ]
  },
  {
   "cell_type": "code",
   "execution_count": 5,
   "metadata": {},
   "outputs": [
    {
     "name": "stdout",
     "output_type": "stream",
     "text": [
      "This is my test ID = 3\n"
     ]
    }
   ],
   "source": [
    "test(3)"
   ]
  },
  {
   "cell_type": "code",
   "execution_count": 7,
   "metadata": {},
   "outputs": [],
   "source": [
    "# I want to call all of these function simultaneously and in a automated order\n",
    "thred = [threading.Thread(target = test, args = (i,)) for i in [10, 1, 3]]"
   ]
  },
  {
   "cell_type": "code",
   "execution_count": 8,
   "metadata": {},
   "outputs": [
    {
     "data": {
      "text/plain": [
       "[<Thread(Thread-4, initial)>,\n",
       " <Thread(Thread-5, initial)>,\n",
       " <Thread(Thread-6, initial)>]"
      ]
     },
     "execution_count": 8,
     "metadata": {},
     "output_type": "execute_result"
    }
   ],
   "source": [
    "# now in a single core three threads are created\n",
    "# it is ensured that the function runs multiple times in same core\n",
    "thred"
   ]
  },
  {
   "cell_type": "code",
   "execution_count": 9,
   "metadata": {},
   "outputs": [
    {
     "name": "stdout",
     "output_type": "stream",
     "text": [
      "This is my test ID = 10\n",
      "This is my test ID = 1\n",
      "This is my test ID = 3\n"
     ]
    }
   ],
   "source": [
    "for i in thred:\n",
    "    i.start()"
   ]
  },
  {
   "cell_type": "code",
   "execution_count": 10,
   "metadata": {},
   "outputs": [],
   "source": [
    "# we have 3 link which contain data\n",
    "# link 1 : https://raw.githubusercontent.com/itsfoss/text-files/master/agatha.txt\n",
    "# link 2 : https://raw.githubusercontent.com/itsfoss/text-files/master/sherlock.txt\n",
    "# link 3 : https://raw.githubusercontent.com/itsfoss/text-files/master/sample_log_file.txt\n",
    "# write a program which will fetch data from the links and save it in a file"
   ]
  },
  {
   "cell_type": "code",
   "execution_count": 11,
   "metadata": {},
   "outputs": [],
   "source": [
    "import urllib.request\n",
    "def file_download(url, filename) :\n",
    "    urllib.request.urlretrieve(url, filename)"
   ]
  },
  {
   "cell_type": "code",
   "execution_count": 12,
   "metadata": {},
   "outputs": [],
   "source": [
    "file_download(\"https://raw.githubusercontent.com/itsfoss/text-files/master/agatha.txt\", \"link1.txt\")"
   ]
  },
  {
   "cell_type": "code",
   "execution_count": 13,
   "metadata": {},
   "outputs": [],
   "source": [
    "url_List = [\"https://raw.githubusercontent.com/itsfoss/text-files/master/agatha.txt\", \"https://raw.githubusercontent.com/itsfoss/text-files/master/sherlock.txt\", \"https://raw.githubusercontent.com/itsfoss/text-files/master/sample_log_file.txt\"]"
   ]
  },
  {
   "cell_type": "code",
   "execution_count": 14,
   "metadata": {},
   "outputs": [
    {
     "data": {
      "text/plain": [
       "['https://raw.githubusercontent.com/itsfoss/text-files/master/agatha.txt',\n",
       " 'https://raw.githubusercontent.com/itsfoss/text-files/master/sherlock.txt',\n",
       " 'https://raw.githubusercontent.com/itsfoss/text-files/master/sample_log_file.txt']"
      ]
     },
     "execution_count": 14,
     "metadata": {},
     "output_type": "execute_result"
    }
   ],
   "source": [
    "url_List"
   ]
  },
  {
   "cell_type": "code",
   "execution_count": 15,
   "metadata": {},
   "outputs": [],
   "source": [
    "data_FileList = [\"data1.txt\", \"data2.txt\", \"data3.txt\"]"
   ]
  },
  {
   "cell_type": "code",
   "execution_count": 16,
   "metadata": {},
   "outputs": [
    {
     "data": {
      "text/plain": [
       "['data1.txt', 'data2.txt', 'data3.txt']"
      ]
     },
     "execution_count": 16,
     "metadata": {},
     "output_type": "execute_result"
    }
   ],
   "source": [
    "data_FileList"
   ]
  },
  {
   "cell_type": "code",
   "execution_count": 18,
   "metadata": {},
   "outputs": [],
   "source": [
    "thred = [threading.Thread(target = file_download, args = (url_List[i], data_FileList[i])) for i in range(len(url_List))]"
   ]
  },
  {
   "cell_type": "code",
   "execution_count": 19,
   "metadata": {},
   "outputs": [
    {
     "data": {
      "text/plain": [
       "[<Thread(Thread-7, initial)>,\n",
       " <Thread(Thread-8, initial)>,\n",
       " <Thread(Thread-9, initial)>]"
      ]
     },
     "execution_count": 19,
     "metadata": {},
     "output_type": "execute_result"
    }
   ],
   "source": [
    "thred"
   ]
  },
  {
   "cell_type": "code",
   "execution_count": 20,
   "metadata": {},
   "outputs": [],
   "source": [
    "for t in thred :\n",
    "    t.start()"
   ]
  },
  {
   "cell_type": "code",
   "execution_count": 22,
   "metadata": {},
   "outputs": [],
   "source": [
    "import time \n",
    "def test2(x) :\n",
    "    for i in range(10) :\n",
    "        print(\"Test 1 prints value x = %d\\nand prints value i = %d\" %(x, i))"
   ]
  },
  {
   "cell_type": "code",
   "execution_count": 23,
   "metadata": {},
   "outputs": [
    {
     "name": "stdout",
     "output_type": "stream",
     "text": [
      "Test 1 prints value x = 10\n",
      "and prints value i = 0\n",
      "Test 1 prints value x = 10\n",
      "and prints value i = 1\n",
      "Test 1 prints value x = 10\n",
      "and prints value i = 2\n",
      "Test 1 prints value x = 10\n",
      "and prints value i = 3\n",
      "Test 1 prints value x = 10\n",
      "and prints value i = 4\n",
      "Test 1 prints value x = 10\n",
      "and prints value i = 5\n",
      "Test 1 prints value x = 10\n",
      "and prints value i = 6\n",
      "Test 1 prints value x = 10\n",
      "and prints value i = 7\n",
      "Test 1 prints value x = 10\n",
      "and prints value i = 8\n",
      "Test 1 prints value x = 10\n",
      "and prints value i = 9\n"
     ]
    }
   ],
   "source": [
    "test2(10)"
   ]
  },
  {
   "cell_type": "code",
   "execution_count": 24,
   "metadata": {},
   "outputs": [
    {
     "name": "stdout",
     "output_type": "stream",
     "text": [
      "Test 1 prints value x = 2\n",
      "and prints value i = 0\n",
      "Test 1 prints value x = 2\n",
      "and prints value i = 1\n",
      "Test 1 prints value x = 2\n",
      "and prints value i = 2\n",
      "Test 1 prints value x = 2\n",
      "and prints value i = 3\n",
      "Test 1 prints value x = 2\n",
      "and prints value i = 4\n",
      "Test 1 prints value x = 2\n",
      "and prints value i = 5\n",
      "Test 1 prints value x = 2\n",
      "and prints value i = 6\n",
      "Test 1 prints value x = 2\n",
      "and prints value i = 7\n",
      "Test 1 prints value x = 2\n",
      "and prints value i = 8\n",
      "Test 1 prints value x = 2\n",
      "and prints value i = 9\n"
     ]
    }
   ],
   "source": [
    "test2(2)"
   ]
  },
  {
   "cell_type": "code",
   "execution_count": 36,
   "metadata": {},
   "outputs": [],
   "source": [
    "import time \n",
    "def test2(x) :\n",
    "    for i in range(3) :\n",
    "        print(\"Test 1 prints value x = %d\\nand prints value i = %d\" %(x, i))\n",
    "        time.sleep(1)\n",
    "# it runs an iteration and sleep for 1 sec"
   ]
  },
  {
   "cell_type": "code",
   "execution_count": 37,
   "metadata": {},
   "outputs": [
    {
     "name": "stdout",
     "output_type": "stream",
     "text": [
      "Test 1 prints value x = 10\n",
      "and prints value i = 0\n",
      "Test 1 prints value x = 10\n",
      "and prints value i = 1\n",
      "Test 1 prints value x = 10\n",
      "and prints value i = 2\n"
     ]
    }
   ],
   "source": [
    "test2(10)"
   ]
  },
  {
   "cell_type": "code",
   "execution_count": 38,
   "metadata": {},
   "outputs": [],
   "source": [
    "thread2 = [threading.Thread(target = test2, args = (i,)) for i in [100, 10, 20]]"
   ]
  },
  {
   "cell_type": "code",
   "execution_count": 39,
   "metadata": {},
   "outputs": [
    {
     "data": {
      "text/plain": [
       "[<Thread(Thread-21, initial)>,\n",
       " <Thread(Thread-22, initial)>,\n",
       " <Thread(Thread-23, initial)>]"
      ]
     },
     "execution_count": 39,
     "metadata": {},
     "output_type": "execute_result"
    }
   ],
   "source": [
    "thread2"
   ]
  },
  {
   "cell_type": "code",
   "execution_count": 40,
   "metadata": {},
   "outputs": [
    {
     "name": "stdout",
     "output_type": "stream",
     "text": [
      "Test 1 prints value x = 100\n",
      "and prints value i = 0\n",
      "Test 1 prints value x = 10\n",
      "and prints value i = 0\n",
      "Test 1 prints value x = 20\n",
      "and prints value i = 0\n"
     ]
    },
    {
     "name": "stdout",
     "output_type": "stream",
     "text": [
      "Test 1 prints value x = 10\n",
      "and prints value i = 1\n",
      "Test 1 prints value x = 20\n",
      "and prints value i = 1\n",
      "Test 1 prints value x = 100\n",
      "and prints value i = 1\n",
      "Test 1 prints value x = 10\n",
      "and prints value i = 2Test 1 prints value x = 100\n",
      "and prints value i = 2\n",
      "Test 1 prints value x = 20\n",
      "and prints value i = 2\n",
      "\n"
     ]
    }
   ],
   "source": [
    "\"\"\"\n",
    "when this thread2 is running test2() runs first for 100 and goes for sleeep\n",
    "   in the remaining time other threads are running\n",
    "and this repeats\n",
    "\"\"\"\n",
    "for i in thread2 :\n",
    "    i.start()"
   ]
  },
  {
   "cell_type": "code",
   "execution_count": 8,
   "metadata": {},
   "outputs": [],
   "source": [
    "\"\"\"\n",
    "We have made shared_var global because we want everyone in a core to modify its value\n",
    "\"\"\"\n",
    "import threading\n",
    "import time\n",
    "shared_var = 0\n",
    "lock_var = threading.Lock()\n",
    "def test3(x) :\n",
    "    global shared_var\n",
    "    with lock_var :\n",
    "        shared_var += 1\n",
    "        print(\"value of x = %d and value of shared_var = %d\" %(x, shared_var))\n",
    "        time.sleep(1)\n",
    "thread4 = [threading.Thread(target = test3, args = (i,)) for i in [1, 2, 3, 4, 5]]"
   ]
  },
  {
   "cell_type": "code",
   "execution_count": 9,
   "metadata": {},
   "outputs": [
    {
     "name": "stdout",
     "output_type": "stream",
     "text": [
      "value of x = 1 and value of shared_var = 1\n"
     ]
    }
   ],
   "source": [
    "test3(1)"
   ]
  },
  {
   "cell_type": "code",
   "execution_count": 10,
   "metadata": {},
   "outputs": [
    {
     "name": "stdout",
     "output_type": "stream",
     "text": [
      "value of x = 1 and value of shared_var = 2\n"
     ]
    },
    {
     "name": "stdout",
     "output_type": "stream",
     "text": [
      "value of x = 2 and value of shared_var = 3\n",
      "value of x = 3 and value of shared_var = 4\n",
      "value of x = 4 and value of shared_var = 5\n",
      "value of x = 5 and value of shared_var = 6\n"
     ]
    }
   ],
   "source": [
    "for t in thread4 :\n",
    "    t.start()"
   ]
  },
  {
   "cell_type": "code",
   "execution_count": 1,
   "metadata": {},
   "outputs": [
    {
     "name": "stdout",
     "output_type": "stream",
     "text": [
      "Hello world\n"
     ]
    }
   ],
   "source": [
    "print(\"Hello world\")"
   ]
  },
  {
   "cell_type": "code",
   "execution_count": null,
   "metadata": {},
   "outputs": [],
   "source": [
    "# thread is an instance of same function"
   ]
  }
 ],
 "metadata": {
  "kernelspec": {
   "display_name": "Python 3.8.10 64-bit",
   "language": "python",
   "name": "python3"
  },
  "language_info": {
   "codemirror_mode": {
    "name": "ipython",
    "version": 3
   },
   "file_extension": ".py",
   "mimetype": "text/x-python",
   "name": "python",
   "nbconvert_exporter": "python",
   "pygments_lexer": "ipython3",
   "version": "3.8.10"
  },
  "orig_nbformat": 4,
  "vscode": {
   "interpreter": {
    "hash": "e7370f93d1d0cde622a1f8e1c04877d8463912d04d973331ad4851f04de6915a"
   }
  }
 },
 "nbformat": 4,
 "nbformat_minor": 2
}
