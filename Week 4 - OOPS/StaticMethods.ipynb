{
 "cells": [
  {
   "cell_type": "code",
   "execution_count": 1,
   "metadata": {},
   "outputs": [],
   "source": [
    "class PWSkills :\n",
    "    def student_details(self, name, email, number) :\n",
    "        print(name, email, number)"
   ]
  },
  {
   "cell_type": "code",
   "execution_count": 2,
   "metadata": {},
   "outputs": [],
   "source": [
    "pw = pwskills()"
   ]
  },
  {
   "cell_type": "code",
   "execution_count": 3,
   "metadata": {},
   "outputs": [
    {
     "name": "stdout",
     "output_type": "stream",
     "text": [
      "Vignesh vigneshwar472@gmail.com 8520147963\n"
     ]
    }
   ],
   "source": [
    "pw.student_details(\"Vignesh\", \"vigneshwar472@gmail.com\", 8520147963)\n",
    "# the entered details are not assigned to object but they sre printed since there is a print statement in the function"
   ]
  },
  {
   "cell_type": "code",
   "execution_count": 7,
   "metadata": {},
   "outputs": [],
   "source": [
    "\n",
    "# we are trying to create something which can be associated with class but not with objects\n",
    "class PWSkills1 :\n",
    "    def student_details(self, name, email, number) :\n",
    "        print(name, email, number)\n",
    "    @staticmethod\n",
    "    def mentor_class(list_mentor) :\n",
    "        print(list_mentor)\n",
    "    # instance method\n",
    "    def mentor(self, mentor_list) :\n",
    "        print(mentor_list)"
   ]
  },
  {
   "cell_type": "markdown",
   "metadata": {},
   "source": [
    "In a static method, we do not give reference\n",
    "In a class method, we give reference cls\n",
    "In a instance method, we give a reference self\n",
    "\n",
    "we can call static method directly with the help of class name or object\n",
    "\n",
    "To access an instance method we need to make an object\n",
    "\n",
    "Whenever a method is static that means it will available accross all objects. Internally it is not going to create different functions for different objects.\n",
    "\n",
    "Whereas in instance method, for different objects different instances are created. This is going to burden memory a lot."
   ]
  },
  {
   "cell_type": "code",
   "execution_count": 8,
   "metadata": {},
   "outputs": [
    {
     "name": "stdout",
     "output_type": "stream",
     "text": [
      "['Vignesh', 'Rohan', 'Sohan', 'Mohan', 69]\n"
     ]
    }
   ],
   "source": [
    "# accessing static class with class name\n",
    "PWSkills1.mentor_class([\"Vignesh\", \"Rohan\", \"Sohan\", \"Mohan\", 69])"
   ]
  },
  {
   "cell_type": "code",
   "execution_count": 9,
   "metadata": {},
   "outputs": [],
   "source": [
    "pw1 = PWSkills1()"
   ]
  },
  {
   "cell_type": "code",
   "execution_count": 11,
   "metadata": {},
   "outputs": [
    {
     "name": "stdout",
     "output_type": "stream",
     "text": [
      "['Sudhanshu', 'Krish naik', 'Subhodeep']\n"
     ]
    }
   ],
   "source": [
    "pw1.mentor([\"Sudhanshu\", \"Krish naik\", \"Subhodeep\"])"
   ]
  },
  {
   "cell_type": "code",
   "execution_count": 12,
   "metadata": {},
   "outputs": [
    {
     "name": "stdout",
     "output_type": "stream",
     "text": [
      "['Sudhanshu', 'Krish naik', 'Subhodeep']\n"
     ]
    }
   ],
   "source": [
    "# accessing static class with object \n",
    "pw1.mentor_class([\"Sudhanshu\", \"Krish naik\", \"Subhodeep\"])"
   ]
  },
  {
   "cell_type": "code",
   "execution_count": 15,
   "metadata": {},
   "outputs": [],
   "source": [
    "# accessing static method inside instance method\n",
    "class PWSkills1 :\n",
    "    def student_details(self, name, email, number) :\n",
    "        print(name, email, number)\n",
    "        # static method cannot be accessed above it\n",
    "        # self.mentor_class will give error\n",
    "    @staticmethod\n",
    "    def mentor_mail_id(mentor_mail_id) :\n",
    "        print(mentor_mail_id)\n",
    "    @staticmethod\n",
    "    def mentor_class(list_mentor) :\n",
    "        print(list_mentor)\n",
    "        # static method can be accessed in static method\n",
    "        # But static method 2 should be below static method 1\n",
    "        PWSkills1.mentor_mail_id([\"sudh@gmail.com\", \"krish@gmail.com\"])\n",
    "    @classmethod\n",
    "    def class_name(cls, class_name) :\n",
    "        # static method can be accessed in class method\n",
    "        # But class method should be below static method\n",
    "        cls.mentor_class([\"Sudhanshu\", \"Krish\"])\n",
    "    # instance method\n",
    "    def mentor(self, mentor_list) :\n",
    "        print(mentor_list)\n",
    "        # static method can be accessed below it\n",
    "        self.mentor_class([\"Sudhanshu\", \"Krish\"])"
   ]
  },
  {
   "cell_type": "code",
   "execution_count": 16,
   "metadata": {},
   "outputs": [],
   "source": [
    "pw1 = PWSkills1()"
   ]
  },
  {
   "cell_type": "code",
   "execution_count": 17,
   "metadata": {},
   "outputs": [
    {
     "name": "stdout",
     "output_type": "stream",
     "text": [
      "Mohan mohan@gmail.com 9676146465\n"
     ]
    }
   ],
   "source": [
    "# accessing a instance method with object\n",
    "pw1.student_details(\"Mohan\", \"mohan@gmail.com\", 9676146465)"
   ]
  },
  {
   "cell_type": "code",
   "execution_count": 18,
   "metadata": {},
   "outputs": [
    {
     "name": "stdout",
     "output_type": "stream",
     "text": [
      "['sudh@gmail.com', 'krish@gmail.com']\n"
     ]
    }
   ],
   "source": [
    "# accessing a static method with object\n",
    "pw1.mentor_mail_id([\"sudh@gmail.com\", \"krish@gmail.com\"])"
   ]
  },
  {
   "cell_type": "code",
   "execution_count": 19,
   "metadata": {},
   "outputs": [
    {
     "name": "stdout",
     "output_type": "stream",
     "text": [
      "['Sudhanshu', 'Krish']\n",
      "['sudh@gmail.com', 'krish@gmail.com']\n"
     ]
    }
   ],
   "source": [
    "# accessing a class method with object\n",
    "pw1.class_name(\"Impact Batch\")"
   ]
  },
  {
   "cell_type": "code",
   "execution_count": 20,
   "metadata": {},
   "outputs": [
    {
     "name": "stdout",
     "output_type": "stream",
     "text": [
      "['sudh@gmail.com', 'krish@gmail.com']\n"
     ]
    }
   ],
   "source": [
    "# accessing a static method with class name\n",
    "PWSkills1.mentor_mail_id([\"sudh@gmail.com\", \"krish@gmail.com\"])"
   ]
  },
  {
   "cell_type": "markdown",
   "metadata": {},
   "source": [
    "Static method reduces memory utilization\n",
    "class method helps overloading static method"
   ]
  }
 ],
 "metadata": {
  "kernelspec": {
   "display_name": "Python 3.8.10 64-bit",
   "language": "python",
   "name": "python3"
  },
  "language_info": {
   "codemirror_mode": {
    "name": "ipython",
    "version": 3
   },
   "file_extension": ".py",
   "mimetype": "text/x-python",
   "name": "python",
   "nbconvert_exporter": "python",
   "pygments_lexer": "ipython3",
   "version": "3.8.10"
  },
  "orig_nbformat": 4,
  "vscode": {
   "interpreter": {
    "hash": "e7370f93d1d0cde622a1f8e1c04877d8463912d04d973331ad4851f04de6915a"
   }
  }
 },
 "nbformat": 4,
 "nbformat_minor": 2
}
