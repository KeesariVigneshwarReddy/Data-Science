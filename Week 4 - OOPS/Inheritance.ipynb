{
 "cells": [
  {
   "cell_type": "markdown",
   "metadata": {},
   "source": [
    "A class can inherit properties of another class."
   ]
  },
  {
   "cell_type": "code",
   "execution_count": 1,
   "metadata": {},
   "outputs": [],
   "source": [
    "class parent :\n",
    "    def test_parent(self) :\n",
    "        print(\"Hi this is my parent class\")"
   ]
  },
  {
   "cell_type": "code",
   "execution_count": 2,
   "metadata": {},
   "outputs": [],
   "source": [
    "# child implements parent\n",
    "# all methods and variables of parent is inherited to child\n",
    "class child(parent) :\n",
    "    pass"
   ]
  },
  {
   "cell_type": "code",
   "execution_count": 3,
   "metadata": {},
   "outputs": [
    {
     "name": "stdout",
     "output_type": "stream",
     "text": [
      "Hi this is my parent class\n"
     ]
    }
   ],
   "source": [
    "child1 = child()\n",
    "child1.test_parent()"
   ]
  },
  {
   "cell_type": "code",
   "execution_count": 4,
   "metadata": {},
   "outputs": [],
   "source": [
    "# multi level inheritance\n",
    "class class1 :\n",
    "    def test_class1(self) :\n",
    "        print(\"Hi this is class 1\")\n",
    "class class2(class1) :\n",
    "    def test_class2(self) :\n",
    "        print(\"Hi this is class 2\")\n",
    "class class3(class2) :\n",
    "    def test_class3(self) :\n",
    "        print(\"Hi this is class 3\")"
   ]
  },
  {
   "cell_type": "code",
   "execution_count": 9,
   "metadata": {},
   "outputs": [
    {
     "name": "stdout",
     "output_type": "stream",
     "text": [
      "Hi this is class 3\n",
      "Hi this is class 2\n",
      "Hi this is class 1\n"
     ]
    }
   ],
   "source": [
    "# object of class 3 can access all variables and methods of class 2 and class 1\n",
    "object3 = class3()\n",
    "object3.test_class3()\n",
    "object3.test_class2()\n",
    "object3.test_class1()"
   ]
  },
  {
   "cell_type": "code",
   "execution_count": 14,
   "metadata": {},
   "outputs": [
    {
     "name": "stdout",
     "output_type": "stream",
     "text": [
      "Hi this is class 2\n",
      "Hi this is class 1\n"
     ]
    }
   ],
   "source": [
    "# object of class 2 can access all variable and methods of class 1 but not class 3 \n",
    "object2 = class2()\n",
    "object2.test_class2()\n",
    "object2.test_class1()"
   ]
  },
  {
   "cell_type": "code",
   "execution_count": 15,
   "metadata": {},
   "outputs": [],
   "source": [
    "# multiple inheritance\n",
    "class class1 :\n",
    "    def test_class1(self) :\n",
    "        print(\"Hi this is class 1\")\n",
    "class class2 :\n",
    "    def test_class2(self) :\n",
    "        print(\"Hi this is class 2\")\n",
    "class class3(class1, class2) :\n",
    "    def test_class3(self) :\n",
    "        print(\"Hi this is class 3\")"
   ]
  },
  {
   "cell_type": "code",
   "execution_count": 16,
   "metadata": {},
   "outputs": [
    {
     "name": "stdout",
     "output_type": "stream",
     "text": [
      "Hi this is class 3\n",
      "Hi this is class 2\n",
      "Hi this is class 1\n"
     ]
    }
   ],
   "source": [
    "# object3 can access methods and variable of class 3, 2, 1\n",
    "object3 = class3()\n",
    "object3.test_class3()\n",
    "object3.test_class2()\n",
    "object3.test_class1()"
   ]
  },
  {
   "cell_type": "code",
   "execution_count": null,
   "metadata": {},
   "outputs": [],
   "source": []
  }
 ],
 "metadata": {
  "kernelspec": {
   "display_name": "Python 3.8.10 64-bit",
   "language": "python",
   "name": "python3"
  },
  "language_info": {
   "codemirror_mode": {
    "name": "ipython",
    "version": 3
   },
   "file_extension": ".py",
   "mimetype": "text/x-python",
   "name": "python",
   "nbconvert_exporter": "python",
   "pygments_lexer": "ipython3",
   "version": "3.8.10"
  },
  "orig_nbformat": 4,
  "vscode": {
   "interpreter": {
    "hash": "e7370f93d1d0cde622a1f8e1c04877d8463912d04d973331ad4851f04de6915a"
   }
  }
 },
 "nbformat": 4,
 "nbformat_minor": 2
}
