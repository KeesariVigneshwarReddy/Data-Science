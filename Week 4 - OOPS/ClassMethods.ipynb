{
 "cells": [
  {
   "cell_type": "code",
   "execution_count": 48,
   "metadata": {},
   "outputs": [],
   "source": [
    "class PWSkills :\n",
    "    def __init__(self, name, email) :\n",
    "        self.name =  name\n",
    "        self.email = email\n",
    "    def student_details(self) :\n",
    "        print(self.name, self.email)"
   ]
  },
  {
   "cell_type": "code",
   "execution_count": 49,
   "metadata": {},
   "outputs": [],
   "source": [
    "pw = PWSkills(\"Vigneshwar\", \"vigneshwarbvuis@gmail.com\")"
   ]
  },
  {
   "cell_type": "code",
   "execution_count": 50,
   "metadata": {},
   "outputs": [
    {
     "name": "stdout",
     "output_type": "stream",
     "text": [
      "Vigneshwar\n",
      "vigneshwarbvuis@gmail.com\n"
     ]
    }
   ],
   "source": [
    "print(pw.name)\n",
    "print(pw.email)"
   ]
  },
  {
   "cell_type": "code",
   "execution_count": 51,
   "metadata": {},
   "outputs": [
    {
     "name": "stdout",
     "output_type": "stream",
     "text": [
      "Vigneshwar vigneshwarbvuis@gmail.com\n"
     ]
    }
   ],
   "source": [
    "pw.student_details()"
   ]
  },
  {
   "cell_type": "code",
   "execution_count": 52,
   "metadata": {},
   "outputs": [],
   "source": [
    "class PWSkills1 :\n",
    "    def __init__(self, name, email) :\n",
    "        self.name =  name\n",
    "        self.email = email\n",
    "    #inbuilt decorator\n",
    "    @classmethod\n",
    "    def details(cls, name1, email1) :\n",
    "        return cls(name1, email1)\n",
    "    def student_details(self) :\n",
    "        print(self.name, self.email)"
   ]
  },
  {
   "cell_type": "markdown",
   "metadata": {},
   "source": [
    "@classmethod\n",
    "    def details(cls, name, email) :\n",
    "        return cls(name, email)\n",
    "\n",
    "this is equivalent to\n",
    "\n",
    "def __init__(self, name, email) :\n",
    "        self.name =  name\n",
    "        self.email = email\n",
    "        "
   ]
  },
  {
   "cell_type": "code",
   "execution_count": 53,
   "metadata": {},
   "outputs": [],
   "source": [
    "# this statement creates an object of PWSkills1 class\n",
    "# in this way we have achieved function overloading \n",
    "# function overloading is directly not possible in python\n",
    "# it is possible with help of class methods\n",
    "pw1 = PWSkills1.details(\"Mohan\", \"mohan@gmail.com\")"
   ]
  },
  {
   "cell_type": "code",
   "execution_count": 54,
   "metadata": {},
   "outputs": [
    {
     "name": "stdout",
     "output_type": "stream",
     "text": [
      "Mohan\n",
      "mohan@gmail.com\n"
     ]
    }
   ],
   "source": [
    "print(pw1.name)\n",
    "print(pw1.email)"
   ]
  },
  {
   "cell_type": "code",
   "execution_count": 55,
   "metadata": {},
   "outputs": [
    {
     "name": "stdout",
     "output_type": "stream",
     "text": [
      "Mohan mohan@gmail.com\n"
     ]
    }
   ],
   "source": [
    "pw1.student_details()"
   ]
  },
  {
   "cell_type": "code",
   "execution_count": 56,
   "metadata": {},
   "outputs": [],
   "source": [
    "class PWSkills2 :\n",
    "    mobile_number = 9666841365\n",
    "    def __init__(self, name, email) :\n",
    "        self.name =  name\n",
    "        self.email = email\n",
    "    #inbuilt decorator\n",
    "    @classmethod\n",
    "    def details(cls, name1, email1) :\n",
    "        return cls(name1, email1)\n",
    "    @classmethod\n",
    "    def change_number (cls, mobile) :\n",
    "        PWSkills2.mobile_number = mobile\n",
    "    # instance method\n",
    "    def student_details(self) :\n",
    "        print(self.name, self.email, PWSkills2.mobile_number)"
   ]
  },
  {
   "cell_type": "markdown",
   "metadata": {},
   "source": [
    "Class method is something which is bind to class.\n",
    "we can access the method or variable simply using class name without creating an object."
   ]
  },
  {
   "cell_type": "code",
   "execution_count": 57,
   "metadata": {},
   "outputs": [
    {
     "data": {
      "text/plain": [
       "9666841365"
      ]
     },
     "execution_count": 57,
     "metadata": {},
     "output_type": "execute_result"
    }
   ],
   "source": [
    "# without creating a object we can access the variable since it is a class variable\n",
    "PWSkills2.mobile_number"
   ]
  },
  {
   "cell_type": "code",
   "execution_count": 58,
   "metadata": {},
   "outputs": [
    {
     "name": "stdout",
     "output_type": "stream",
     "text": [
      "Sohan sohan@gmail.com 9666841365\n"
     ]
    }
   ],
   "source": [
    "# this makes an object with the help of class methods\n",
    "pw2 = PWSkills2.details(\"Sohan\", \"sohan@gmail.com\")\n",
    "pw2.student_details()"
   ]
  },
  {
   "cell_type": "code",
   "execution_count": 59,
   "metadata": {},
   "outputs": [],
   "source": [
    "# this makes an object with the help of __init__ constructor \n",
    "pw2_obj = PWSkills2(\"Rohan\", \"rohan@gmail.com\")"
   ]
  },
  {
   "cell_type": "code",
   "execution_count": 60,
   "metadata": {},
   "outputs": [
    {
     "name": "stdout",
     "output_type": "stream",
     "text": [
      "Rohan rohan@gmail.com 9666841365\n"
     ]
    }
   ],
   "source": [
    "pw2_obj.student_details()"
   ]
  },
  {
   "cell_type": "code",
   "execution_count": 61,
   "metadata": {},
   "outputs": [],
   "source": [
    "PWSkills2.change_number(985741230)"
   ]
  },
  {
   "cell_type": "code",
   "execution_count": 62,
   "metadata": {},
   "outputs": [
    {
     "data": {
      "text/plain": [
       "985741230"
      ]
     },
     "execution_count": 62,
     "metadata": {},
     "output_type": "execute_result"
    }
   ],
   "source": [
    "# mobile number is changed\n",
    "PWSkills2.mobile_number"
   ]
  },
  {
   "cell_type": "code",
   "execution_count": 63,
   "metadata": {},
   "outputs": [],
   "source": [
    "pw2_obj1 = PWSkills2(\"Sohail\", \"sohail@gmail.com\")"
   ]
  },
  {
   "cell_type": "code",
   "execution_count": 64,
   "metadata": {},
   "outputs": [
    {
     "name": "stdout",
     "output_type": "stream",
     "text": [
      "Sohail sohail@gmail.com 985741230\n"
     ]
    }
   ],
   "source": [
    "pw2_obj1.student_details()"
   ]
  },
  {
   "cell_type": "code",
   "execution_count": 65,
   "metadata": {},
   "outputs": [
    {
     "data": {
      "text/plain": [
       "<__main__.PWSkills2 at 0x7f4520cd43d0>"
      ]
     },
     "execution_count": 65,
     "metadata": {},
     "output_type": "execute_result"
    }
   ],
   "source": [
    "# we can access class methods with the object name\n",
    "pw2_obj1.details(\"Vignesh\", \"vignesh@gmail.com\")"
   ]
  },
  {
   "cell_type": "code",
   "execution_count": 66,
   "metadata": {},
   "outputs": [
    {
     "name": "stdout",
     "output_type": "stream",
     "text": [
      "Sohail sohail@gmail.com 985741230\n"
     ]
    }
   ],
   "source": [
    "# But details of object are not changed\n",
    "pw2_obj1.student_details()"
   ]
  },
  {
   "cell_type": "code",
   "execution_count": 67,
   "metadata": {},
   "outputs": [],
   "source": [
    "pw2_obj1.change_number(9874563210)"
   ]
  },
  {
   "cell_type": "code",
   "execution_count": 68,
   "metadata": {},
   "outputs": [
    {
     "data": {
      "text/plain": [
       "9874563210"
      ]
     },
     "execution_count": 68,
     "metadata": {},
     "output_type": "execute_result"
    }
   ],
   "source": [
    "pw2_obj1.mobile_number"
   ]
  },
  {
   "cell_type": "code",
   "execution_count": 70,
   "metadata": {},
   "outputs": [],
   "source": [
    "class PWSkills3 :\n",
    "    mobile_number = 9666841365\n",
    "    def __init__(self, name, email) :\n",
    "        self.name =  name\n",
    "        self.email = email\n",
    "    #inbuilt decorator\n",
    "    @classmethod\n",
    "    def details(cls, name1, email1) :\n",
    "        return cls(name1, email1)\n",
    "    @classmethod\n",
    "    def change_number (cls, mobile) :\n",
    "        PWSkills2.mobile_number = mobile\n",
    "    # instance method\n",
    "    def student_details(self) :\n",
    "        print(self.name, self.email, PWSkills2.mobile_number)"
   ]
  },
  {
   "cell_type": "code",
   "execution_count": 71,
   "metadata": {},
   "outputs": [],
   "source": [
    "# external function\n",
    "def course_details(cls, course_name) :\n",
    "    print(\"course details \", course_name)"
   ]
  },
  {
   "cell_type": "code",
   "execution_count": 72,
   "metadata": {},
   "outputs": [],
   "source": [
    "# we are going to add external function to class PWSkills3\n",
    "PWSkills3.course_details = classmethod(course_details)"
   ]
  },
  {
   "cell_type": "code",
   "execution_count": 73,
   "metadata": {},
   "outputs": [
    {
     "name": "stdout",
     "output_type": "stream",
     "text": [
      "course details  Impact batch\n"
     ]
    }
   ],
   "source": [
    "PWSkills3.course_details(\"Impact batch\")"
   ]
  },
  {
   "cell_type": "code",
   "execution_count": 75,
   "metadata": {},
   "outputs": [],
   "source": [
    "pw3 = PWSkills3(\"Vignesh\", \"vigneshwar472@gmail.com\")"
   ]
  },
  {
   "cell_type": "code",
   "execution_count": 76,
   "metadata": {},
   "outputs": [
    {
     "name": "stdout",
     "output_type": "stream",
     "text": [
      "course details  web_dev\n"
     ]
    }
   ],
   "source": [
    "pw3.course_details(\"web_dev\")"
   ]
  },
  {
   "cell_type": "code",
   "execution_count": 77,
   "metadata": {},
   "outputs": [],
   "source": [
    "class PWSkills4 :\n",
    "    mobile_number = 9666841365\n",
    "    def __init__(self, name, email) :\n",
    "        self.name =  name\n",
    "        self.email = email\n",
    "    #inbuilt decorator\n",
    "    @classmethod\n",
    "    def details(cls, name1, email1) :\n",
    "        return cls(name1, email1)\n",
    "    @classmethod\n",
    "    def change_number (cls, mobile) :\n",
    "        PWSkills2.mobile_number = mobile\n",
    "    # instance method\n",
    "    def student_details(self) :\n",
    "        print(self.name, self.email, PWSkills2.mobile_number)"
   ]
  },
  {
   "cell_type": "code",
   "execution_count": 78,
   "metadata": {},
   "outputs": [],
   "source": [
    "# to delete a function from a class PWSkills4\n",
    "# technique 1\n",
    "del PWSkills4.change_number"
   ]
  },
  {
   "cell_type": "code",
   "execution_count": 79,
   "metadata": {},
   "outputs": [
    {
     "ename": "AttributeError",
     "evalue": "type object 'PWSkills4' has no attribute 'change_number'",
     "output_type": "error",
     "traceback": [
      "\u001b[0;31m---------------------------------------------------------------------------\u001b[0m",
      "\u001b[0;31mAttributeError\u001b[0m                            Traceback (most recent call last)",
      "Cell \u001b[0;32mIn[79], line 1\u001b[0m\n\u001b[0;32m----> 1\u001b[0m \u001b[43mPWSkills4\u001b[49m\u001b[38;5;241;43m.\u001b[39;49m\u001b[43mchange_number\u001b[49m\n",
      "\u001b[0;31mAttributeError\u001b[0m: type object 'PWSkills4' has no attribute 'change_number'"
     ]
    }
   ],
   "source": [
    "PWSkills4.change_number"
   ]
  },
  {
   "cell_type": "code",
   "execution_count": 80,
   "metadata": {},
   "outputs": [],
   "source": [
    "# technique 2\n",
    "delattr(PWSkills4, \"details\")"
   ]
  },
  {
   "cell_type": "code",
   "execution_count": 81,
   "metadata": {},
   "outputs": [
    {
     "ename": "AttributeError",
     "evalue": "type object 'PWSkills4' has no attribute 'details'",
     "output_type": "error",
     "traceback": [
      "\u001b[0;31m---------------------------------------------------------------------------\u001b[0m",
      "\u001b[0;31mAttributeError\u001b[0m                            Traceback (most recent call last)",
      "Cell \u001b[0;32mIn[81], line 1\u001b[0m\n\u001b[0;32m----> 1\u001b[0m \u001b[43mPWSkills4\u001b[49m\u001b[38;5;241;43m.\u001b[39;49m\u001b[43mdetails\u001b[49m\n",
      "\u001b[0;31mAttributeError\u001b[0m: type object 'PWSkills4' has no attribute 'details'"
     ]
    }
   ],
   "source": [
    "PWSkills4.details()"
   ]
  },
  {
   "cell_type": "code",
   "execution_count": 82,
   "metadata": {},
   "outputs": [
    {
     "data": {
      "text/plain": [
       "9666841365"
      ]
     },
     "execution_count": 82,
     "metadata": {},
     "output_type": "execute_result"
    }
   ],
   "source": [
    "PWSkills4.mobile_number"
   ]
  },
  {
   "cell_type": "code",
   "execution_count": 83,
   "metadata": {},
   "outputs": [],
   "source": [
    "delattr(PWSkills4, \"mobile_number\")"
   ]
  },
  {
   "cell_type": "code",
   "execution_count": 84,
   "metadata": {},
   "outputs": [
    {
     "ename": "AttributeError",
     "evalue": "type object 'PWSkills4' has no attribute 'mobile_number'",
     "output_type": "error",
     "traceback": [
      "\u001b[0;31m---------------------------------------------------------------------------\u001b[0m",
      "\u001b[0;31mAttributeError\u001b[0m                            Traceback (most recent call last)",
      "Cell \u001b[0;32mIn[84], line 1\u001b[0m\n\u001b[0;32m----> 1\u001b[0m \u001b[43mPWSkills4\u001b[49m\u001b[38;5;241;43m.\u001b[39;49m\u001b[43mmobile_number\u001b[49m\n",
      "\u001b[0;31mAttributeError\u001b[0m: type object 'PWSkills4' has no attribute 'mobile_number'"
     ]
    }
   ],
   "source": [
    "PWSkills4.mobile_number"
   ]
  },
  {
   "cell_type": "code",
   "execution_count": 85,
   "metadata": {},
   "outputs": [],
   "source": [
    "# deleting instance method\n",
    "delattr(PWSkills4, \"student_details\")"
   ]
  },
  {
   "cell_type": "code",
   "execution_count": 86,
   "metadata": {},
   "outputs": [
    {
     "ename": "AttributeError",
     "evalue": "type object 'PWSkills4' has no attribute 'student_details'",
     "output_type": "error",
     "traceback": [
      "\u001b[0;31m---------------------------------------------------------------------------\u001b[0m",
      "\u001b[0;31mAttributeError\u001b[0m                            Traceback (most recent call last)",
      "Cell \u001b[0;32mIn[86], line 1\u001b[0m\n\u001b[0;32m----> 1\u001b[0m \u001b[43mPWSkills4\u001b[49m\u001b[38;5;241;43m.\u001b[39;49m\u001b[43mstudent_details\u001b[49m()\n",
      "\u001b[0;31mAttributeError\u001b[0m: type object 'PWSkills4' has no attribute 'student_details'"
     ]
    }
   ],
   "source": [
    "PWSkills4.student_details()"
   ]
  },
  {
   "cell_type": "code",
   "execution_count": null,
   "metadata": {},
   "outputs": [],
   "source": []
  }
 ],
 "metadata": {
  "kernelspec": {
   "display_name": "Python 3.8.10 64-bit",
   "language": "python",
   "name": "python3"
  },
  "language_info": {
   "codemirror_mode": {
    "name": "ipython",
    "version": 3
   },
   "file_extension": ".py",
   "mimetype": "text/x-python",
   "name": "python",
   "nbconvert_exporter": "python",
   "pygments_lexer": "ipython3",
   "version": "3.8.10"
  },
  "orig_nbformat": 4,
  "vscode": {
   "interpreter": {
    "hash": "e7370f93d1d0cde622a1f8e1c04877d8463912d04d973331ad4851f04de6915a"
   }
  }
 },
 "nbformat": 4,
 "nbformat_minor": 2
}
