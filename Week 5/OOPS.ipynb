{
 "cells": [
  {
   "cell_type": "code",
   "execution_count": 1,
   "metadata": {},
   "outputs": [],
   "source": [
    "a = 1"
   ]
  },
  {
   "cell_type": "code",
   "execution_count": 2,
   "metadata": {},
   "outputs": [
    {
     "name": "stdout",
     "output_type": "stream",
     "text": [
      "<class 'int'>\n"
     ]
    }
   ],
   "source": [
    "print(type(a))"
   ]
  },
  {
   "cell_type": "code",
   "execution_count": 3,
   "metadata": {},
   "outputs": [
    {
     "name": "stdout",
     "output_type": "stream",
     "text": [
      "<class 'str'>\n"
     ]
    }
   ],
   "source": [
    "print(type(\"PWSkills\"))"
   ]
  },
  {
   "cell_type": "code",
   "execution_count": 4,
   "metadata": {},
   "outputs": [
    {
     "ename": "SyntaxError",
     "evalue": "unexpected EOF while parsing (625349465.py, line 1)",
     "output_type": "error",
     "traceback": [
      "\u001b[0;36m  Cell \u001b[0;32mIn[4], line 1\u001b[0;36m\u001b[0m\n\u001b[0;31m    class test :\u001b[0m\n\u001b[0m                ^\u001b[0m\n\u001b[0;31mSyntaxError\u001b[0m\u001b[0;31m:\u001b[0m unexpected EOF while parsing\n"
     ]
    }
   ],
   "source": [
    "class test :"
   ]
  },
  {
   "cell_type": "code",
   "execution_count": 5,
   "metadata": {},
   "outputs": [],
   "source": [
    "class test :\n",
    "    pass"
   ]
  },
  {
   "cell_type": "code",
   "execution_count": 6,
   "metadata": {},
   "outputs": [],
   "source": [
    "a = test()"
   ]
  },
  {
   "cell_type": "code",
   "execution_count": 8,
   "metadata": {},
   "outputs": [
    {
     "name": "stdout",
     "output_type": "stream",
     "text": [
      "<class '__main__.test'>\n"
     ]
    }
   ],
   "source": [
    "print(type(a))"
   ]
  },
  {
   "cell_type": "code",
   "execution_count": 15,
   "metadata": {},
   "outputs": [],
   "source": [
    "class PWSkills :\n",
    "    def welcome(self) :\n",
    "        print(\"Welcome to PW Skills\")"
   ]
  },
  {
   "cell_type": "code",
   "execution_count": 16,
   "metadata": {},
   "outputs": [],
   "source": [
    "rohan = PWSkills()"
   ]
  },
  {
   "cell_type": "code",
   "execution_count": 17,
   "metadata": {},
   "outputs": [
    {
     "name": "stdout",
     "output_type": "stream",
     "text": [
      "Welcome to PW Skills\n"
     ]
    }
   ],
   "source": [
    "rohan.welcome()"
   ]
  },
  {
   "cell_type": "code",
   "execution_count": 18,
   "metadata": {},
   "outputs": [
    {
     "name": "stdout",
     "output_type": "stream",
     "text": [
      "Welcome to PW Skills\n"
     ]
    }
   ],
   "source": [
    "sohan = PWSkills()\n",
    "sohan.welcome()"
   ]
  },
  {
   "cell_type": "code",
   "execution_count": 19,
   "metadata": {},
   "outputs": [],
   "source": [
    "a = 1"
   ]
  },
  {
   "cell_type": "code",
   "execution_count": 20,
   "metadata": {},
   "outputs": [],
   "source": [
    "b = 2"
   ]
  },
  {
   "cell_type": "code",
   "execution_count": 22,
   "metadata": {},
   "outputs": [
    {
     "name": "stdout",
     "output_type": "stream",
     "text": [
      "1\n",
      "2\n"
     ]
    }
   ],
   "source": [
    "print(a)\n",
    "print(b)"
   ]
  },
  {
   "cell_type": "code",
   "execution_count": 28,
   "metadata": {},
   "outputs": [],
   "source": [
    "class PWSkills1 :\n",
    "    #constructor\n",
    "    def __init__(self, PhoneNumber, Email, RollNumber) :\n",
    "        self.PhoneNumber = PhoneNumber\n",
    "        self.Email = Email\n",
    "        self.RollNumber = RollNumber\n",
    "    def return_student_details(self) :\n",
    "        return self.PhoneNumber, self.Email, self.RollNumber"
   ]
  },
  {
   "cell_type": "code",
   "execution_count": 29,
   "metadata": {},
   "outputs": [
    {
     "ename": "TypeError",
     "evalue": "__init__() missing 3 required positional arguments: 'PhoneNumber', 'Email', and 'RollNumber'",
     "output_type": "error",
     "traceback": [
      "\u001b[0;31m---------------------------------------------------------------------------\u001b[0m",
      "\u001b[0;31mTypeError\u001b[0m                                 Traceback (most recent call last)",
      "Cell \u001b[0;32mIn[29], line 1\u001b[0m\n\u001b[0;32m----> 1\u001b[0m rohan \u001b[38;5;241m=\u001b[39m \u001b[43mPWSkills1\u001b[49m\u001b[43m(\u001b[49m\u001b[43m)\u001b[49m\n",
      "\u001b[0;31mTypeError\u001b[0m: __init__() missing 3 required positional arguments: 'PhoneNumber', 'Email', and 'RollNumber'"
     ]
    }
   ],
   "source": [
    "rohan = PWSkills1()"
   ]
  },
  {
   "cell_type": "code",
   "execution_count": 30,
   "metadata": {},
   "outputs": [],
   "source": [
    "rohan = PWSkills1(1234567890, \"rohan@gmail.com\", \"22UCC963\")"
   ]
  },
  {
   "cell_type": "code",
   "execution_count": 32,
   "metadata": {},
   "outputs": [
    {
     "name": "stdout",
     "output_type": "stream",
     "text": [
      "1234567890\n",
      "rohan@gmail.com\n",
      "22UCC963\n"
     ]
    }
   ],
   "source": [
    "print(rohan.PhoneNumber)\n",
    "print(rohan.Email)\n",
    "print(rohan.RollNumber)"
   ]
  },
  {
   "cell_type": "code",
   "execution_count": 33,
   "metadata": {},
   "outputs": [
    {
     "data": {
      "text/plain": [
       "(1234567890, 'rohan@gmail.com', '22UCC963')"
      ]
     },
     "execution_count": 33,
     "metadata": {},
     "output_type": "execute_result"
    }
   ],
   "source": [
    "# returns in the form of a tuple\n",
    "rohan.return_student_details()"
   ]
  },
  {
   "cell_type": "code",
   "execution_count": 36,
   "metadata": {},
   "outputs": [],
   "source": [
    "# filling sohan's data\n",
    "sohan = PWSkills1(9632587410, \"sohan@gmail.com\", \"22UCS111\")"
   ]
  },
  {
   "cell_type": "code",
   "execution_count": 37,
   "metadata": {},
   "outputs": [
    {
     "name": "stdout",
     "output_type": "stream",
     "text": [
      "9632587410\n",
      "sohan@gmail.com\n",
      "22UCS111\n"
     ]
    },
    {
     "data": {
      "text/plain": [
       "(9632587410, 'sohan@gmail.com', '22UCS111')"
      ]
     },
     "execution_count": 37,
     "metadata": {},
     "output_type": "execute_result"
    }
   ],
   "source": [
    "# printing all details of sohan\n",
    "print(sohan.PhoneNumber)\n",
    "print(sohan.Email)\n",
    "print(sohan.RollNumber)\n",
    "sohan.return_student_details()"
   ]
  },
  {
   "cell_type": "code",
   "execution_count": 38,
   "metadata": {},
   "outputs": [],
   "source": [
    "class PWSkills2 :\n",
    "    #constructor\n",
    "    def __init__(Vignesh, PhoneNumber, Email, RollNumber) :\n",
    "        Vignesh.PhoneNumber = PhoneNumber\n",
    "        Vignesh.Email = Email\n",
    "        Vignesh.RollNumber = RollNumber\n",
    "    def return_student_details(Vignesh) :\n",
    "        return Vignesh.PhoneNumber, Vignesh.Email, Vignesh.RollNumber"
   ]
  },
  {
   "cell_type": "code",
   "execution_count": 39,
   "metadata": {},
   "outputs": [],
   "source": [
    "mohan = PWSkills2(8523697410, \"mohan@gmail.com\", \"22UCC001\")"
   ]
  },
  {
   "cell_type": "code",
   "execution_count": 41,
   "metadata": {},
   "outputs": [
    {
     "name": "stdout",
     "output_type": "stream",
     "text": [
      "8523697410\n",
      "mohan@gmail.com\n",
      "22UCC001\n"
     ]
    },
    {
     "data": {
      "text/plain": [
       "(8523697410, 'mohan@gmail.com', '22UCC001')"
      ]
     },
     "execution_count": 41,
     "metadata": {},
     "output_type": "execute_result"
    }
   ],
   "source": [
    "# printing all details of mohan\n",
    "print(mohan.PhoneNumber)\n",
    "print(mohan.Email)\n",
    "print(mohan.RollNumber)\n",
    "mohan.return_student_details()\n",
    "# self is not a key word but it is a reference inside the class to assign values\n",
    "# you can use any other thing in place of self\n",
    "# self is convention"
   ]
  },
  {
   "cell_type": "code",
   "execution_count": 51,
   "metadata": {},
   "outputs": [],
   "source": [
    "class PWSkills3 :\n",
    "    #constructor\n",
    "    def __init__(Vignesh, PhoneNumber, Email, RollNumber) :\n",
    "        Vignesh.PhoneNumber1 = PhoneNumber\n",
    "        Vignesh.Email = Email\n",
    "        Vignesh.RollNumber = RollNumber\n",
    "    def return_student_details(Vignesh) :\n",
    "        return Vignesh.PhoneNumber1, Vignesh.Email, Vignesh.RollNumber"
   ]
  },
  {
   "cell_type": "code",
   "execution_count": 52,
   "metadata": {},
   "outputs": [],
   "source": [
    "rohan = PWSkills3(6416968, \"rohan@gmail.com\", 569)"
   ]
  },
  {
   "cell_type": "code",
   "execution_count": 53,
   "metadata": {},
   "outputs": [
    {
     "ename": "AttributeError",
     "evalue": "'PWSkills3' object has no attribute 'PhoneNumber'",
     "output_type": "error",
     "traceback": [
      "\u001b[0;31m---------------------------------------------------------------------------\u001b[0m",
      "\u001b[0;31mAttributeError\u001b[0m                            Traceback (most recent call last)",
      "Cell \u001b[0;32mIn[53], line 3\u001b[0m\n\u001b[1;32m      1\u001b[0m \u001b[38;5;66;03m# To access phone number of object rohan you should call rohan.PhoneNumber1()\u001b[39;00m\n\u001b[1;32m      2\u001b[0m \u001b[38;5;66;03m# class only understands the variable which is associated with self or reference variable\u001b[39;00m\n\u001b[0;32m----> 3\u001b[0m \u001b[43mrohan\u001b[49m\u001b[38;5;241;43m.\u001b[39;49m\u001b[43mPhoneNumber\u001b[49m\n",
      "\u001b[0;31mAttributeError\u001b[0m: 'PWSkills3' object has no attribute 'PhoneNumber'"
     ]
    }
   ],
   "source": [
    "# To access phone number of object rohan you should call rohan.PhoneNumber1()\n",
    "# class only understands the variable which is associated with self or reference variable\n",
    "rohan.PhoneNumber"
   ]
  },
  {
   "cell_type": "code",
   "execution_count": 54,
   "metadata": {},
   "outputs": [
    {
     "data": {
      "text/plain": [
       "6416968"
      ]
     },
     "execution_count": 54,
     "metadata": {},
     "output_type": "execute_result"
    }
   ],
   "source": [
    "rohan.PhoneNumber1"
   ]
  },
  {
   "cell_type": "code",
   "execution_count": 55,
   "metadata": {},
   "outputs": [
    {
     "data": {
      "text/plain": [
       "(6416968, 'rohan@gmail.com', 569)"
      ]
     },
     "execution_count": 55,
     "metadata": {},
     "output_type": "execute_result"
    }
   ],
   "source": [
    "rohan.return_student_details()"
   ]
  },
  {
   "cell_type": "code",
   "execution_count": null,
   "metadata": {},
   "outputs": [],
   "source": []
  }
 ],
 "metadata": {
  "kernelspec": {
   "display_name": "Python 3.8.10 64-bit",
   "language": "python",
   "name": "python3"
  },
  "language_info": {
   "codemirror_mode": {
    "name": "ipython",
    "version": 3
   },
   "file_extension": ".py",
   "mimetype": "text/x-python",
   "name": "python",
   "nbconvert_exporter": "python",
   "pygments_lexer": "ipython3",
   "version": "3.8.10"
  },
  "orig_nbformat": 4,
  "vscode": {
   "interpreter": {
    "hash": "e7370f93d1d0cde622a1f8e1c04877d8463912d04d973331ad4851f04de6915a"
   }
  }
 },
 "nbformat": 4,
 "nbformat_minor": 2
}
