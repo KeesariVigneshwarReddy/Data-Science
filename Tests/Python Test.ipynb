{
 "cells": [
  {
   "cell_type": "markdown",
   "metadata": {},
   "source": [
    "# Question 1\n",
    "Write a Python program that defines a function called \"add_numbers\" that takes two\n",
    "arguments (i.e.,\n",
    "numbers) and returns their sum. Within the function, add the two numbers together and return\n",
    "the result\n",
    "using the return statement. Call the function with the values 5 and 6, and print out the returned\n",
    "result.\n",
    "This will result in the addition of 5 and 6, with the output of the program being the sum of these\n",
    "two\n",
    "numbers."
   ]
  },
  {
   "cell_type": "code",
   "execution_count": 2,
   "metadata": {},
   "outputs": [
    {
     "name": "stdout",
     "output_type": "stream",
     "text": [
      "11\n"
     ]
    }
   ],
   "source": [
    "def add(a : int, b : int) :\n",
    "    return a + b\n",
    "\n",
    "result = add(5, 6)\n",
    "print(result)"
   ]
  },
  {
   "cell_type": "markdown",
   "metadata": {},
   "source": [
    "# Question 2\n",
    "Write a Python program that calculates the square root of a given number using a built-in\n",
    "function.\n",
    "Specifically, the program should take an integer or float input from the user, calculate its square\n",
    "root\n",
    "using the 'sqrt()' function from the 'math' module, and print out the result to the user. As an\n",
    "example,\n",
    "calculate the square root of the number 625 using this program, which should output the value\n",
    "of 25."
   ]
  },
  {
   "cell_type": "code",
   "execution_count": 4,
   "metadata": {},
   "outputs": [
    {
     "name": "stdout",
     "output_type": "stream",
     "text": [
      "25.0\n"
     ]
    }
   ],
   "source": [
    "import math\n",
    "n : int = int(input(\"Enter the number\"))\n",
    "print(math.sqrt(n))"
   ]
  },
  {
   "cell_type": "markdown",
   "metadata": {},
   "source": [
    "# Question 3\n",
    "Write a program that prints all prime numbers between 0 to 50."
   ]
  },
  {
   "cell_type": "code",
   "execution_count": 5,
   "metadata": {},
   "outputs": [
    {
     "name": "stdout",
     "output_type": "stream",
     "text": [
      "0\n",
      "1\n",
      "2\n",
      "3\n",
      "5\n",
      "7\n",
      "11\n",
      "13\n",
      "17\n",
      "19\n",
      "23\n",
      "29\n",
      "31\n",
      "37\n",
      "41\n",
      "43\n",
      "47\n"
     ]
    }
   ],
   "source": [
    "def isPrime(n : int) :\n",
    "    max = int(math.sqrt(n))\n",
    "    for i in range(2, max + 1) :\n",
    "        if n % i == 0 :\n",
    "            return False\n",
    "    return True \n",
    "\n",
    "for i in range(51) :\n",
    "    if isPrime(i) == True :\n",
    "        print(i)"
   ]
  },
  {
   "cell_type": "markdown",
   "metadata": {},
   "source": [
    "# Question 4\n",
    "How can we swap the values of three variables (let's say a, b, and c) without using a fourth\n",
    "variable?\n",
    "For example, if we have a=5, b=8, and c=9, how can we obtain a=9, b=5, and c=8? The\n",
    "challenge is to\n",
    "perform this operation without using an additional variable to store any of the values during the\n",
    "swapping process."
   ]
  },
  {
   "cell_type": "code",
   "execution_count": 8,
   "metadata": {},
   "outputs": [
    {
     "name": "stdout",
     "output_type": "stream",
     "text": [
      "Before\n",
      "a = 5\n",
      "b = 8\n",
      "c = 9\n",
      "After\n",
      "a = 9\n",
      "b = 5\n",
      "c = 8\n"
     ]
    }
   ],
   "source": [
    "def swap(n1 : int, n2 : int) :\n",
    "    n1 = n1 + n2\n",
    "    n2 = n1 - n2\n",
    "    n1 = n1 - n2\n",
    "    return n1, n2\n",
    "\n",
    "a = 5\n",
    "b = 8\n",
    "c = 9\n",
    "\n",
    "print(f\"Before\\na = {a}\\nb = {b}\\nc = {c}\")\n",
    "\n",
    "a, b = swap(a, b)\n",
    "a, c = swap(a, c)\n",
    "\n",
    "print(f\"After\\na = {a}\\nb = {b}\\nc = {c}\")"
   ]
  },
  {
   "cell_type": "markdown",
   "metadata": {},
   "source": [
    "# Question 5\n",
    "Can you write a program that determines the nature of a given number (in this case, 87) as\n",
    "being\n",
    "positive, negative, or zero? The program should be designed to take the number as input and\n",
    "perform the\n",
    "necessary calculations to determine if the number is positive (i.e., greater than zero), negative\n",
    "(i.e., less\n",
    "than zero), or zero (i.e., equal to zero). The output of the program should indicate which of these\n",
    "three\n",
    "categories the given number falls into."
   ]
  },
  {
   "cell_type": "code",
   "execution_count": 10,
   "metadata": {},
   "outputs": [
    {
     "name": "stdout",
     "output_type": "stream",
     "text": [
      "Zero\n"
     ]
    }
   ],
   "source": [
    "n = int(input(\"Enter n\"))\n",
    "\n",
    "if n < 0 :\n",
    "    print(\"Negative\")\n",
    "elif n == 0 :\n",
    "    print(\"Zero\")\n",
    "else :\n",
    "    print(\"Positive\")"
   ]
  },
  {
   "cell_type": "markdown",
   "metadata": {},
   "source": []
  },
  {
   "cell_type": "code",
   "execution_count": null,
   "metadata": {},
   "outputs": [],
   "source": []
  }
 ],
 "metadata": {
  "kernelspec": {
   "display_name": "Python 3.8.10 64-bit",
   "language": "python",
   "name": "python3"
  },
  "language_info": {
   "codemirror_mode": {
    "name": "ipython",
    "version": 3
   },
   "file_extension": ".py",
   "mimetype": "text/x-python",
   "name": "python",
   "nbconvert_exporter": "python",
   "pygments_lexer": "ipython3",
   "version": "3.8.10"
  },
  "orig_nbformat": 4,
  "vscode": {
   "interpreter": {
    "hash": "e7370f93d1d0cde622a1f8e1c04877d8463912d04d973331ad4851f04de6915a"
   }
  }
 },
 "nbformat": 4,
 "nbformat_minor": 2
}
